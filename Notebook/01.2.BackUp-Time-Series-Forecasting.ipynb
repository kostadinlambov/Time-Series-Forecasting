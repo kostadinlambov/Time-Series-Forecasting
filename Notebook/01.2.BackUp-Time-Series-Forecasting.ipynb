{
 "cells": [
  {
   "cell_type": "code",
   "execution_count": 1,
   "id": "2b201182-2a93-462b-8841-f33bfe710f39",
   "metadata": {},
   "outputs": [],
   "source": [
    "import pandas as pd\n",
    "import numpy as np\n",
    "import matplotlib.pyplot as plt\n",
    "import seaborn as sns\n",
    "\n",
    "from statsmodels.tsa.seasonal import STL, seasonal_decompose\n",
    "from statsmodels.tsa.stattools import pacf\n",
    "from statsmodels.graphics.tsaplots import plot_acf, plot_pacf\n",
    "\n",
    "from sklearn.preprocessing import MinMaxScaler\n",
    "from sklearn.model_selection import train_test_split\n",
    "\n",
    "import tensorflow as tf\n",
    "from tensorflow.keras.models import Sequential, load_model\n",
    "from tensorflow.keras.layers import LSTM, Dense, Attention, Dropout, Conv1D, MaxPooling1D, Flatten, Input, Concatenate\n",
    "from tensorflow.keras.callbacks import EarlyStopping, ModelCheckpoint\n",
    "from sklearn.metrics import mean_squared_error, mean_absolute_error"
   ]
  },
  {
   "cell_type": "markdown",
   "id": "2576bc04-0a9c-4cac-9ee6-bc336861b6f6",
   "metadata": {},
   "source": [
    "# Time-Series-Forecasting"
   ]
  },
  {
   "cell_type": "markdown",
   "id": "1bf7ce8e-9a6e-452d-94c2-f52a8e419c02",
   "metadata": {},
   "source": [
    "## 4. Data Processing"
   ]
  },
  {
   "cell_type": "markdown",
   "id": "298ea061-1c01-4a30-94c6-5c4ff801a2ff",
   "metadata": {},
   "source": [
    "### 4.1. Load historical Bitcoin price data"
   ]
  },
  {
   "cell_type": "markdown",
   "id": "8aa0591d-84da-4570-aae7-865900b1ad8f",
   "metadata": {},
   "source": [
    "The historical Bitcoin price data were downloaded from the **Coinbase API**. The dataset contains the price data for **1 year**, from **November 2023** to **October 2024**."
   ]
  },
  {
   "cell_type": "code",
   "execution_count": 2,
   "id": "45caf60f-3327-4dd7-809f-3adffd64e0e9",
   "metadata": {},
   "outputs": [
    {
     "data": {
      "text/html": [
       "<div>\n",
       "<style scoped>\n",
       "    .dataframe tbody tr th:only-of-type {\n",
       "        vertical-align: middle;\n",
       "    }\n",
       "\n",
       "    .dataframe tbody tr th {\n",
       "        vertical-align: top;\n",
       "    }\n",
       "\n",
       "    .dataframe thead th {\n",
       "        text-align: right;\n",
       "    }\n",
       "</style>\n",
       "<table border=\"1\" class=\"dataframe\">\n",
       "  <thead>\n",
       "    <tr style=\"text-align: right;\">\n",
       "      <th></th>\n",
       "      <th>timestamp</th>\n",
       "      <th>open</th>\n",
       "      <th>high</th>\n",
       "      <th>low</th>\n",
       "      <th>close</th>\n",
       "      <th>volume</th>\n",
       "    </tr>\n",
       "  </thead>\n",
       "  <tbody>\n",
       "    <tr>\n",
       "      <th>0</th>\n",
       "      <td>2024-01-25 00:00:00</td>\n",
       "      <td>40051.20</td>\n",
       "      <td>40079.88</td>\n",
       "      <td>40079.87</td>\n",
       "      <td>40051.80</td>\n",
       "      <td>6.601578</td>\n",
       "    </tr>\n",
       "    <tr>\n",
       "      <th>1</th>\n",
       "      <td>2024-01-25 00:01:00</td>\n",
       "      <td>40041.00</td>\n",
       "      <td>40070.32</td>\n",
       "      <td>40051.60</td>\n",
       "      <td>40061.92</td>\n",
       "      <td>7.541910</td>\n",
       "    </tr>\n",
       "    <tr>\n",
       "      <th>2</th>\n",
       "      <td>2024-01-25 00:02:00</td>\n",
       "      <td>40038.13</td>\n",
       "      <td>40068.79</td>\n",
       "      <td>40061.59</td>\n",
       "      <td>40042.82</td>\n",
       "      <td>7.078218</td>\n",
       "    </tr>\n",
       "    <tr>\n",
       "      <th>3</th>\n",
       "      <td>2024-01-25 00:03:00</td>\n",
       "      <td>40043.36</td>\n",
       "      <td>40056.15</td>\n",
       "      <td>40043.36</td>\n",
       "      <td>40055.80</td>\n",
       "      <td>1.614071</td>\n",
       "    </tr>\n",
       "    <tr>\n",
       "      <th>4</th>\n",
       "      <td>2024-01-25 00:04:00</td>\n",
       "      <td>40052.64</td>\n",
       "      <td>40063.21</td>\n",
       "      <td>40056.15</td>\n",
       "      <td>40063.20</td>\n",
       "      <td>1.924187</td>\n",
       "    </tr>\n",
       "    <tr>\n",
       "      <th>...</th>\n",
       "      <td>...</td>\n",
       "      <td>...</td>\n",
       "      <td>...</td>\n",
       "      <td>...</td>\n",
       "      <td>...</td>\n",
       "      <td>...</td>\n",
       "    </tr>\n",
       "    <tr>\n",
       "      <th>527180</th>\n",
       "      <td>2025-01-23 23:56:00</td>\n",
       "      <td>104047.01</td>\n",
       "      <td>104112.45</td>\n",
       "      <td>104064.68</td>\n",
       "      <td>104079.63</td>\n",
       "      <td>6.922352</td>\n",
       "    </tr>\n",
       "    <tr>\n",
       "      <th>527181</th>\n",
       "      <td>2025-01-23 23:57:00</td>\n",
       "      <td>104052.01</td>\n",
       "      <td>104088.97</td>\n",
       "      <td>104079.63</td>\n",
       "      <td>104079.60</td>\n",
       "      <td>1.628341</td>\n",
       "    </tr>\n",
       "    <tr>\n",
       "      <th>527182</th>\n",
       "      <td>2025-01-23 23:58:00</td>\n",
       "      <td>103928.31</td>\n",
       "      <td>104088.89</td>\n",
       "      <td>104079.60</td>\n",
       "      <td>103964.62</td>\n",
       "      <td>10.861781</td>\n",
       "    </tr>\n",
       "    <tr>\n",
       "      <th>527183</th>\n",
       "      <td>2025-01-23 23:59:00</td>\n",
       "      <td>103900.00</td>\n",
       "      <td>103973.87</td>\n",
       "      <td>103964.62</td>\n",
       "      <td>103926.36</td>\n",
       "      <td>6.802193</td>\n",
       "    </tr>\n",
       "    <tr>\n",
       "      <th>527184</th>\n",
       "      <td>2025-01-24 00:00:00</td>\n",
       "      <td>103857.80</td>\n",
       "      <td>103947.90</td>\n",
       "      <td>103926.36</td>\n",
       "      <td>103889.08</td>\n",
       "      <td>17.378134</td>\n",
       "    </tr>\n",
       "  </tbody>\n",
       "</table>\n",
       "<p>527185 rows × 6 columns</p>\n",
       "</div>"
      ],
      "text/plain": [
       "                  timestamp       open       high        low      close  \\\n",
       "0       2024-01-25 00:00:00   40051.20   40079.88   40079.87   40051.80   \n",
       "1       2024-01-25 00:01:00   40041.00   40070.32   40051.60   40061.92   \n",
       "2       2024-01-25 00:02:00   40038.13   40068.79   40061.59   40042.82   \n",
       "3       2024-01-25 00:03:00   40043.36   40056.15   40043.36   40055.80   \n",
       "4       2024-01-25 00:04:00   40052.64   40063.21   40056.15   40063.20   \n",
       "...                     ...        ...        ...        ...        ...   \n",
       "527180  2025-01-23 23:56:00  104047.01  104112.45  104064.68  104079.63   \n",
       "527181  2025-01-23 23:57:00  104052.01  104088.97  104079.63  104079.60   \n",
       "527182  2025-01-23 23:58:00  103928.31  104088.89  104079.60  103964.62   \n",
       "527183  2025-01-23 23:59:00  103900.00  103973.87  103964.62  103926.36   \n",
       "527184  2025-01-24 00:00:00  103857.80  103947.90  103926.36  103889.08   \n",
       "\n",
       "           volume  \n",
       "0        6.601578  \n",
       "1        7.541910  \n",
       "2        7.078218  \n",
       "3        1.614071  \n",
       "4        1.924187  \n",
       "...           ...  \n",
       "527180   6.922352  \n",
       "527181   1.628341  \n",
       "527182  10.861781  \n",
       "527183   6.802193  \n",
       "527184  17.378134  \n",
       "\n",
       "[527185 rows x 6 columns]"
      ]
     },
     "execution_count": 2,
     "metadata": {},
     "output_type": "execute_result"
    }
   ],
   "source": [
    "btc_price_data_1_year = pd.read_csv(\"data/bitcoin_historical_data_1_year.csv\")\n",
    "btc_price_data_1_year"
   ]
  },
  {
   "cell_type": "code",
   "execution_count": 3,
   "id": "dfe5be73-1260-46ba-9fbb-78b203197109",
   "metadata": {},
   "outputs": [],
   "source": [
    "# get hourly data\n",
    "#btc_price_data_1_year[0::60]"
   ]
  },
  {
   "cell_type": "code",
   "execution_count": 4,
   "id": "9f7a468c-012e-460b-b9cd-4e2e36f0d87b",
   "metadata": {},
   "outputs": [
    {
     "data": {
      "text/html": [
       "<div>\n",
       "<style scoped>\n",
       "    .dataframe tbody tr th:only-of-type {\n",
       "        vertical-align: middle;\n",
       "    }\n",
       "\n",
       "    .dataframe tbody tr th {\n",
       "        vertical-align: top;\n",
       "    }\n",
       "\n",
       "    .dataframe thead th {\n",
       "        text-align: right;\n",
       "    }\n",
       "</style>\n",
       "<table border=\"1\" class=\"dataframe\">\n",
       "  <thead>\n",
       "    <tr style=\"text-align: right;\">\n",
       "      <th></th>\n",
       "      <th>count</th>\n",
       "      <th>mean</th>\n",
       "      <th>std</th>\n",
       "      <th>min</th>\n",
       "      <th>25%</th>\n",
       "      <th>50%</th>\n",
       "      <th>75%</th>\n",
       "      <th>max</th>\n",
       "    </tr>\n",
       "  </thead>\n",
       "  <tbody>\n",
       "    <tr>\n",
       "      <th>open</th>\n",
       "      <td>527185.0</td>\n",
       "      <td>69423.311389</td>\n",
       "      <td>15429.285709</td>\n",
       "      <td>39503.000000</td>\n",
       "      <td>60757.240000</td>\n",
       "      <td>65736.790000</td>\n",
       "      <td>70694.260000</td>\n",
       "      <td>108768.040000</td>\n",
       "    </tr>\n",
       "    <tr>\n",
       "      <th>high</th>\n",
       "      <td>527185.0</td>\n",
       "      <td>69484.281813</td>\n",
       "      <td>15445.681849</td>\n",
       "      <td>39544.660000</td>\n",
       "      <td>60803.890000</td>\n",
       "      <td>65783.580000</td>\n",
       "      <td>70750.800000</td>\n",
       "      <td>109358.010000</td>\n",
       "    </tr>\n",
       "    <tr>\n",
       "      <th>low</th>\n",
       "      <td>527185.0</td>\n",
       "      <td>69453.742158</td>\n",
       "      <td>15437.450474</td>\n",
       "      <td>39533.470000</td>\n",
       "      <td>60780.210000</td>\n",
       "      <td>65760.090000</td>\n",
       "      <td>70723.790000</td>\n",
       "      <td>108954.900000</td>\n",
       "    </tr>\n",
       "    <tr>\n",
       "      <th>close</th>\n",
       "      <td>527185.0</td>\n",
       "      <td>69454.050246</td>\n",
       "      <td>15437.463194</td>\n",
       "      <td>39533.480000</td>\n",
       "      <td>60780.690000</td>\n",
       "      <td>65760.220000</td>\n",
       "      <td>70723.000000</td>\n",
       "      <td>108951.030000</td>\n",
       "    </tr>\n",
       "    <tr>\n",
       "      <th>volume</th>\n",
       "      <td>527185.0</td>\n",
       "      <td>8.978855</td>\n",
       "      <td>16.369091</td>\n",
       "      <td>0.000166</td>\n",
       "      <td>1.669723</td>\n",
       "      <td>3.956193</td>\n",
       "      <td>9.717255</td>\n",
       "      <td>1047.117525</td>\n",
       "    </tr>\n",
       "  </tbody>\n",
       "</table>\n",
       "</div>"
      ],
      "text/plain": [
       "           count          mean           std           min           25%  \\\n",
       "open    527185.0  69423.311389  15429.285709  39503.000000  60757.240000   \n",
       "high    527185.0  69484.281813  15445.681849  39544.660000  60803.890000   \n",
       "low     527185.0  69453.742158  15437.450474  39533.470000  60780.210000   \n",
       "close   527185.0  69454.050246  15437.463194  39533.480000  60780.690000   \n",
       "volume  527185.0      8.978855     16.369091      0.000166      1.669723   \n",
       "\n",
       "                 50%           75%            max  \n",
       "open    65736.790000  70694.260000  108768.040000  \n",
       "high    65783.580000  70750.800000  109358.010000  \n",
       "low     65760.090000  70723.790000  108954.900000  \n",
       "close   65760.220000  70723.000000  108951.030000  \n",
       "volume      3.956193      9.717255    1047.117525  "
      ]
     },
     "execution_count": 4,
     "metadata": {},
     "output_type": "execute_result"
    }
   ],
   "source": [
    "btc_price_data_1_year.describe().T"
   ]
  },
  {
   "cell_type": "code",
   "execution_count": 5,
   "id": "2b50a4fa-367c-4a47-a0ff-a2f962a5305c",
   "metadata": {},
   "outputs": [
    {
     "data": {
      "text/plain": [
       "timestamp     object\n",
       "open         float64\n",
       "high         float64\n",
       "low          float64\n",
       "close        float64\n",
       "volume       float64\n",
       "dtype: object"
      ]
     },
     "execution_count": 5,
     "metadata": {},
     "output_type": "execute_result"
    }
   ],
   "source": [
    "btc_price_data_1_year.dtypes"
   ]
  },
  {
   "cell_type": "code",
   "execution_count": 6,
   "id": "fd42f3a8-f906-4807-9d45-c507df99a0eb",
   "metadata": {},
   "outputs": [
    {
     "data": {
      "text/plain": [
       "timestamp    0\n",
       "open         0\n",
       "high         0\n",
       "low          0\n",
       "close        0\n",
       "volume       0\n",
       "dtype: int64"
      ]
     },
     "execution_count": 6,
     "metadata": {},
     "output_type": "execute_result"
    }
   ],
   "source": [
    "btc_price_data_1_year.isnull().sum()"
   ]
  },
  {
   "cell_type": "markdown",
   "id": "27233a22-cc65-4525-9aed-f1974dd2ff54",
   "metadata": {},
   "source": [
    "### 4.2. Data Tidying and Cleaning"
   ]
  },
  {
   "cell_type": "markdown",
   "id": "0dcb83a9-51e6-44ec-8708-9edcce19fe18",
   "metadata": {},
   "source": [
    "Convert the `timestamp` column from *object* type to *datetime64* type."
   ]
  },
  {
   "cell_type": "code",
   "execution_count": 7,
   "id": "01b270c9-459c-46a5-a252-043ccd4fc3e2",
   "metadata": {},
   "outputs": [],
   "source": [
    "btc_price_data_1_year.timestamp = pd.to_datetime(btc_price_data_1_year.timestamp)"
   ]
  },
  {
   "cell_type": "code",
   "execution_count": 8,
   "id": "30e270d5-7206-4a78-9b1c-586cb02de03d",
   "metadata": {},
   "outputs": [
    {
     "data": {
      "text/plain": [
       "timestamp    datetime64[ns]\n",
       "open                float64\n",
       "high                float64\n",
       "low                 float64\n",
       "close               float64\n",
       "volume              float64\n",
       "dtype: object"
      ]
     },
     "execution_count": 8,
     "metadata": {},
     "output_type": "execute_result"
    }
   ],
   "source": [
    "btc_price_data_1_year.dtypes"
   ]
  },
  {
   "cell_type": "markdown",
   "id": "79f34163-d0f3-411b-85bc-585c3e624daa",
   "metadata": {},
   "source": [
    "Set `timestamp` as index."
   ]
  },
  {
   "cell_type": "code",
   "execution_count": 9,
   "id": "e6ce3e13-9775-418f-9877-155e1cd04660",
   "metadata": {},
   "outputs": [],
   "source": [
    "btc_price_data_1_year.set_index('timestamp', inplace=True, drop = True)"
   ]
  },
  {
   "cell_type": "code",
   "execution_count": 10,
   "id": "27b659ea-24bd-443c-a0a2-a8ab824dc5d4",
   "metadata": {},
   "outputs": [],
   "source": [
    "# Ensure the data is sorted by time\n",
    "btc_price_data_1_year = btc_price_data_1_year.sort_index()"
   ]
  },
  {
   "cell_type": "code",
   "execution_count": 11,
   "id": "336e0203-bda2-4920-ae71-b0713bc17116",
   "metadata": {},
   "outputs": [
    {
     "data": {
      "text/html": [
       "<div>\n",
       "<style scoped>\n",
       "    .dataframe tbody tr th:only-of-type {\n",
       "        vertical-align: middle;\n",
       "    }\n",
       "\n",
       "    .dataframe tbody tr th {\n",
       "        vertical-align: top;\n",
       "    }\n",
       "\n",
       "    .dataframe thead th {\n",
       "        text-align: right;\n",
       "    }\n",
       "</style>\n",
       "<table border=\"1\" class=\"dataframe\">\n",
       "  <thead>\n",
       "    <tr style=\"text-align: right;\">\n",
       "      <th></th>\n",
       "      <th>open</th>\n",
       "      <th>high</th>\n",
       "      <th>low</th>\n",
       "      <th>close</th>\n",
       "      <th>volume</th>\n",
       "    </tr>\n",
       "    <tr>\n",
       "      <th>timestamp</th>\n",
       "      <th></th>\n",
       "      <th></th>\n",
       "      <th></th>\n",
       "      <th></th>\n",
       "      <th></th>\n",
       "    </tr>\n",
       "  </thead>\n",
       "  <tbody>\n",
       "    <tr>\n",
       "      <th>2024-01-25 00:00:00</th>\n",
       "      <td>40051.20</td>\n",
       "      <td>40079.88</td>\n",
       "      <td>40079.87</td>\n",
       "      <td>40051.80</td>\n",
       "      <td>6.601578</td>\n",
       "    </tr>\n",
       "    <tr>\n",
       "      <th>2024-01-25 00:01:00</th>\n",
       "      <td>40041.00</td>\n",
       "      <td>40070.32</td>\n",
       "      <td>40051.60</td>\n",
       "      <td>40061.92</td>\n",
       "      <td>7.541910</td>\n",
       "    </tr>\n",
       "    <tr>\n",
       "      <th>2024-01-25 00:02:00</th>\n",
       "      <td>40038.13</td>\n",
       "      <td>40068.79</td>\n",
       "      <td>40061.59</td>\n",
       "      <td>40042.82</td>\n",
       "      <td>7.078218</td>\n",
       "    </tr>\n",
       "    <tr>\n",
       "      <th>2024-01-25 00:03:00</th>\n",
       "      <td>40043.36</td>\n",
       "      <td>40056.15</td>\n",
       "      <td>40043.36</td>\n",
       "      <td>40055.80</td>\n",
       "      <td>1.614071</td>\n",
       "    </tr>\n",
       "    <tr>\n",
       "      <th>2024-01-25 00:04:00</th>\n",
       "      <td>40052.64</td>\n",
       "      <td>40063.21</td>\n",
       "      <td>40056.15</td>\n",
       "      <td>40063.20</td>\n",
       "      <td>1.924187</td>\n",
       "    </tr>\n",
       "    <tr>\n",
       "      <th>...</th>\n",
       "      <td>...</td>\n",
       "      <td>...</td>\n",
       "      <td>...</td>\n",
       "      <td>...</td>\n",
       "      <td>...</td>\n",
       "    </tr>\n",
       "    <tr>\n",
       "      <th>2025-01-23 23:56:00</th>\n",
       "      <td>104047.01</td>\n",
       "      <td>104112.45</td>\n",
       "      <td>104064.68</td>\n",
       "      <td>104079.63</td>\n",
       "      <td>6.922352</td>\n",
       "    </tr>\n",
       "    <tr>\n",
       "      <th>2025-01-23 23:57:00</th>\n",
       "      <td>104052.01</td>\n",
       "      <td>104088.97</td>\n",
       "      <td>104079.63</td>\n",
       "      <td>104079.60</td>\n",
       "      <td>1.628341</td>\n",
       "    </tr>\n",
       "    <tr>\n",
       "      <th>2025-01-23 23:58:00</th>\n",
       "      <td>103928.31</td>\n",
       "      <td>104088.89</td>\n",
       "      <td>104079.60</td>\n",
       "      <td>103964.62</td>\n",
       "      <td>10.861781</td>\n",
       "    </tr>\n",
       "    <tr>\n",
       "      <th>2025-01-23 23:59:00</th>\n",
       "      <td>103900.00</td>\n",
       "      <td>103973.87</td>\n",
       "      <td>103964.62</td>\n",
       "      <td>103926.36</td>\n",
       "      <td>6.802193</td>\n",
       "    </tr>\n",
       "    <tr>\n",
       "      <th>2025-01-24 00:00:00</th>\n",
       "      <td>103857.80</td>\n",
       "      <td>103947.90</td>\n",
       "      <td>103926.36</td>\n",
       "      <td>103889.08</td>\n",
       "      <td>17.378134</td>\n",
       "    </tr>\n",
       "  </tbody>\n",
       "</table>\n",
       "<p>527185 rows × 5 columns</p>\n",
       "</div>"
      ],
      "text/plain": [
       "                          open       high        low      close     volume\n",
       "timestamp                                                                 \n",
       "2024-01-25 00:00:00   40051.20   40079.88   40079.87   40051.80   6.601578\n",
       "2024-01-25 00:01:00   40041.00   40070.32   40051.60   40061.92   7.541910\n",
       "2024-01-25 00:02:00   40038.13   40068.79   40061.59   40042.82   7.078218\n",
       "2024-01-25 00:03:00   40043.36   40056.15   40043.36   40055.80   1.614071\n",
       "2024-01-25 00:04:00   40052.64   40063.21   40056.15   40063.20   1.924187\n",
       "...                        ...        ...        ...        ...        ...\n",
       "2025-01-23 23:56:00  104047.01  104112.45  104064.68  104079.63   6.922352\n",
       "2025-01-23 23:57:00  104052.01  104088.97  104079.63  104079.60   1.628341\n",
       "2025-01-23 23:58:00  103928.31  104088.89  104079.60  103964.62  10.861781\n",
       "2025-01-23 23:59:00  103900.00  103973.87  103964.62  103926.36   6.802193\n",
       "2025-01-24 00:00:00  103857.80  103947.90  103926.36  103889.08  17.378134\n",
       "\n",
       "[527185 rows x 5 columns]"
      ]
     },
     "execution_count": 11,
     "metadata": {},
     "output_type": "execute_result"
    }
   ],
   "source": [
    "btc_price_data_1_year"
   ]
  },
  {
   "cell_type": "markdown",
   "id": "65cc518b-3040-4199-8e2f-62f5add488e6",
   "metadata": {},
   "source": [
    "#### Extract only the daily data"
   ]
  },
  {
   "cell_type": "markdown",
   "id": "d171c100-8b33-4d43-b78b-6279142366a3",
   "metadata": {},
   "source": [
    "To filter your hourly dataset and extract only the daily data (e.g., one row per day), you can aggregate the hourly data based on a specific column (like close) using groupby operations. Here's how you can do it:\n",
    "\n",
    "Option 1: Aggregate by Day\n",
    "If you want to summarize the data to daily values (e.g., daily open, high, low, close, volume):"
   ]
  },
  {
   "cell_type": "code",
   "execution_count": 12,
   "id": "285296aa-9178-4d2d-a5aa-40d048fe9a67",
   "metadata": {},
   "outputs": [],
   "source": [
    "# # Ensure the datetime column is a datetime object\n",
    "# df['timestamp'] = pd.to_datetime(df['timestamp'])\n",
    "\n",
    "# # Set the datetime column as the index\n",
    "# df.set_index('timestamp', inplace=True)\n",
    "\n",
    "# Resample the data to daily frequency\n",
    "# daily_df = btc_price_data_1_year.resample('D').agg({\n",
    "#     'open': 'first',  # First hour's open price\n",
    "#     'high': 'max',    # Daily high\n",
    "#     'low': 'min',     # Daily low\n",
    "#     'close': 'last',  # Last hour's close price\n",
    "#     'volume': 'sum'   # Sum of volumes\n",
    "# }).dropna()\n",
    "\n",
    "# print(daily_df.head())"
   ]
  },
  {
   "cell_type": "markdown",
   "id": "806e58a7-570f-43a0-8dab-6a8beb3f5051",
   "metadata": {},
   "source": [
    "### 4.3. Plot Bitcoin Price"
   ]
  },
  {
   "cell_type": "code",
   "execution_count": 13,
   "id": "de04b814-673c-4dca-95ee-a6068ea0a26a",
   "metadata": {},
   "outputs": [],
   "source": [
    "def plot_market_data(dates, prices, labels, title):\n",
    "    plt.figure(figsize=(14, 7))\n",
    "    \n",
    "    ax = plt.gca()\n",
    "    ax.set_facecolor('gainsboro')\n",
    "    ax.xaxis.grid(True, color='white')\n",
    "    ax.yaxis.grid(True, color='white')\n",
    "\n",
    "    x_lim_start = dates[0]\n",
    "    x_lim_end = dates[len(dates) - 1]\n",
    "    # plt.xlim(x_lim_start, x_lim_end)\n",
    "    ax.set_xlim(xmin=x_lim_start,xmax=x_lim_end)\n",
    "    \n",
    "    plt.plot(dates, prices)\n",
    "    \n",
    "    plt.xlabel(labels[0])\n",
    "    plt.ylabel(labels[1])\n",
    "\n",
    "    plt.title(title)\n",
    "    plt.show()"
   ]
  },
  {
   "cell_type": "code",
   "execution_count": 14,
   "id": "758cd66b-b51b-4889-921b-90e60d5725bd",
   "metadata": {},
   "outputs": [
    {
     "data": {
      "image/png": "[encoded data removed]",
      "text/plain": [
       "<Figure size 1400x700 with 1 Axes>"
      ]
     },
     "metadata": {},
     "output_type": "display_data"
    }
   ],
   "source": [
    "dates = btc_price_data_1_year.index\n",
    "prices_close_btc = btc_price_data_1_year.close\n",
    "title_btc = 'Bitcoin Price (Nov 2023 - Nov 2024)'\n",
    "\n",
    "labels = ['Date', 'Price [USD]']\n",
    "\n",
    "plot_market_data(dates, prices_close_btc, labels, title_btc)"
   ]
  },
  {
   "cell_type": "markdown",
   "id": "b72bc6f0-f886-4e93-9216-0ffdc950c67a",
   "metadata": {},
   "source": [
    "## 5. Feature Engineering"
   ]
  },
  {
   "cell_type": "markdown",
   "id": "2e125998-817e-4bed-8374-eea27c291e34",
   "metadata": {},
   "source": [
    "### 5.1. Seasonality and Trends"
   ]
  },
  {
   "cell_type": "markdown",
   "id": "ea7603ca-2ea4-4bdd-9fb5-74fe31bf4850",
   "metadata": {},
   "source": [
    "#### 5.1.1. Add Time-Based Features"
   ]
  },
  {
   "cell_type": "markdown",
   "id": "fb022826-a5cb-4987-8eff-5da3524a5a61",
   "metadata": {},
   "source": [
    "We extract various components of the datetime, such as the **month**, **day**, **hour**, and **day of the week**. This can help the model capture seasonality and trends."
   ]
  },
  {
   "cell_type": "code",
   "execution_count": 15,
   "id": "eb017eb4-045f-419e-81d6-4199ca7e2481",
   "metadata": {},
   "outputs": [],
   "source": [
    "btc_price_data_1_year['month'] = btc_price_data_1_year.index.month.astype('float64')\n",
    "btc_price_data_1_year['day'] = btc_price_data_1_year.index.day.astype('float64')\n",
    "btc_price_data_1_year['weekday'] = btc_price_data_1_year.index.weekday.astype('float64')  # Monday=0, Sunday=6\n",
    "btc_price_data_1_year['hour'] = btc_price_data_1_year.index.hour.astype('float64')"
   ]
  },
  {
   "cell_type": "markdown",
   "id": "f1d4c247-07e2-40ba-bd28-b7c84d5d7266",
   "metadata": {},
   "source": [
    "For time-based features like **hour of day** and **day of the week**, we can use **cyclical encoding**. This ensures that values like 23:00 and 00:00 are considered \"close\" to each other, rather than being far apart numerically."
   ]
  },
  {
   "cell_type": "code",
   "execution_count": 16,
   "id": "f08c93d7-17a7-4949-8004-56dd1243c419",
   "metadata": {},
   "outputs": [],
   "source": [
    "# Extract hour and weekday\n",
    "btc_price_data_1_year['hour_sin'] = np.sin(2 * np.pi * btc_price_data_1_year.index.hour / 24)  # Hour sin encoding\n",
    "btc_price_data_1_year['hour_cos'] = np.cos(2 * np.pi * btc_price_data_1_year.index.hour / 24)  # Hour cos encoding\n",
    "btc_price_data_1_year['weekday_sin'] = np.sin(2 * np.pi * btc_price_data_1_year.index.weekday / 7)  # Weekday sin encoding\n",
    "btc_price_data_1_year['weekday_cos'] = np.cos(2 * np.pi * btc_price_data_1_year.index.weekday / 7)  # Weekday cos encoding"
   ]
  },
  {
   "cell_type": "markdown",
   "id": "891685f8-647a-4585-a703-af4fdcfa2079",
   "metadata": {},
   "source": [
    "#### 5.1.2. STL (Seasonal-Trend decomposition using LOESS)"
   ]
  },
  {
   "cell_type": "markdown",
   "id": "a18878f1-d4fe-4ee9-9d1f-aa2edcd678eb",
   "metadata": {},
   "source": [
    "**STL** stands for **Seasonal-Trend decomposition using LOESS**. It's a robust statistical method used to decompose a time series into three components:\n",
    "\n",
    "1. **Seasonal Component**: Represents the repeating pattern in the data over a fixed period (e.g., daily, weekly, monthly).\n",
    "2. **Trend Component**: Captures the long-term progression in the data, showing an overall increase, decrease, or stability over time.\n",
    "3. **Remainder/Residual Component**: Represents the part of the data that cannot be attributed to either seasonality or trend, often considered as noise.\n",
    "\n",
    "**Key Features of STL**\n",
    "- **Flexible**: Allows decomposition of time series with any type of seasonal pattern, not limited to a fixed frequency.\n",
    "- **Robust**: Resistant to outliers in the data.\n",
    "- **Local Regression (LOESS)**: Uses locally weighted regression to smooth the data during decomposition.\n",
    "\n",
    "**Applications**\n",
    "- **Forecasting**: By isolating the trend and seasonal components, forecasting models can be more accurate.\n",
    "- **Anomaly Detection**: The remainder component helps identify unusual spikes or dips.\n",
    "- **Visualization**: Simplifies understanding of the data by breaking it into interpretable parts."
   ]
  },
  {
   "cell_type": "code",
   "execution_count": 17,
   "id": "4ad25b02-246f-49dd-8cea-c14eae644f2b",
   "metadata": {},
   "outputs": [],
   "source": [
    "# Apply STL decomposition\n",
    "stl = STL(btc_price_data_1_year['close'], robust=True, period = 24)  # period=24 for daily seasonality in hourly data\n",
    "result = stl.fit()"
   ]
  },
  {
   "cell_type": "code",
   "execution_count": 18,
   "id": "f8e97962-412b-46e5-b778-06a6c8cc682b",
   "metadata": {},
   "outputs": [
    {
     "data": {
      "image/png": "[encoded data removed]",
      "text/plain": [
       "<Figure size 640x480 with 4 Axes>"
      ]
     },
     "metadata": {},
     "output_type": "display_data"
    }
   ],
   "source": [
    "# Extract components\n",
    "btc_price_data_1_year['trend'] = result.trend\n",
    "btc_price_data_1_year['seasonal'] = result.seasonal\n",
    "btc_price_data_1_year['residual'] = result.resid\n",
    "\n",
    "# Plot the decomposition\n",
    "result.plot()\n",
    "plt.show()"
   ]
  },
  {
   "cell_type": "code",
   "execution_count": 19,
   "id": "411a721a-026e-41fd-9fda-2070ffc47ebd",
   "metadata": {},
   "outputs": [],
   "source": [
    "# 1.Lagged Features - Lagged values of the trend, seasonal, and residual\n",
    "for lag in range(1, 4):  # Use 1, 2, 3 hours as lags\n",
    "    btc_price_data_1_year[f'trend_lag_{lag}'] = btc_price_data_1_year['trend'].shift(lag)\n",
    "    btc_price_data_1_year[f'seasonal_lag_{lag}'] = btc_price_data_1_year['seasonal'].shift(lag)\n",
    "    btc_price_data_1_year[f'residual_lag_{lag}'] = btc_price_data_1_year['residual'].shift(lag)\n",
    "\n",
    "# 2.Rolling Statistics - Rolling mean and standard deviation of each component.\n",
    "btc_price_data_1_year['trend_rolling_mean'] = btc_price_data_1_year['trend'].rolling(window=24).mean()\n",
    "btc_price_data_1_year['residual_rolling_std'] = btc_price_data_1_year['residual'].rolling(window=24).std()\n",
    "\n",
    "# 3.Differences - Calculate the difference between close price and its trend or seasonality\n",
    "btc_price_data_1_year['close_trend_diff'] = btc_price_data_1_year['close'] - btc_price_data_1_year['trend']\n",
    "btc_price_data_1_year['close_seasonal_diff'] = btc_price_data_1_year['close'] - btc_price_data_1_year['seasonal']"
   ]
  },
  {
   "cell_type": "markdown",
   "id": "346f3edc-c8e6-4290-8c98-411843dad385",
   "metadata": {},
   "source": [
    "#### 5.1.3. Rolling Statistics"
   ]
  },
  {
   "cell_type": "markdown",
   "id": "fd4390b6-d5ed-4448-bbb1-32e3944c747e",
   "metadata": {},
   "source": [
    "Rolling mean and standard deviation help capture local trends and volatility."
   ]
  },
  {
   "cell_type": "code",
   "execution_count": 20,
   "id": "0397ca2d-d5e5-4e34-ac85-1bf8b3da3882",
   "metadata": {},
   "outputs": [],
   "source": [
    "# Rolling windows in hours\n",
    "windows = [6, 12, 24]"
   ]
  },
  {
   "cell_type": "code",
   "execution_count": 21,
   "id": "d165a1f5-3bdb-405e-94d4-c46c9f39a698",
   "metadata": {},
   "outputs": [],
   "source": [
    "# Rolling statistics for 'close' price\n",
    "for window in windows:\n",
    "    btc_price_data_1_year[f'close_roll_mean_{window}'] = btc_price_data_1_year['close'].rolling(window=window).mean()\n",
    "    btc_price_data_1_year[f'close_roll_std_{window}'] = btc_price_data_1_year['close'].rolling(window=window).std()"
   ]
  },
  {
   "cell_type": "markdown",
   "id": "f744aac7-b4a7-4dda-91ec-99ea72b65788",
   "metadata": {},
   "source": [
    "Volume data can indicate market activity or interest"
   ]
  },
  {
   "cell_type": "code",
   "execution_count": 22,
   "id": "19d14eb8-b953-4810-a954-8473faf579e6",
   "metadata": {},
   "outputs": [],
   "source": [
    "# Volume-based rolling statistics\n",
    "for window in windows:\n",
    "    btc_price_data_1_year[f'volume_roll_mean_{window}'] = btc_price_data_1_year['volume'].rolling(window=window).mean()\n",
    "    btc_price_data_1_year[f'volume_roll_std_{window}'] = btc_price_data_1_year['volume'].rolling(window=window).std()"
   ]
  },
  {
   "cell_type": "markdown",
   "id": "0481453e-d196-470c-af03-8d58747406ce",
   "metadata": {},
   "source": [
    "### 5.2. Autocorrelation"
   ]
  },
  {
   "cell_type": "markdown",
   "id": "2af35498-2b3b-4f34-a571-d1319c49e9d1",
   "metadata": {},
   "source": [
    "Autocorrelation in time series refers to the correlation of a time series with a lagged version of itself. It measures how past values of the series influence current values. Understanding autocorrelation can help identify patterns, trends, and periodicity in time-series data.\n",
    "\n",
    "##### Why Autocorrelation Matters\n",
    "- **Pattern Detection**: Helps identify repeating patterns or seasonality.\n",
    "- **Modeling Assumptions**: Many models (like ARIMA) assume specific autocorrelation structures.\n",
    "- **Feature Engineering**: Insights from autocorrelation can guide the creation of lag-based features for machine learning models.\n",
    "\n",
    "##### Types of Autocorrelation\n",
    "1. **Positive Autocorrelation**: High values follow high values, and low values follow low values.\n",
    "2. **Negative Autocorrelation**: High values follow low values, and vice versa.\n",
    "3. **No Autocorrelation**: Values are independent of each other.\n",
    "\n",
    "##### How to Measure Autocorrelation\n",
    "The **autocorrelation function (ACF)** and the **partial autocorrelation function (PACF)** are two common tools:\n",
    "\n",
    "###### 1. **Autocorrelation Function (ACF)**\n",
    "- Measures the correlation between the time series and its lagged values.\n",
    "- Useful for identifying the overall pattern of dependence at different lags.\n",
    "\n",
    "###### 2. **Partial Autocorrelation Function (PACF)**\n",
    "- Measures the correlation between the time series and its lagged values after removing the influence of shorter lags.\n",
    "- Useful for determining the direct relationship between a value and a specific lag.\n"
   ]
  },
  {
   "cell_type": "markdown",
   "id": "66044071-d0ad-4328-a061-cf66d785d8f3",
   "metadata": {},
   "source": [
    "#### 5.2.1. Autocorrelation Function (ACF)"
   ]
  },
  {
   "cell_type": "markdown",
   "id": "1a761f0f-515b-435f-8ab0-d20ff568a7c9",
   "metadata": {},
   "source": [
    "Set the count of the **lags** that will be considered during the Autocorrelation anylysis:"
   ]
  },
  {
   "cell_type": "code",
   "execution_count": 23,
   "id": "eae28b7f-b5d7-487a-88c0-3bd1700cf689",
   "metadata": {},
   "outputs": [],
   "source": [
    "# We use the last 3 days (3 * 24 hours) for the autocorrelation analysis\n",
    "lags = 72"
   ]
  },
  {
   "cell_type": "code",
   "execution_count": 24,
   "id": "10daf42d-118e-4325-8ff2-9a74cdd1fb63",
   "metadata": {},
   "outputs": [
    {
     "data": {
      "image/png": "[encoded data removed]",
      "text/plain": [
       "<Figure size 640x480 with 1 Axes>"
      ]
     },
     "metadata": {},
     "output_type": "display_data"
    }
   ],
   "source": [
    "plot_acf(btc_price_data_1_year.close, lags = lags)\n",
    "plt.ylim(-1.2, 1.2)\n",
    "\n",
    "plt.xlabel('Lag')\n",
    "plt.ylabel('Autocorrelation')\n",
    "plt.title('ACF for \\'close\\' price')\n",
    "plt.show()"
   ]
  },
  {
   "cell_type": "code",
   "execution_count": 25,
   "id": "f7cae831-7cca-457c-b538-3288538d2324",
   "metadata": {},
   "outputs": [
    {
     "data": {
      "image/png": "[encoded data removed]",
      "text/plain": [
       "<Figure size 640x480 with 2 Axes>"
      ]
     },
     "metadata": {},
     "output_type": "display_data"
    }
   ],
   "source": [
    "autocorr = [btc_price_data_1_year['close'].autocorr(lag) for lag in range(1, lags+1)]\n",
    "sns.heatmap(pd.DataFrame(autocorr, columns=[\"Autocorrelation\"]).T, annot=False, cmap=\"coolwarm\")\n",
    "plt.xlabel('Lag')\n",
    "plt.title('Heatmap of Autocorrelation for \\'close\\' price')\n",
    "plt.show()"
   ]
  },
  {
   "cell_type": "markdown",
   "id": "17213d2a-8b9c-42d5-88ae-3e12c9ffa0e8",
   "metadata": {},
   "source": [
    "Because the **autocorrelation** is very large we use **partial autocorrelation**."
   ]
  },
  {
   "cell_type": "markdown",
   "id": "1074b2db-d24e-46fb-83b5-9021d61569f7",
   "metadata": {},
   "source": [
    "#### 5.2.2. Partial Autocorrelation Function (PACF)"
   ]
  },
  {
   "cell_type": "markdown",
   "id": "bda756ef-1d92-463f-a573-d69f3fb037d9",
   "metadata": {},
   "source": [
    "The **Partial Autocorrelation Function (PACF)** measures the partial correlation of a stationary time series with its own lagged values, accounting for the influence of intermediate lags. Unlike the **Autocorrelation Function (ACF)**, which considers all previous lags, the PACF isolates the direct relationship between a variable and its lags."
   ]
  },
  {
   "cell_type": "code",
   "execution_count": 26,
   "id": "7f3de5d9-a34e-46a0-8777-b2c85816342a",
   "metadata": {},
   "outputs": [
    {
     "data": {
      "image/png": "[encoded data removed]",
      "text/plain": [
       "<Figure size 640x480 with 1 Axes>"
      ]
     },
     "metadata": {},
     "output_type": "display_data"
    },
    {
     "name": "stdout",
     "output_type": "stream",
     "text": [
      "Significant Lags: [ 0  1  2  3  9 13 16 30 56 67 70]\n"
     ]
    }
   ],
   "source": [
    "# Calculate PACF\n",
    "pacf_values = pacf(btc_price_data_1_year['close'], nlags=lags)\n",
    "\n",
    "# Calculate the confidence interval\n",
    "conf_int = 1.96 / np.sqrt(len(btc_price_data_1_year['close']))  # The 95% confidence interval\n",
    "\n",
    "# Get significant lags (values outside the confidence interval)\n",
    "significant_lags = np.where(np.abs(pacf_values) > conf_int)[0]\n",
    "\n",
    "# Plot PACF with significant lags marked\n",
    "plt.stem(pacf_values)\n",
    "\n",
    "plt.axhline(y=conf_int, color='r', linestyle='--')\n",
    "plt.axhline(y=-conf_int, color='r', linestyle='--')\n",
    "plt.ylim(-0.010, 0.010)\n",
    "\n",
    "plt.grid()\n",
    "\n",
    "plt.xlabel('Lag')\n",
    "plt.ylabel('Partial autocorrelation coefficient(PACF)')\n",
    "plt.title(\"PACF with Significant Lags for \\'close\\' Price'\")\n",
    "plt.show()\n",
    "\n",
    "# Print the significant lags\n",
    "print(\"Significant Lags:\", significant_lags)"
   ]
  },
  {
   "cell_type": "markdown",
   "id": "292742be-7a07-46f6-9cc3-3704c89ca35d",
   "metadata": {},
   "source": [
    "**Significant lags**: Spikes that are outside the area between the two red lines are **statistically significant** at the 95% confidence level.\n",
    "\n",
    "Correlation coefficients that are between the two red lines are **insignificant** for the model. In this area the **p-value** is too small. Correlations in this area may well be random."
   ]
  },
  {
   "cell_type": "code",
   "execution_count": 27,
   "id": "2c01c8b0-0fa9-4078-9f5b-3392fcadc52c",
   "metadata": {},
   "outputs": [
    {
     "name": "stdout",
     "output_type": "stream",
     "text": [
      "Significant Lags: [ 1  2  3  9 13 16 30 56 67 70]\n"
     ]
    }
   ],
   "source": [
    "# Remove the autocorrelation with itself (the '0'-th lag)\n",
    "significant_lags = significant_lags[1:] if significant_lags[0] == 0 else significant_lags\n",
    "print(\"Significant Lags:\", significant_lags)"
   ]
  },
  {
   "cell_type": "code",
   "execution_count": 28,
   "id": "ec3a9e39-18b4-4afb-b5e6-5a05301d9a55",
   "metadata": {},
   "outputs": [],
   "source": [
    "# Create lag features (past values as features)\n",
    "def create_lag_features(df, lags = []):\n",
    "    \"\"\"\n",
    "    Create lag features (past values as features)\n",
    "    \"\"\"\n",
    "    # Create a copy of the DataFrame\n",
    "    df_copy = df.copy(deep=True)\n",
    "    \n",
    "    for lag in lags:\n",
    "        df_copy[f'lag_{lag}'] = df_copy['close'].shift(lag)\n",
    "        \n",
    "    #df.dropna(inplace=True)\n",
    "    return df_copy"
   ]
  },
  {
   "cell_type": "code",
   "execution_count": 29,
   "id": "930b9a9c-6e5c-4d71-9441-fd708a9bf13f",
   "metadata": {},
   "outputs": [],
   "source": [
    "btc_price_data_1_year = create_lag_features(btc_price_data_1_year, significant_lags)"
   ]
  },
  {
   "cell_type": "markdown",
   "id": "0bcc3eb8-7803-406f-9f3c-edfc58ea825f",
   "metadata": {},
   "source": [
    "### 5.3. Calculate Technical Indicators"
   ]
  },
  {
   "cell_type": "markdown",
   "id": "7d342b9d-779e-4114-b0f0-f7bc76b9871a",
   "metadata": {},
   "source": [
    "#### 5.3.1. Relative Strength Index (RSI)"
   ]
  },
  {
   "cell_type": "markdown",
   "id": "ca2df53b-e847-4564-ab93-7b1edd521db9",
   "metadata": {},
   "source": [
    "**RSI** is a momentum oscillator that measures the speed and change of recent price movements. It is used to identify overbought or oversold conditions in a stock's price, generally over a 14-day period.\n",
    "\n",
    "- **Formula**: The RSI is calculated as:\n",
    "  \n",
    "  $$\\text{RSI} = 100 - \\frac{100}{1 + RS}$$\n",
    "  \n",
    "  where $RS$ (Relative Strength) is the ratio of **average gains** to **average losses** over the lookback period (e.g., 14 days).\n",
    "\n",
    "- **Interpretation**:\n",
    "  - **Overbought Condition**: When RSI is above 70, the asset is often considered overbought, suggesting a potential for a pullback.\n",
    "  - **Oversold Condition**: When RSI is below 30, the asset is considered oversold, suggesting a potential for a rebound.\n",
    "\n",
    "- **Calculation**:\n",
    "  - Calculate the **change** in price from one day to the next.\n",
    "  - Separate the changes into **gains** (positive changes) and **losses** (negative changes).\n",
    "  - Compute the **average gain** and **average loss** over the 14-day period.\n",
    "  - Calculate \\( RS \\) as the ratio of average gain to average loss.\n",
    "  - Use the RSI formula to convert \\( RS \\) into an index between 0 and 100."
   ]
  },
  {
   "cell_type": "code",
   "execution_count": 30,
   "id": "432815e7-07d0-4c72-817f-23b98a03134e",
   "metadata": {},
   "outputs": [],
   "source": [
    "def calculate_rsi(data, window=14):\n",
    "    \"\"\"\n",
    "    RSI is a momentum oscillator that measures the speed and change of price movements, typically over a 14-period interval.\n",
    "    Assuming 'data' is a DataFrame with a 'close' price column\n",
    "\n",
    "    Parameters\n",
    "    ----------\n",
    "    data:   a DataFrame with the time series data. A column with the name 'close' must be present in the DataFrame! \n",
    "            This column is used to calculate the 'RSI' value.\n",
    "    window: the time period that is taken into account when calculating the 'RSI'\n",
    "    \"\"\"\n",
    "    delta = data['close'].diff(1)\n",
    "    gain = delta.where(delta > 0, 0)\n",
    "    loss = -delta.where(delta < 0, 0)\n",
    "    \n",
    "    avg_gain = gain.rolling(window=window, min_periods=1).mean()\n",
    "    avg_loss = loss.rolling(window=window, min_periods=1).mean()\n",
    "\n",
    "    rs = avg_gain / avg_loss\n",
    "    rsi = 100 - (100 / (1 + rs))\n",
    "    data['RSI'] = rsi\n",
    "    \n",
    "    return data"
   ]
  },
  {
   "cell_type": "code",
   "execution_count": 31,
   "id": "ddd467dc-27dd-4885-a416-5f27469a8dc2",
   "metadata": {},
   "outputs": [],
   "source": [
    "# Calculate RSI\n",
    "btc_price_data_1_year = calculate_rsi(btc_price_data_1_year)"
   ]
  },
  {
   "cell_type": "markdown",
   "id": "c1d790d4-f1d0-4caf-9db1-91f0a3b29612",
   "metadata": {},
   "source": [
    "#### 5.3.2. Moving Average Convergence Divergence (MACD)"
   ]
  },
  {
   "cell_type": "markdown",
   "id": "c833d789-8ce2-4790-8920-090425a5585f",
   "metadata": {},
   "source": [
    "**MACD** is a trend-following momentum indicator that shows the relationship between two moving averages of an asset’s price.\n",
    "\n",
    "- **Formula**:\n",
    "  - **MACD Line**: $\\text{MACD} = \\text{EMA}_{\\text{short}} - \\text{EMA}_{\\text{long}}$\n",
    "  - **Signal Line**: A **9-day EMA** of the MACD line.\n",
    "  - **MACD Histogram**: The difference between the MACD line and the Signal Line.\n",
    "\n",
    "  Here, EMA stands for Exponential Moving Average, which gives more weight to recent prices.\n",
    "\n",
    "- **Common Parameters**:\n",
    "  - **Short EMA**: Often set to a 12-day EMA.\n",
    "  - **Long EMA**: Often set to a 26-day EMA.\n",
    "  - **Signal Line EMA**: Often set to a 9-day EMA of the MACD line.\n",
    "\n",
    "- **Interpretation**:\n",
    "  - **MACD Line Crosses Above Signal Line**: This is a bullish signal, indicating a potential buy.\n",
    "  - **MACD Line Crosses Below Signal Line**: This is a bearish signal, indicating a potential sell.\n",
    "  - **MACD Divergence**: If the price and MACD are moving in opposite directions, it may signal a reversal.\n",
    "  - **Histogram**: The MACD histogram shows the distance between the MACD line and the Signal Line. When the histogram grows larger, it indicates a strengthening trend in that direction.\n",
    "\n",
    "- **Application**:\n",
    "  - The MACD helps traders see changes in momentum, trend direction, and possible reversal points by analyzing the difference between the short and long EMAs."
   ]
  },
  {
   "cell_type": "code",
   "execution_count": 32,
   "id": "1ee38c9d-2326-468d-b7e6-b8278434f412",
   "metadata": {},
   "outputs": [],
   "source": [
    "def calculate_macd(data, short_window=12, long_window=26, signal_window=9):\n",
    "    \"\"\"\n",
    "    Moving Average Convergence Divergence (MACD) is calculated using two exponential moving averages (EMA):\n",
    "    the 12-day EMA and the 26-day EMA, with a 9-day EMA as the signal line.\n",
    "    \"\"\"\n",
    "    data['EMA12'] = data['close'].ewm(span=short_window, adjust=False).mean()\n",
    "    data['EMA26'] = data['close'].ewm(span=long_window, adjust=False).mean()\n",
    "    \n",
    "    # MACD Line\n",
    "    data['MACD'] = data['EMA12'] - data['EMA26']\n",
    "    \n",
    "    # Signal Line\n",
    "    data['Signal_Line'] = data['MACD'].ewm(span=signal_window, adjust=False).mean()\n",
    "    \n",
    "    return data"
   ]
  },
  {
   "cell_type": "code",
   "execution_count": 33,
   "id": "1fd14b7b-729a-4872-ae03-f0e83c7bf198",
   "metadata": {},
   "outputs": [],
   "source": [
    "# Calculate MACD (Moving Average Convergence Divergence)\n",
    "btc_price_data_1_year = calculate_macd(btc_price_data_1_year)"
   ]
  },
  {
   "cell_type": "markdown",
   "id": "bcf288d9-1dcc-4a5f-9d16-0f85da32bf9c",
   "metadata": {},
   "source": [
    "#### 5.3.3. Moving Averages (SMA and EMA)"
   ]
  },
  {
   "cell_type": "markdown",
   "id": "2f52efa2-c832-4dd2-896e-7bb3e64d0d2d",
   "metadata": {},
   "source": [
    "Moving averages smooth out price data to help identify trends over specific time frames. They are often used to see the underlying trend of an asset’s price and are among the most widely used technical indicators.\n",
    "\n",
    "##### 2.2.3.1. Simple Moving Average (SMA)\n",
    "\n",
    "- **Definition**: The **SMA** is the average of the closing prices over a specific period. For example, a 10-day SMA is the average closing price over the last 10 days.\n",
    "  \n",
    "- **Formula**:\n",
    "  $$\\text{SMA} = \\frac{\\sum_{i=1}^{N} \\text{Price}_i}{N}$$\n",
    "  where $N$ is the period (e.g., 10 days).\n",
    "\n",
    "- **Interpretation**:\n",
    "  - **Trend Identification**: When prices are above the SMA, it suggests an upward trend; when below, it suggests a downward trend.\n",
    "  - **Crossovers**: When a short-term SMA crosses above a long-term SMA (e.g., 10-day SMA crosses above the 50-day SMA), it generates a bullish signal. The reverse crossover indicates a bearish signal.\n",
    "\n",
    "##### 2.2.3.2. Exponential Moving Average (EMA)\n",
    "\n",
    "- **Definition**: The **EMA** is a weighted moving average that gives more importance to recent prices, making it more responsive to new information than the SMA.\n",
    "  \n",
    "- **Formula**:\n",
    "  - EMA uses a multiplier:\n",
    "    $$\\text{EMA}_\\text{current} = \\left(\\frac{2}{N+1}\\right) \\times (\\text{Price}_\\text{current} - \\text{EMA}_\\text{previous}) + \\text{EMA}_\\text{previous}$$\n",
    "    where $N$ is the number of periods.\n",
    "\n",
    "- **Interpretation**:\n",
    "  - **More Sensitive to Price Changes**: Because the EMA responds more quickly to recent prices, it is useful in identifying potential reversals and shorter-term trends."
   ]
  },
  {
   "cell_type": "code",
   "execution_count": 34,
   "id": "d75f0cf6-c01e-4b05-ae25-1efa542c6bdf",
   "metadata": {},
   "outputs": [],
   "source": [
    "def calculate_moving_averages(data, sma_window=20, ema_window=20):\n",
    "    \"\"\"\n",
    "    Simple Moving Average (SMA) is the average price over a specified number of periods, \n",
    "    while Exponential Moving Average (EMA) gives more weight to recent prices.\n",
    "    \"\"\"\n",
    "    # Simple Moving Average\n",
    "    data['SMA'] = data['close'].rolling(window=sma_window).mean()\n",
    "    \n",
    "    # Exponential Moving Average\n",
    "    data['EMA'] = data['close'].ewm(span=ema_window, adjust=False).mean()\n",
    "    \n",
    "    return data"
   ]
  },
  {
   "cell_type": "code",
   "execution_count": 35,
   "id": "88e80143-1b85-43c4-8d48-9aace46b6362",
   "metadata": {},
   "outputs": [],
   "source": [
    "# Calculate moving averages\n",
    "btc_price_data_1_year = calculate_moving_averages(btc_price_data_1_year)"
   ]
  },
  {
   "cell_type": "markdown",
   "id": "fee122d7-2532-4bec-ae8c-06550ca9b92b",
   "metadata": {},
   "source": [
    "## 6. Calculate Target Variable"
   ]
  },
  {
   "cell_type": "markdown",
   "id": "e96be374-de81-4385-aad1-48c3a5f24fe5",
   "metadata": {},
   "source": [
    "The **target** variable will be derived from the **technical indicators**. The values of this variable are used as **buy/sell signals** for the traiding strategy. \n",
    "\n",
    "There will be 3 target values:\n",
    "* -1 - sell\n",
    "* 0  - do nothing\n",
    "* 1  - buy"
   ]
  },
  {
   "cell_type": "code",
   "execution_count": 36,
   "id": "beaa1efe-5de1-49da-a6f8-cde2471984ff",
   "metadata": {},
   "outputs": [],
   "source": [
    "def create_target_variable_with_techn_indicators_hourly(data, price_threshold = 0.01):\n",
    "    \"\"\"\n",
    "    Computes and sets the 'target' variable from the input 'data' and 'threshold'.\n",
    "    Creates a 'target' column with the computed values in the 'data' DataFrame.\n",
    "\n",
    "    Parameters\n",
    "    ----------\n",
    "    data: a DataFrame with the time series data. There must be a column named 'close'! \n",
    "          This column will be used by the user to calculate the 'target' variable.\n",
    "    \n",
    "    threshold: threshold for the price change to classify as 'buy' or 'sell'. For instance, if you want a 1% increase to be a 'buy' signal,\n",
    "               the threshold will be 0.01. Adjust this threshold as per your strategy.\n",
    "    \"\"\"\n",
    "    # Create a copy of the DataFrame\n",
    "    data_copy = data.copy(deep=True)\n",
    "    \n",
    "    # Compute the percentage change between the current close price and the close price in the next period.\n",
    "    # This will help define whether there’s a significant increase or decrease.\n",
    "    data_copy['future_return'] = ((data_copy['close'].shift(-1) - data_copy['close']) / data_copy['close']) * 100\n",
    "    \n",
    "    # Use the technical indicators to add more conditions to the target:\n",
    "    # - RSI: A Relative Strength Index (RSI) value below 30 often indicates an oversold condition, which might suggest a buying opportunity.\n",
    "    # - MACD: A positive MACD value (i.e., MACD > Signal Line) can suggest an uptrend.\n",
    "    # - SMA/EMA: If the current price is above the SMA or EMA, it may indicate an upward trend.\n",
    "    #data_copy['buy_signal'] = (\n",
    "    conditions_buy  = (\n",
    "        (data_copy['future_return'] > price_threshold) &\n",
    "        #(data_copy['RSI'] < 30) &   # buy signal for RSI\n",
    "        (data_copy['RSI'] < 40) &    # buy signal for RSI\n",
    "        ((data_copy['MACD'] > data_copy['Signal_Line']) & (data_copy['MACD'].shift(1) <= data_copy['Signal_Line'].shift(1))) #& # buy signal for MACD\n",
    "        # ((data_copy['close'] > data_copy['SMA']) & (data_copy['close'].shift(1) <= data_copy['SMA'].shift(1))) # buy signal for SMA\n",
    "    ).astype(int)\n",
    "\n",
    "    conditions_sell  = (\n",
    "        (data_copy['future_return'] < - price_threshold) &\n",
    "        #(data_copy['RSI'] > 70) &    # sell signal for RSI \n",
    "        (data_copy['RSI'] > 60) &     # sell signal for RSI \n",
    "        (data_copy['MACD'] < data_copy['Signal_Line']) & (data_copy['MACD'].shift(1) >= data_copy['Signal_Line'].shift(1)) #& # sell signal for MACD \n",
    "        # (data_copy['close'] < data_copy['SMA']) & (data_copy['close'].shift(1) >= data_copy['SMA'].shift(1)) # sell signal for SMA \n",
    "    ).astype(int)\n",
    "\n",
    "    # Define the 'target' as 1 (buy), 0(do nothing) and 2(sell).\n",
    "    # Initialize the 'target' column with default value\n",
    "    data_copy['target'] = 0 # 'do nothing' signal\n",
    "    \n",
    "    # Fill the 'target' with the 'buy_signal' and 'sell_signal' conditions \n",
    "    data_copy.loc[(conditions_buy == 1) & (conditions_sell == 0), 'target'] = 1 # 'buy' signal\n",
    "    data_copy.loc[(conditions_sell == 1) & (conditions_buy == 0), 'target'] = 2 # 'sell' signal\n",
    "\n",
    "    # Generate signals\n",
    "    # data['signal'] = np.where(data['SMA_short'] > data['SMA_long'], 1, 0)\n",
    "    # data['signal'] = data['signal'].diff()  # 1 = Buy, 2 = Sell\n",
    "\n",
    "    # The last row in your dataset will have a NaN value for 'future_return' due to the shift operation. Drop this row to clean up the dataset.\n",
    "    # data_copy = data_copy.dropna()\n",
    "\n",
    "    # Print the balance of 0s, 1s and 2s in our 'target' variable to understand how many 'buy' and 'sell' signals we have.\n",
    "    print(data_copy['target'].value_counts())\n",
    "\n",
    "    return data_copy"
   ]
  },
  {
   "cell_type": "code",
   "execution_count": 37,
   "id": "7cd0e897-6414-49be-a8ee-298ccb9a7076",
   "metadata": {},
   "outputs": [],
   "source": [
    "# Define the threshold for the price change to classify as 'buy' or 'sell'. For instance, if we want a 1% increase to be a 'buy' signal,\n",
    "# the threshold will be 0.01.\n",
    "threshold = 0.01\n",
    "#threshold = 0.005\n",
    "\n",
    "# Compute the 'target' variable\n",
    "# btc_price_data_1_year = create_target_variable_with_techn_indicators_hourly(btc_price_data_1_year, threshold)"
   ]
  },
  {
   "cell_type": "markdown",
   "id": "6b1e9f78-fd66-4809-8262-fb50ff6a2265",
   "metadata": {},
   "source": [
    "To predict the next hour’s price, create a target column."
   ]
  },
  {
   "cell_type": "code",
   "execution_count": 38,
   "id": "f7013c94-7929-43cd-b71e-3e1eb71d8858",
   "metadata": {},
   "outputs": [],
   "source": [
    "def create_target_variable_closing_hourly(data, price_threshold = 0.01):\n",
    "    \"\"\"\n",
    "    Computes and sets the 'target' variable from the input 'data' and 'threshold'.\n",
    "    Creates a 'target' column with the computed values in the 'data' DataFrame.\n",
    "\n",
    "    Parameters\n",
    "    ----------\n",
    "    data: a DataFrame with the time series data. There must be a column named 'close'! \n",
    "          This column will be used by the user to calculate the 'target' variable.\n",
    "    \n",
    "    threshold: threshold for the price change to classify as 'buy' or 'sell'. For instance, if you want a 1% increase to be a 'buy' signal,\n",
    "               the threshold will be 0.01. Adjust this threshold as per your strategy.\n",
    "    \"\"\"\n",
    "    # Create a copy of the DataFrame\n",
    "    data_copy = data.copy(deep=True)\n",
    "    \n",
    "    # Compute the percentage change between the current close price and the close price in the next period.\n",
    "    # This will help define whether there’s a significant increase or decrease.\n",
    "    data_copy['future_return'] = ((data_copy['close'].shift(-1) - data_copy['close']) / data_copy['close']) * 100\n",
    "    \n",
    "    # Use the technical indicators to add more conditions to the target:\n",
    "    # - RSI: A Relative Strength Index (RSI) value below 30 often indicates an oversold condition, which might suggest a buying opportunity.\n",
    "    # - MACD: A positive MACD value (i.e., MACD > Signal Line) can suggest an uptrend.\n",
    "    # - SMA/EMA: If the current price is above the SMA or EMA, it may indicate an upward trend.\n",
    "    #data_copy['buy_signal'] = (\n",
    "    conditions_buy  = ((data_copy['future_return'] > 0)).astype(int)\n",
    "    conditions_sell  = ((data_copy['future_return'] < 0)).astype(int)\n",
    "\n",
    "    # Define the 'target' as 1 (buy), 0(do nothing) and 2(sell).\n",
    "    # Initialize the 'target' column with default value\n",
    "    data_copy['target'] = 0 # 'do nothing' signal\n",
    "    \n",
    "    # Fill the 'target' with the 'buy_signal' and 'sell_signal' conditions \n",
    "    data_copy.loc[(conditions_buy == 1) & (conditions_sell == 0), 'target'] = 1 # 'buy' signal\n",
    "    data_copy.loc[(conditions_sell == 1) & (conditions_buy == 0), 'target'] = -1 # 'sell' signal\n",
    "\n",
    "    # Generate signals\n",
    "    # data['signal'] = np.where(data['SMA_short'] > data['SMA_long'], 1, 0)\n",
    "    # data['signal'] = data['signal'].diff()  # 1 = Buy, 2 = Sell\n",
    "\n",
    "    # The last row in your dataset will have a NaN value for 'future_return' due to the shift operation. Drop this row to clean up the dataset.\n",
    "    # data_copy = data_copy.dropna()\n",
    "\n",
    "    # Print the balance of 0s, 1s and 2s in our 'target' variable to understand how many 'buy' and 'sell' signals we have.\n",
    "    print(data_copy['target'].value_counts())\n",
    "\n",
    "    return data_copy"
   ]
  },
  {
   "cell_type": "code",
   "execution_count": 39,
   "id": "9efce4c7-ece9-45f3-b3d3-b92ab99996b2",
   "metadata": {},
   "outputs": [],
   "source": [
    "#btc_price_data_1_year = create_target_variable_closing_hourly(btc_price_data_1_year)"
   ]
  },
  {
   "cell_type": "code",
   "execution_count": 40,
   "id": "2b20d4c5-a3eb-45d0-82ac-1dd2ce83e537",
   "metadata": {},
   "outputs": [],
   "source": [
    "# Target: Next hour's close price\n",
    "btc_price_data_1_year['target'] = btc_price_data_1_year['close'].shift(-1)"
   ]
  },
  {
   "cell_type": "code",
   "execution_count": 41,
   "id": "0a4387b2-cac7-484f-b324-d8d12deec7a2",
   "metadata": {},
   "outputs": [],
   "source": [
    "# Generate target variable: 1 if price goes up, 0 if price goes down\n",
    "# btc_price_data_1_year['target'] = np.where(btc_price_data_1_year['close'].shift(-1) > btc_price_data_1_year['close'], 1, 0)"
   ]
  },
  {
   "cell_type": "code",
   "execution_count": 42,
   "id": "831a8c8e-73de-491e-9dc3-2c86ac850fa3",
   "metadata": {},
   "outputs": [
    {
     "data": {
      "text/plain": [
       "target\n",
       "64000.00     20\n",
       "67000.00     17\n",
       "63000.00     17\n",
       "62800.00     15\n",
       "69500.00     15\n",
       "             ..\n",
       "67229.15      1\n",
       "67255.68      1\n",
       "67301.85      1\n",
       "67234.51      1\n",
       "103889.08     1\n",
       "Name: count, Length: 473079, dtype: int64"
      ]
     },
     "execution_count": 42,
     "metadata": {},
     "output_type": "execute_result"
    }
   ],
   "source": [
    "btc_price_data_1_year['target'].value_counts()"
   ]
  },
  {
   "cell_type": "code",
   "execution_count": 43,
   "id": "e12ad7a4-a754-41c9-b2bd-0a80b2437aa7",
   "metadata": {},
   "outputs": [
    {
     "data": {
      "text/html": [
       "<div>\n",
       "<style scoped>\n",
       "    .dataframe tbody tr th:only-of-type {\n",
       "        vertical-align: middle;\n",
       "    }\n",
       "\n",
       "    .dataframe tbody tr th {\n",
       "        vertical-align: top;\n",
       "    }\n",
       "\n",
       "    .dataframe thead th {\n",
       "        text-align: right;\n",
       "    }\n",
       "</style>\n",
       "<table border=\"1\" class=\"dataframe\">\n",
       "  <thead>\n",
       "    <tr style=\"text-align: right;\">\n",
       "      <th></th>\n",
       "      <th>open</th>\n",
       "      <th>high</th>\n",
       "      <th>low</th>\n",
       "      <th>close</th>\n",
       "      <th>volume</th>\n",
       "      <th>month</th>\n",
       "      <th>day</th>\n",
       "      <th>weekday</th>\n",
       "      <th>hour</th>\n",
       "      <th>hour_sin</th>\n",
       "      <th>...</th>\n",
       "      <th>lag_67</th>\n",
       "      <th>lag_70</th>\n",
       "      <th>RSI</th>\n",
       "      <th>EMA12</th>\n",
       "      <th>EMA26</th>\n",
       "      <th>MACD</th>\n",
       "      <th>Signal_Line</th>\n",
       "      <th>SMA</th>\n",
       "      <th>EMA</th>\n",
       "      <th>target</th>\n",
       "    </tr>\n",
       "    <tr>\n",
       "      <th>timestamp</th>\n",
       "      <th></th>\n",
       "      <th></th>\n",
       "      <th></th>\n",
       "      <th></th>\n",
       "      <th></th>\n",
       "      <th></th>\n",
       "      <th></th>\n",
       "      <th></th>\n",
       "      <th></th>\n",
       "      <th></th>\n",
       "      <th></th>\n",
       "      <th></th>\n",
       "      <th></th>\n",
       "      <th></th>\n",
       "      <th></th>\n",
       "      <th></th>\n",
       "      <th></th>\n",
       "      <th></th>\n",
       "      <th></th>\n",
       "      <th></th>\n",
       "      <th></th>\n",
       "    </tr>\n",
       "  </thead>\n",
       "  <tbody>\n",
       "    <tr>\n",
       "      <th>2024-01-25 00:00:00</th>\n",
       "      <td>40051.20</td>\n",
       "      <td>40079.88</td>\n",
       "      <td>40079.87</td>\n",
       "      <td>40051.80</td>\n",
       "      <td>6.601578</td>\n",
       "      <td>1.0</td>\n",
       "      <td>25.0</td>\n",
       "      <td>3.0</td>\n",
       "      <td>0.0</td>\n",
       "      <td>0.000000</td>\n",
       "      <td>...</td>\n",
       "      <td>NaN</td>\n",
       "      <td>NaN</td>\n",
       "      <td>NaN</td>\n",
       "      <td>40051.800000</td>\n",
       "      <td>40051.800000</td>\n",
       "      <td>0.000000</td>\n",
       "      <td>0.000000</td>\n",
       "      <td>NaN</td>\n",
       "      <td>40051.800000</td>\n",
       "      <td>40061.92</td>\n",
       "    </tr>\n",
       "    <tr>\n",
       "      <th>2024-01-25 00:01:00</th>\n",
       "      <td>40041.00</td>\n",
       "      <td>40070.32</td>\n",
       "      <td>40051.60</td>\n",
       "      <td>40061.92</td>\n",
       "      <td>7.541910</td>\n",
       "      <td>1.0</td>\n",
       "      <td>25.0</td>\n",
       "      <td>3.0</td>\n",
       "      <td>0.0</td>\n",
       "      <td>0.000000</td>\n",
       "      <td>...</td>\n",
       "      <td>NaN</td>\n",
       "      <td>NaN</td>\n",
       "      <td>100.000000</td>\n",
       "      <td>40053.356923</td>\n",
       "      <td>40052.549630</td>\n",
       "      <td>0.807293</td>\n",
       "      <td>0.161459</td>\n",
       "      <td>NaN</td>\n",
       "      <td>40052.763810</td>\n",
       "      <td>40042.82</td>\n",
       "    </tr>\n",
       "    <tr>\n",
       "      <th>2024-01-25 00:02:00</th>\n",
       "      <td>40038.13</td>\n",
       "      <td>40068.79</td>\n",
       "      <td>40061.59</td>\n",
       "      <td>40042.82</td>\n",
       "      <td>7.078218</td>\n",
       "      <td>1.0</td>\n",
       "      <td>25.0</td>\n",
       "      <td>3.0</td>\n",
       "      <td>0.0</td>\n",
       "      <td>0.000000</td>\n",
       "      <td>...</td>\n",
       "      <td>NaN</td>\n",
       "      <td>NaN</td>\n",
       "      <td>34.633812</td>\n",
       "      <td>40051.735858</td>\n",
       "      <td>40051.828916</td>\n",
       "      <td>-0.093058</td>\n",
       "      <td>0.110555</td>\n",
       "      <td>NaN</td>\n",
       "      <td>40051.816780</td>\n",
       "      <td>40055.80</td>\n",
       "    </tr>\n",
       "    <tr>\n",
       "      <th>2024-01-25 00:03:00</th>\n",
       "      <td>40043.36</td>\n",
       "      <td>40056.15</td>\n",
       "      <td>40043.36</td>\n",
       "      <td>40055.80</td>\n",
       "      <td>1.614071</td>\n",
       "      <td>1.0</td>\n",
       "      <td>25.0</td>\n",
       "      <td>3.0</td>\n",
       "      <td>0.0</td>\n",
       "      <td>0.000000</td>\n",
       "      <td>...</td>\n",
       "      <td>NaN</td>\n",
       "      <td>NaN</td>\n",
       "      <td>54.739336</td>\n",
       "      <td>40052.361111</td>\n",
       "      <td>40052.123071</td>\n",
       "      <td>0.238040</td>\n",
       "      <td>0.136052</td>\n",
       "      <td>NaN</td>\n",
       "      <td>40052.196134</td>\n",
       "      <td>40063.20</td>\n",
       "    </tr>\n",
       "    <tr>\n",
       "      <th>2024-01-25 00:04:00</th>\n",
       "      <td>40052.64</td>\n",
       "      <td>40063.21</td>\n",
       "      <td>40056.15</td>\n",
       "      <td>40063.20</td>\n",
       "      <td>1.924187</td>\n",
       "      <td>1.0</td>\n",
       "      <td>25.0</td>\n",
       "      <td>3.0</td>\n",
       "      <td>0.0</td>\n",
       "      <td>0.000000</td>\n",
       "      <td>...</td>\n",
       "      <td>NaN</td>\n",
       "      <td>NaN</td>\n",
       "      <td>61.491935</td>\n",
       "      <td>40054.028632</td>\n",
       "      <td>40052.943584</td>\n",
       "      <td>1.085048</td>\n",
       "      <td>0.325851</td>\n",
       "      <td>NaN</td>\n",
       "      <td>40053.244122</td>\n",
       "      <td>40052.61</td>\n",
       "    </tr>\n",
       "    <tr>\n",
       "      <th>...</th>\n",
       "      <td>...</td>\n",
       "      <td>...</td>\n",
       "      <td>...</td>\n",
       "      <td>...</td>\n",
       "      <td>...</td>\n",
       "      <td>...</td>\n",
       "      <td>...</td>\n",
       "      <td>...</td>\n",
       "      <td>...</td>\n",
       "      <td>...</td>\n",
       "      <td>...</td>\n",
       "      <td>...</td>\n",
       "      <td>...</td>\n",
       "      <td>...</td>\n",
       "      <td>...</td>\n",
       "      <td>...</td>\n",
       "      <td>...</td>\n",
       "      <td>...</td>\n",
       "      <td>...</td>\n",
       "      <td>...</td>\n",
       "      <td>...</td>\n",
       "    </tr>\n",
       "    <tr>\n",
       "      <th>2025-01-23 23:56:00</th>\n",
       "      <td>104047.01</td>\n",
       "      <td>104112.45</td>\n",
       "      <td>104064.68</td>\n",
       "      <td>104079.63</td>\n",
       "      <td>6.922352</td>\n",
       "      <td>1.0</td>\n",
       "      <td>23.0</td>\n",
       "      <td>3.0</td>\n",
       "      <td>23.0</td>\n",
       "      <td>-0.258819</td>\n",
       "      <td>...</td>\n",
       "      <td>104137.62</td>\n",
       "      <td>103965.81</td>\n",
       "      <td>29.373136</td>\n",
       "      <td>104104.705340</td>\n",
       "      <td>104159.758613</td>\n",
       "      <td>-55.053273</td>\n",
       "      <td>-53.582300</td>\n",
       "      <td>104137.7735</td>\n",
       "      <td>104139.849113</td>\n",
       "      <td>104079.60</td>\n",
       "    </tr>\n",
       "    <tr>\n",
       "      <th>2025-01-23 23:57:00</th>\n",
       "      <td>104052.01</td>\n",
       "      <td>104088.97</td>\n",
       "      <td>104079.63</td>\n",
       "      <td>104079.60</td>\n",
       "      <td>1.628341</td>\n",
       "      <td>1.0</td>\n",
       "      <td>23.0</td>\n",
       "      <td>3.0</td>\n",
       "      <td>23.0</td>\n",
       "      <td>-0.258819</td>\n",
       "      <td>...</td>\n",
       "      <td>104062.07</td>\n",
       "      <td>104244.16</td>\n",
       "      <td>35.065829</td>\n",
       "      <td>104100.842980</td>\n",
       "      <td>104153.820938</td>\n",
       "      <td>-52.977958</td>\n",
       "      <td>-53.461431</td>\n",
       "      <td>104129.8905</td>\n",
       "      <td>104134.111102</td>\n",
       "      <td>103964.62</td>\n",
       "    </tr>\n",
       "    <tr>\n",
       "      <th>2025-01-23 23:58:00</th>\n",
       "      <td>103928.31</td>\n",
       "      <td>104088.89</td>\n",
       "      <td>104079.60</td>\n",
       "      <td>103964.62</td>\n",
       "      <td>10.861781</td>\n",
       "      <td>1.0</td>\n",
       "      <td>23.0</td>\n",
       "      <td>3.0</td>\n",
       "      <td>23.0</td>\n",
       "      <td>-0.258819</td>\n",
       "      <td>...</td>\n",
       "      <td>103971.10</td>\n",
       "      <td>104230.35</td>\n",
       "      <td>26.167828</td>\n",
       "      <td>104079.885599</td>\n",
       "      <td>104139.806054</td>\n",
       "      <td>-59.920455</td>\n",
       "      <td>-54.753236</td>\n",
       "      <td>104116.4745</td>\n",
       "      <td>104117.969092</td>\n",
       "      <td>103926.36</td>\n",
       "    </tr>\n",
       "    <tr>\n",
       "      <th>2025-01-23 23:59:00</th>\n",
       "      <td>103900.00</td>\n",
       "      <td>103973.87</td>\n",
       "      <td>103964.62</td>\n",
       "      <td>103926.36</td>\n",
       "      <td>6.802193</td>\n",
       "      <td>1.0</td>\n",
       "      <td>23.0</td>\n",
       "      <td>3.0</td>\n",
       "      <td>23.0</td>\n",
       "      <td>-0.258819</td>\n",
       "      <td>...</td>\n",
       "      <td>104039.15</td>\n",
       "      <td>104137.62</td>\n",
       "      <td>25.962604</td>\n",
       "      <td>104056.266276</td>\n",
       "      <td>104123.995235</td>\n",
       "      <td>-67.728959</td>\n",
       "      <td>-57.348381</td>\n",
       "      <td>104103.1355</td>\n",
       "      <td>104099.720607</td>\n",
       "      <td>103889.08</td>\n",
       "    </tr>\n",
       "    <tr>\n",
       "      <th>2025-01-24 00:00:00</th>\n",
       "      <td>103857.80</td>\n",
       "      <td>103947.90</td>\n",
       "      <td>103926.36</td>\n",
       "      <td>103889.08</td>\n",
       "      <td>17.378134</td>\n",
       "      <td>1.0</td>\n",
       "      <td>24.0</td>\n",
       "      <td>4.0</td>\n",
       "      <td>0.0</td>\n",
       "      <td>0.000000</td>\n",
       "      <td>...</td>\n",
       "      <td>104012.13</td>\n",
       "      <td>104062.07</td>\n",
       "      <td>25.256466</td>\n",
       "      <td>104030.545310</td>\n",
       "      <td>104106.594107</td>\n",
       "      <td>-76.048796</td>\n",
       "      <td>-61.088464</td>\n",
       "      <td>104084.8260</td>\n",
       "      <td>104079.659597</td>\n",
       "      <td>NaN</td>\n",
       "    </tr>\n",
       "  </tbody>\n",
       "</table>\n",
       "<p>527185 rows × 59 columns</p>\n",
       "</div>"
      ],
      "text/plain": [
       "                          open       high        low      close     volume  \\\n",
       "timestamp                                                                    \n",
       "2024-01-25 00:00:00   40051.20   40079.88   40079.87   40051.80   6.601578   \n",
       "2024-01-25 00:01:00   40041.00   40070.32   40051.60   40061.92   7.541910   \n",
       "2024-01-25 00:02:00   40038.13   40068.79   40061.59   40042.82   7.078218   \n",
       "2024-01-25 00:03:00   40043.36   40056.15   40043.36   40055.80   1.614071   \n",
       "2024-01-25 00:04:00   40052.64   40063.21   40056.15   40063.20   1.924187   \n",
       "...                        ...        ...        ...        ...        ...   \n",
       "2025-01-23 23:56:00  104047.01  104112.45  104064.68  104079.63   6.922352   \n",
       "2025-01-23 23:57:00  104052.01  104088.97  104079.63  104079.60   1.628341   \n",
       "2025-01-23 23:58:00  103928.31  104088.89  104079.60  103964.62  10.861781   \n",
       "2025-01-23 23:59:00  103900.00  103973.87  103964.62  103926.36   6.802193   \n",
       "2025-01-24 00:00:00  103857.80  103947.90  103926.36  103889.08  17.378134   \n",
       "\n",
       "                     month   day  weekday  hour  hour_sin  ...     lag_67  \\\n",
       "timestamp                                                  ...              \n",
       "2024-01-25 00:00:00    1.0  25.0      3.0   0.0  0.000000  ...        NaN   \n",
       "2024-01-25 00:01:00    1.0  25.0      3.0   0.0  0.000000  ...        NaN   \n",
       "2024-01-25 00:02:00    1.0  25.0      3.0   0.0  0.000000  ...        NaN   \n",
       "2024-01-25 00:03:00    1.0  25.0      3.0   0.0  0.000000  ...        NaN   \n",
       "2024-01-25 00:04:00    1.0  25.0      3.0   0.0  0.000000  ...        NaN   \n",
       "...                    ...   ...      ...   ...       ...  ...        ...   \n",
       "2025-01-23 23:56:00    1.0  23.0      3.0  23.0 -0.258819  ...  104137.62   \n",
       "2025-01-23 23:57:00    1.0  23.0      3.0  23.0 -0.258819  ...  104062.07   \n",
       "2025-01-23 23:58:00    1.0  23.0      3.0  23.0 -0.258819  ...  103971.10   \n",
       "2025-01-23 23:59:00    1.0  23.0      3.0  23.0 -0.258819  ...  104039.15   \n",
       "2025-01-24 00:00:00    1.0  24.0      4.0   0.0  0.000000  ...  104012.13   \n",
       "\n",
       "                        lag_70         RSI          EMA12          EMA26  \\\n",
       "timestamp                                                                  \n",
       "2024-01-25 00:00:00        NaN         NaN   40051.800000   40051.800000   \n",
       "2024-01-25 00:01:00        NaN  100.000000   40053.356923   40052.549630   \n",
       "2024-01-25 00:02:00        NaN   34.633812   40051.735858   40051.828916   \n",
       "2024-01-25 00:03:00        NaN   54.739336   40052.361111   40052.123071   \n",
       "2024-01-25 00:04:00        NaN   61.491935   40054.028632   40052.943584   \n",
       "...                        ...         ...            ...            ...   \n",
       "2025-01-23 23:56:00  103965.81   29.373136  104104.705340  104159.758613   \n",
       "2025-01-23 23:57:00  104244.16   35.065829  104100.842980  104153.820938   \n",
       "2025-01-23 23:58:00  104230.35   26.167828  104079.885599  104139.806054   \n",
       "2025-01-23 23:59:00  104137.62   25.962604  104056.266276  104123.995235   \n",
       "2025-01-24 00:00:00  104062.07   25.256466  104030.545310  104106.594107   \n",
       "\n",
       "                          MACD  Signal_Line          SMA            EMA  \\\n",
       "timestamp                                                                 \n",
       "2024-01-25 00:00:00   0.000000     0.000000          NaN   40051.800000   \n",
       "2024-01-25 00:01:00   0.807293     0.161459          NaN   40052.763810   \n",
       "2024-01-25 00:02:00  -0.093058     0.110555          NaN   40051.816780   \n",
       "2024-01-25 00:03:00   0.238040     0.136052          NaN   40052.196134   \n",
       "2024-01-25 00:04:00   1.085048     0.325851          NaN   40053.244122   \n",
       "...                        ...          ...          ...            ...   \n",
       "2025-01-23 23:56:00 -55.053273   -53.582300  104137.7735  104139.849113   \n",
       "2025-01-23 23:57:00 -52.977958   -53.461431  104129.8905  104134.111102   \n",
       "2025-01-23 23:58:00 -59.920455   -54.753236  104116.4745  104117.969092   \n",
       "2025-01-23 23:59:00 -67.728959   -57.348381  104103.1355  104099.720607   \n",
       "2025-01-24 00:00:00 -76.048796   -61.088464  104084.8260  104079.659597   \n",
       "\n",
       "                        target  \n",
       "timestamp                       \n",
       "2024-01-25 00:00:00   40061.92  \n",
       "2024-01-25 00:01:00   40042.82  \n",
       "2024-01-25 00:02:00   40055.80  \n",
       "2024-01-25 00:03:00   40063.20  \n",
       "2024-01-25 00:04:00   40052.61  \n",
       "...                        ...  \n",
       "2025-01-23 23:56:00  104079.60  \n",
       "2025-01-23 23:57:00  103964.62  \n",
       "2025-01-23 23:58:00  103926.36  \n",
       "2025-01-23 23:59:00  103889.08  \n",
       "2025-01-24 00:00:00        NaN  \n",
       "\n",
       "[527185 rows x 59 columns]"
      ]
     },
     "execution_count": 43,
     "metadata": {},
     "output_type": "execute_result"
    }
   ],
   "source": [
    "btc_price_data_1_year"
   ]
  },
  {
   "cell_type": "code",
   "execution_count": null,
   "id": "892a84f1-b321-414a-ae20-b5bcd069fbb6",
   "metadata": {},
   "outputs": [],
   "source": []
  },
  {
   "cell_type": "markdown",
   "id": "ba4429a4-f594-4147-8deb-e25739b64eed",
   "metadata": {},
   "source": [
    "## 7. Clean up the Data"
   ]
  },
  {
   "cell_type": "code",
   "execution_count": 45,
   "id": "05a4e168-4e9c-4c56-ae34-4a668012d511",
   "metadata": {
    "scrolled": true
   },
   "outputs": [
    {
     "data": {
      "text/html": [
       "<div>\n",
       "<style scoped>\n",
       "    .dataframe tbody tr th:only-of-type {\n",
       "        vertical-align: middle;\n",
       "    }\n",
       "\n",
       "    .dataframe tbody tr th {\n",
       "        vertical-align: top;\n",
       "    }\n",
       "\n",
       "    .dataframe thead th {\n",
       "        text-align: right;\n",
       "    }\n",
       "</style>\n",
       "<table border=\"1\" class=\"dataframe\">\n",
       "  <thead>\n",
       "    <tr style=\"text-align: right;\">\n",
       "      <th></th>\n",
       "      <th>count</th>\n",
       "      <th>mean</th>\n",
       "      <th>std</th>\n",
       "      <th>min</th>\n",
       "      <th>25%</th>\n",
       "      <th>50%</th>\n",
       "      <th>75%</th>\n",
       "      <th>max</th>\n",
       "    </tr>\n",
       "  </thead>\n",
       "  <tbody>\n",
       "    <tr>\n",
       "      <th>open</th>\n",
       "      <td>527185.0</td>\n",
       "      <td>69423.311389</td>\n",
       "      <td>15429.285709</td>\n",
       "      <td>39503.000000</td>\n",
       "      <td>60757.240000</td>\n",
       "      <td>6.573679e+04</td>\n",
       "      <td>70694.260000</td>\n",
       "      <td>108768.040000</td>\n",
       "    </tr>\n",
       "    <tr>\n",
       "      <th>high</th>\n",
       "      <td>527185.0</td>\n",
       "      <td>69484.281813</td>\n",
       "      <td>15445.681849</td>\n",
       "      <td>39544.660000</td>\n",
       "      <td>60803.890000</td>\n",
       "      <td>6.578358e+04</td>\n",
       "      <td>70750.800000</td>\n",
       "      <td>109358.010000</td>\n",
       "    </tr>\n",
       "    <tr>\n",
       "      <th>low</th>\n",
       "      <td>527185.0</td>\n",
       "      <td>69453.742158</td>\n",
       "      <td>15437.450474</td>\n",
       "      <td>39533.470000</td>\n",
       "      <td>60780.210000</td>\n",
       "      <td>6.576009e+04</td>\n",
       "      <td>70723.790000</td>\n",
       "      <td>108954.900000</td>\n",
       "    </tr>\n",
       "    <tr>\n",
       "      <th>close</th>\n",
       "      <td>527185.0</td>\n",
       "      <td>69454.050246</td>\n",
       "      <td>15437.463194</td>\n",
       "      <td>39533.480000</td>\n",
       "      <td>60780.690000</td>\n",
       "      <td>6.576022e+04</td>\n",
       "      <td>70723.000000</td>\n",
       "      <td>108951.030000</td>\n",
       "    </tr>\n",
       "    <tr>\n",
       "      <th>volume</th>\n",
       "      <td>527185.0</td>\n",
       "      <td>8.978855</td>\n",
       "      <td>16.369091</td>\n",
       "      <td>0.000166</td>\n",
       "      <td>1.669723</td>\n",
       "      <td>3.956193e+00</td>\n",
       "      <td>9.717255</td>\n",
       "      <td>1047.117525</td>\n",
       "    </tr>\n",
       "    <tr>\n",
       "      <th>month</th>\n",
       "      <td>527185.0</td>\n",
       "      <td>6.528672</td>\n",
       "      <td>3.443956</td>\n",
       "      <td>1.000000</td>\n",
       "      <td>4.000000</td>\n",
       "      <td>7.000000e+00</td>\n",
       "      <td>10.000000</td>\n",
       "      <td>12.000000</td>\n",
       "    </tr>\n",
       "    <tr>\n",
       "      <th>day</th>\n",
       "      <td>527185.0</td>\n",
       "      <td>15.731193</td>\n",
       "      <td>8.811791</td>\n",
       "      <td>1.000000</td>\n",
       "      <td>8.000000</td>\n",
       "      <td>1.600000e+01</td>\n",
       "      <td>23.000000</td>\n",
       "      <td>31.000000</td>\n",
       "    </tr>\n",
       "    <tr>\n",
       "      <th>weekday</th>\n",
       "      <td>527185.0</td>\n",
       "      <td>2.999566</td>\n",
       "      <td>1.997391</td>\n",
       "      <td>0.000000</td>\n",
       "      <td>1.000000</td>\n",
       "      <td>3.000000e+00</td>\n",
       "      <td>5.000000</td>\n",
       "      <td>6.000000</td>\n",
       "    </tr>\n",
       "    <tr>\n",
       "      <th>hour</th>\n",
       "      <td>527185.0</td>\n",
       "      <td>11.497469</td>\n",
       "      <td>6.921639</td>\n",
       "      <td>0.000000</td>\n",
       "      <td>5.000000</td>\n",
       "      <td>1.100000e+01</td>\n",
       "      <td>17.000000</td>\n",
       "      <td>23.000000</td>\n",
       "    </tr>\n",
       "    <tr>\n",
       "      <th>hour_sin</th>\n",
       "      <td>527185.0</td>\n",
       "      <td>0.000213</td>\n",
       "      <td>0.707107</td>\n",
       "      <td>-1.000000</td>\n",
       "      <td>-0.707107</td>\n",
       "      <td>1.224647e-16</td>\n",
       "      <td>0.707107</td>\n",
       "      <td>1.000000</td>\n",
       "    </tr>\n",
       "    <tr>\n",
       "      <th>hour_cos</th>\n",
       "      <td>527185.0</td>\n",
       "      <td>-0.000092</td>\n",
       "      <td>0.707108</td>\n",
       "      <td>-1.000000</td>\n",
       "      <td>-0.707107</td>\n",
       "      <td>-1.836970e-16</td>\n",
       "      <td>0.707107</td>\n",
       "      <td>1.000000</td>\n",
       "    </tr>\n",
       "    <tr>\n",
       "      <th>weekday_sin</th>\n",
       "      <td>527185.0</td>\n",
       "      <td>0.001394</td>\n",
       "      <td>0.706497</td>\n",
       "      <td>-0.974928</td>\n",
       "      <td>-0.781831</td>\n",
       "      <td>0.000000e+00</td>\n",
       "      <td>0.781831</td>\n",
       "      <td>0.974928</td>\n",
       "    </tr>\n",
       "    <tr>\n",
       "      <th>weekday_cos</th>\n",
       "      <td>527185.0</td>\n",
       "      <td>-0.002283</td>\n",
       "      <td>0.707713</td>\n",
       "      <td>-0.900969</td>\n",
       "      <td>-0.900969</td>\n",
       "      <td>-2.225209e-01</td>\n",
       "      <td>0.623490</td>\n",
       "      <td>1.000000</td>\n",
       "    </tr>\n",
       "    <tr>\n",
       "      <th>trend</th>\n",
       "      <td>527185.0</td>\n",
       "      <td>69456.603824</td>\n",
       "      <td>15438.279159</td>\n",
       "      <td>39624.799563</td>\n",
       "      <td>60786.646359</td>\n",
       "      <td>6.575854e+04</td>\n",
       "      <td>70726.079770</td>\n",
       "      <td>108240.424696</td>\n",
       "    </tr>\n",
       "    <tr>\n",
       "      <th>seasonal</th>\n",
       "      <td>527185.0</td>\n",
       "      <td>0.000366</td>\n",
       "      <td>48.396805</td>\n",
       "      <td>-2032.181975</td>\n",
       "      <td>-17.211796</td>\n",
       "      <td>-1.416802e-02</td>\n",
       "      <td>17.401014</td>\n",
       "      <td>1736.254698</td>\n",
       "    </tr>\n",
       "    <tr>\n",
       "      <th>residual</th>\n",
       "      <td>527185.0</td>\n",
       "      <td>-2.553944</td>\n",
       "      <td>129.526239</td>\n",
       "      <td>-4448.943187</td>\n",
       "      <td>-23.501266</td>\n",
       "      <td>-2.804416e-01</td>\n",
       "      <td>22.700657</td>\n",
       "      <td>3391.096413</td>\n",
       "    </tr>\n",
       "    <tr>\n",
       "      <th>trend_lag_1</th>\n",
       "      <td>527184.0</td>\n",
       "      <td>69456.537833</td>\n",
       "      <td>15438.219447</td>\n",
       "      <td>39624.799563</td>\n",
       "      <td>60786.640878</td>\n",
       "      <td>6.575852e+04</td>\n",
       "      <td>70725.889536</td>\n",
       "      <td>108240.424696</td>\n",
       "    </tr>\n",
       "    <tr>\n",
       "      <th>seasonal_lag_1</th>\n",
       "      <td>527184.0</td>\n",
       "      <td>0.000226</td>\n",
       "      <td>48.396745</td>\n",
       "      <td>-2032.181975</td>\n",
       "      <td>-17.211799</td>\n",
       "      <td>-1.421921e-02</td>\n",
       "      <td>17.400905</td>\n",
       "      <td>1736.254698</td>\n",
       "    </tr>\n",
       "    <tr>\n",
       "      <th>residual_lag_1</th>\n",
       "      <td>527184.0</td>\n",
       "      <td>-2.553132</td>\n",
       "      <td>129.525021</td>\n",
       "      <td>-4448.943187</td>\n",
       "      <td>-23.501217</td>\n",
       "      <td>-2.804132e-01</td>\n",
       "      <td>22.700723</td>\n",
       "      <td>3391.096413</td>\n",
       "    </tr>\n",
       "    <tr>\n",
       "      <th>trend_lag_2</th>\n",
       "      <td>527183.0</td>\n",
       "      <td>69456.471842</td>\n",
       "      <td>15438.159734</td>\n",
       "      <td>39624.799563</td>\n",
       "      <td>60786.635397</td>\n",
       "      <td>6.575850e+04</td>\n",
       "      <td>70725.824943</td>\n",
       "      <td>108240.424696</td>\n",
       "    </tr>\n",
       "    <tr>\n",
       "      <th>seasonal_lag_2</th>\n",
       "      <td>527183.0</td>\n",
       "      <td>0.000058</td>\n",
       "      <td>48.396637</td>\n",
       "      <td>-2032.181975</td>\n",
       "      <td>-17.211802</td>\n",
       "      <td>-1.427041e-02</td>\n",
       "      <td>17.400846</td>\n",
       "      <td>1736.254698</td>\n",
       "    </tr>\n",
       "    <tr>\n",
       "      <th>residual_lag_2</th>\n",
       "      <td>527183.0</td>\n",
       "      <td>-2.552362</td>\n",
       "      <td>129.523938</td>\n",
       "      <td>-4448.943187</td>\n",
       "      <td>-23.501192</td>\n",
       "      <td>-2.803848e-01</td>\n",
       "      <td>22.700789</td>\n",
       "      <td>3391.096413</td>\n",
       "    </tr>\n",
       "    <tr>\n",
       "      <th>trend_lag_3</th>\n",
       "      <td>527182.0</td>\n",
       "      <td>69456.405850</td>\n",
       "      <td>15438.100020</td>\n",
       "      <td>39624.799563</td>\n",
       "      <td>60786.629916</td>\n",
       "      <td>6.575849e+04</td>\n",
       "      <td>70725.807554</td>\n",
       "      <td>108240.424696</td>\n",
       "    </tr>\n",
       "    <tr>\n",
       "      <th>seasonal_lag_3</th>\n",
       "      <td>527182.0</td>\n",
       "      <td>-0.000130</td>\n",
       "      <td>48.396490</td>\n",
       "      <td>-2032.181975</td>\n",
       "      <td>-17.211805</td>\n",
       "      <td>-1.430817e-02</td>\n",
       "      <td>17.400804</td>\n",
       "      <td>1736.254698</td>\n",
       "    </tr>\n",
       "    <tr>\n",
       "      <th>residual_lag_3</th>\n",
       "      <td>527182.0</td>\n",
       "      <td>-2.551645</td>\n",
       "      <td>129.523014</td>\n",
       "      <td>-4448.943187</td>\n",
       "      <td>-23.501113</td>\n",
       "      <td>-2.801878e-01</td>\n",
       "      <td>22.700855</td>\n",
       "      <td>3391.096413</td>\n",
       "    </tr>\n",
       "    <tr>\n",
       "      <th>trend_rolling_mean</th>\n",
       "      <td>527162.0</td>\n",
       "      <td>69456.486313</td>\n",
       "      <td>15437.042311</td>\n",
       "      <td>39638.345173</td>\n",
       "      <td>60786.889910</td>\n",
       "      <td>6.575759e+04</td>\n",
       "      <td>70726.535670</td>\n",
       "      <td>108236.577680</td>\n",
       "    </tr>\n",
       "    <tr>\n",
       "      <th>residual_rolling_std</th>\n",
       "      <td>527162.0</td>\n",
       "      <td>66.038899</td>\n",
       "      <td>70.150600</td>\n",
       "      <td>2.703012</td>\n",
       "      <td>23.815709</td>\n",
       "      <td>4.175235e+01</td>\n",
       "      <td>84.279340</td>\n",
       "      <td>1853.587759</td>\n",
       "    </tr>\n",
       "    <tr>\n",
       "      <th>close_trend_diff</th>\n",
       "      <td>527185.0</td>\n",
       "      <td>-2.553579</td>\n",
       "      <td>127.001077</td>\n",
       "      <td>-4564.922085</td>\n",
       "      <td>-36.030635</td>\n",
       "      <td>-3.547381e-01</td>\n",
       "      <td>34.815446</td>\n",
       "      <td>3261.860645</td>\n",
       "    </tr>\n",
       "    <tr>\n",
       "      <th>close_seasonal_diff</th>\n",
       "      <td>527185.0</td>\n",
       "      <td>69454.049880</td>\n",
       "      <td>15437.482761</td>\n",
       "      <td>39520.293074</td>\n",
       "      <td>60782.089895</td>\n",
       "      <td>6.575888e+04</td>\n",
       "      <td>70722.984578</td>\n",
       "      <td>109125.228155</td>\n",
       "    </tr>\n",
       "    <tr>\n",
       "      <th>close_roll_mean_6</th>\n",
       "      <td>527180.0</td>\n",
       "      <td>69454.026069</td>\n",
       "      <td>15437.131007</td>\n",
       "      <td>39553.026667</td>\n",
       "      <td>60782.704167</td>\n",
       "      <td>6.575790e+04</td>\n",
       "      <td>70721.404167</td>\n",
       "      <td>108775.368333</td>\n",
       "    </tr>\n",
       "    <tr>\n",
       "      <th>close_roll_std_6</th>\n",
       "      <td>527180.0</td>\n",
       "      <td>41.726272</td>\n",
       "      <td>39.839244</td>\n",
       "      <td>0.000000</td>\n",
       "      <td>18.502637</td>\n",
       "      <td>3.057438e+01</td>\n",
       "      <td>51.518406</td>\n",
       "      <td>2120.357692</td>\n",
       "    </tr>\n",
       "    <tr>\n",
       "      <th>close_roll_mean_12</th>\n",
       "      <td>527174.0</td>\n",
       "      <td>69453.996451</td>\n",
       "      <td>15436.746986</td>\n",
       "      <td>39573.138333</td>\n",
       "      <td>60782.227708</td>\n",
       "      <td>6.575737e+04</td>\n",
       "      <td>70721.822917</td>\n",
       "      <td>108687.427500</td>\n",
       "    </tr>\n",
       "    <tr>\n",
       "      <th>close_roll_std_12</th>\n",
       "      <td>527174.0</td>\n",
       "      <td>57.529536</td>\n",
       "      <td>52.994341</td>\n",
       "      <td>0.967829</td>\n",
       "      <td>26.334095</td>\n",
       "      <td>4.266311e+01</td>\n",
       "      <td>70.683200</td>\n",
       "      <td>1875.214047</td>\n",
       "    </tr>\n",
       "    <tr>\n",
       "      <th>close_roll_mean_24</th>\n",
       "      <td>527162.0</td>\n",
       "      <td>69453.936634</td>\n",
       "      <td>15435.982643</td>\n",
       "      <td>39602.088750</td>\n",
       "      <td>60783.471354</td>\n",
       "      <td>6.575612e+04</td>\n",
       "      <td>70724.287708</td>\n",
       "      <td>108504.418750</td>\n",
       "    </tr>\n",
       "    <tr>\n",
       "      <th>close_roll_std_24</th>\n",
       "      <td>527162.0</td>\n",
       "      <td>79.762868</td>\n",
       "      <td>72.495187</td>\n",
       "      <td>1.661955</td>\n",
       "      <td>37.058172</td>\n",
       "      <td>5.937555e+01</td>\n",
       "      <td>96.993957</td>\n",
       "      <td>1952.270460</td>\n",
       "    </tr>\n",
       "    <tr>\n",
       "      <th>volume_roll_mean_6</th>\n",
       "      <td>527180.0</td>\n",
       "      <td>8.978862</td>\n",
       "      <td>13.486886</td>\n",
       "      <td>0.056345</td>\n",
       "      <td>2.250866</td>\n",
       "      <td>4.560601e+00</td>\n",
       "      <td>10.157515</td>\n",
       "      <td>479.932661</td>\n",
       "    </tr>\n",
       "    <tr>\n",
       "      <th>volume_roll_std_6</th>\n",
       "      <td>527180.0</td>\n",
       "      <td>5.133138</td>\n",
       "      <td>8.770114</td>\n",
       "      <td>0.019404</td>\n",
       "      <td>1.252332</td>\n",
       "      <td>2.616327e+00</td>\n",
       "      <td>5.611033</td>\n",
       "      <td>416.820959</td>\n",
       "    </tr>\n",
       "    <tr>\n",
       "      <th>volume_roll_mean_12</th>\n",
       "      <td>527174.0</td>\n",
       "      <td>8.978909</td>\n",
       "      <td>12.652889</td>\n",
       "      <td>0.076574</td>\n",
       "      <td>2.412814</td>\n",
       "      <td>4.725591e+00</td>\n",
       "      <td>10.330600</td>\n",
       "      <td>356.150894</td>\n",
       "    </tr>\n",
       "    <tr>\n",
       "      <th>volume_roll_std_12</th>\n",
       "      <td>527174.0</td>\n",
       "      <td>5.901912</td>\n",
       "      <td>9.101046</td>\n",
       "      <td>0.051403</td>\n",
       "      <td>1.612966</td>\n",
       "      <td>3.177264e+00</td>\n",
       "      <td>6.665983</td>\n",
       "      <td>297.795412</td>\n",
       "    </tr>\n",
       "    <tr>\n",
       "      <th>volume_roll_mean_24</th>\n",
       "      <td>527162.0</td>\n",
       "      <td>8.979003</td>\n",
       "      <td>11.904737</td>\n",
       "      <td>0.102476</td>\n",
       "      <td>2.568197</td>\n",
       "      <td>4.891346e+00</td>\n",
       "      <td>10.538937</td>\n",
       "      <td>274.283283</td>\n",
       "    </tr>\n",
       "    <tr>\n",
       "      <th>volume_roll_std_24</th>\n",
       "      <td>527162.0</td>\n",
       "      <td>6.677684</td>\n",
       "      <td>9.334440</td>\n",
       "      <td>0.098170</td>\n",
       "      <td>1.993152</td>\n",
       "      <td>3.771380e+00</td>\n",
       "      <td>7.712144</td>\n",
       "      <td>211.177989</td>\n",
       "    </tr>\n",
       "    <tr>\n",
       "      <th>lag_1</th>\n",
       "      <td>527184.0</td>\n",
       "      <td>69453.984927</td>\n",
       "      <td>15437.404984</td>\n",
       "      <td>39533.480000</td>\n",
       "      <td>60780.690000</td>\n",
       "      <td>6.576021e+04</td>\n",
       "      <td>70722.910000</td>\n",
       "      <td>108951.030000</td>\n",
       "    </tr>\n",
       "    <tr>\n",
       "      <th>lag_2</th>\n",
       "      <td>527183.0</td>\n",
       "      <td>69453.919537</td>\n",
       "      <td>15437.346616</td>\n",
       "      <td>39533.480000</td>\n",
       "      <td>60780.690000</td>\n",
       "      <td>6.576021e+04</td>\n",
       "      <td>70722.845000</td>\n",
       "      <td>108951.030000</td>\n",
       "    </tr>\n",
       "    <tr>\n",
       "      <th>lag_3</th>\n",
       "      <td>527182.0</td>\n",
       "      <td>69453.854075</td>\n",
       "      <td>15437.288085</td>\n",
       "      <td>39533.480000</td>\n",
       "      <td>60780.690000</td>\n",
       "      <td>6.576014e+04</td>\n",
       "      <td>70722.785000</td>\n",
       "      <td>108951.030000</td>\n",
       "    </tr>\n",
       "    <tr>\n",
       "      <th>lag_9</th>\n",
       "      <td>527176.0</td>\n",
       "      <td>69453.459955</td>\n",
       "      <td>15436.933886</td>\n",
       "      <td>39533.480000</td>\n",
       "      <td>60780.627500</td>\n",
       "      <td>6.575999e+04</td>\n",
       "      <td>70722.602500</td>\n",
       "      <td>108951.030000</td>\n",
       "    </tr>\n",
       "    <tr>\n",
       "      <th>lag_13</th>\n",
       "      <td>527172.0</td>\n",
       "      <td>69453.197299</td>\n",
       "      <td>15436.697953</td>\n",
       "      <td>39533.480000</td>\n",
       "      <td>60780.610000</td>\n",
       "      <td>6.575993e+04</td>\n",
       "      <td>70722.425000</td>\n",
       "      <td>108951.030000</td>\n",
       "    </tr>\n",
       "    <tr>\n",
       "      <th>lag_16</th>\n",
       "      <td>527169.0</td>\n",
       "      <td>69453.000036</td>\n",
       "      <td>15436.520392</td>\n",
       "      <td>39533.480000</td>\n",
       "      <td>60780.580000</td>\n",
       "      <td>6.575991e+04</td>\n",
       "      <td>70722.270000</td>\n",
       "      <td>108951.030000</td>\n",
       "    </tr>\n",
       "    <tr>\n",
       "      <th>lag_30</th>\n",
       "      <td>527155.0</td>\n",
       "      <td>69452.075564</td>\n",
       "      <td>15435.682956</td>\n",
       "      <td>39533.480000</td>\n",
       "      <td>60780.320000</td>\n",
       "      <td>6.575971e+04</td>\n",
       "      <td>70721.660000</td>\n",
       "      <td>108951.030000</td>\n",
       "    </tr>\n",
       "    <tr>\n",
       "      <th>lag_56</th>\n",
       "      <td>527129.0</td>\n",
       "      <td>69450.354362</td>\n",
       "      <td>15434.117836</td>\n",
       "      <td>39533.480000</td>\n",
       "      <td>60780.170000</td>\n",
       "      <td>6.575915e+04</td>\n",
       "      <td>70720.000000</td>\n",
       "      <td>108951.030000</td>\n",
       "    </tr>\n",
       "    <tr>\n",
       "      <th>lag_67</th>\n",
       "      <td>527118.0</td>\n",
       "      <td>69449.634632</td>\n",
       "      <td>15433.474683</td>\n",
       "      <td>39533.480000</td>\n",
       "      <td>60780.037500</td>\n",
       "      <td>6.575889e+04</td>\n",
       "      <td>70719.147500</td>\n",
       "      <td>108951.030000</td>\n",
       "    </tr>\n",
       "    <tr>\n",
       "      <th>lag_70</th>\n",
       "      <td>527115.0</td>\n",
       "      <td>69449.437951</td>\n",
       "      <td>15433.298400</td>\n",
       "      <td>39533.480000</td>\n",
       "      <td>60780.020000</td>\n",
       "      <td>6.575885e+04</td>\n",
       "      <td>70719.125000</td>\n",
       "      <td>108951.030000</td>\n",
       "    </tr>\n",
       "    <tr>\n",
       "      <th>RSI</th>\n",
       "      <td>527184.0</td>\n",
       "      <td>50.282977</td>\n",
       "      <td>16.013926</td>\n",
       "      <td>0.000000</td>\n",
       "      <td>38.812525</td>\n",
       "      <td>5.021690e+01</td>\n",
       "      <td>61.666136</td>\n",
       "      <td>100.000000</td>\n",
       "    </tr>\n",
       "    <tr>\n",
       "      <th>EMA12</th>\n",
       "      <td>527185.0</td>\n",
       "      <td>69453.382770</td>\n",
       "      <td>15437.081557</td>\n",
       "      <td>39576.792194</td>\n",
       "      <td>60783.084008</td>\n",
       "      <td>6.575766e+04</td>\n",
       "      <td>70723.908449</td>\n",
       "      <td>108574.116551</td>\n",
       "    </tr>\n",
       "    <tr>\n",
       "      <th>EMA26</th>\n",
       "      <td>527185.0</td>\n",
       "      <td>69452.531453</td>\n",
       "      <td>15436.623947</td>\n",
       "      <td>39612.941595</td>\n",
       "      <td>60782.614979</td>\n",
       "      <td>6.575562e+04</td>\n",
       "      <td>70725.140749</td>\n",
       "      <td>108453.883803</td>\n",
       "    </tr>\n",
       "    <tr>\n",
       "      <th>MACD</th>\n",
       "      <td>527185.0</td>\n",
       "      <td>0.851318</td>\n",
       "      <td>59.482922</td>\n",
       "      <td>-1070.811076</td>\n",
       "      <td>-22.023684</td>\n",
       "      <td>6.627949e-01</td>\n",
       "      <td>24.522569</td>\n",
       "      <td>1345.062997</td>\n",
       "    </tr>\n",
       "    <tr>\n",
       "      <th>Signal_Line</th>\n",
       "      <td>527185.0</td>\n",
       "      <td>0.851781</td>\n",
       "      <td>56.044510</td>\n",
       "      <td>-934.400748</td>\n",
       "      <td>-20.774232</td>\n",
       "      <td>6.269776e-01</td>\n",
       "      <td>23.030474</td>\n",
       "      <td>1142.518650</td>\n",
       "    </tr>\n",
       "    <tr>\n",
       "      <th>SMA</th>\n",
       "      <td>527166.0</td>\n",
       "      <td>69453.956713</td>\n",
       "      <td>15436.237504</td>\n",
       "      <td>39594.162500</td>\n",
       "      <td>60783.003500</td>\n",
       "      <td>6.575655e+04</td>\n",
       "      <td>70723.986375</td>\n",
       "      <td>108572.077500</td>\n",
       "    </tr>\n",
       "    <tr>\n",
       "      <th>EMA</th>\n",
       "      <td>527185.0</td>\n",
       "      <td>69452.896448</td>\n",
       "      <td>15436.819804</td>\n",
       "      <td>39598.217492</td>\n",
       "      <td>60782.486159</td>\n",
       "      <td>6.575664e+04</td>\n",
       "      <td>70724.878816</td>\n",
       "      <td>108503.486911</td>\n",
       "    </tr>\n",
       "    <tr>\n",
       "      <th>target</th>\n",
       "      <td>527185.0</td>\n",
       "      <td>0.497751</td>\n",
       "      <td>0.499995</td>\n",
       "      <td>0.000000</td>\n",
       "      <td>0.000000</td>\n",
       "      <td>0.000000e+00</td>\n",
       "      <td>1.000000</td>\n",
       "      <td>1.000000</td>\n",
       "    </tr>\n",
       "  </tbody>\n",
       "</table>\n",
       "</div>"
      ],
      "text/plain": [
       "                         count          mean           std           min  \\\n",
       "open                  527185.0  69423.311389  15429.285709  39503.000000   \n",
       "high                  527185.0  69484.281813  15445.681849  39544.660000   \n",
       "low                   527185.0  69453.742158  15437.450474  39533.470000   \n",
       "close                 527185.0  69454.050246  15437.463194  39533.480000   \n",
       "volume                527185.0      8.978855     16.369091      0.000166   \n",
       "month                 527185.0      6.528672      3.443956      1.000000   \n",
       "day                   527185.0     15.731193      8.811791      1.000000   \n",
       "weekday               527185.0      2.999566      1.997391      0.000000   \n",
       "hour                  527185.0     11.497469      6.921639      0.000000   \n",
       "hour_sin              527185.0      0.000213      0.707107     -1.000000   \n",
       "hour_cos              527185.0     -0.000092      0.707108     -1.000000   \n",
       "weekday_sin           527185.0      0.001394      0.706497     -0.974928   \n",
       "weekday_cos           527185.0     -0.002283      0.707713     -0.900969   \n",
       "trend                 527185.0  69456.603824  15438.279159  39624.799563   \n",
       "seasonal              527185.0      0.000366     48.396805  -2032.181975   \n",
       "residual              527185.0     -2.553944    129.526239  -4448.943187   \n",
       "trend_lag_1           527184.0  69456.537833  15438.219447  39624.799563   \n",
       "seasonal_lag_1        527184.0      0.000226     48.396745  -2032.181975   \n",
       "residual_lag_1        527184.0     -2.553132    129.525021  -4448.943187   \n",
       "trend_lag_2           527183.0  69456.471842  15438.159734  39624.799563   \n",
       "seasonal_lag_2        527183.0      0.000058     48.396637  -2032.181975   \n",
       "residual_lag_2        527183.0     -2.552362    129.523938  -4448.943187   \n",
       "trend_lag_3           527182.0  69456.405850  15438.100020  39624.799563   \n",
       "seasonal_lag_3        527182.0     -0.000130     48.396490  -2032.181975   \n",
       "residual_lag_3        527182.0     -2.551645    129.523014  -4448.943187   \n",
       "trend_rolling_mean    527162.0  69456.486313  15437.042311  39638.345173   \n",
       "residual_rolling_std  527162.0     66.038899     70.150600      2.703012   \n",
       "close_trend_diff      527185.0     -2.553579    127.001077  -4564.922085   \n",
       "close_seasonal_diff   527185.0  69454.049880  15437.482761  39520.293074   \n",
       "close_roll_mean_6     527180.0  69454.026069  15437.131007  39553.026667   \n",
       "close_roll_std_6      527180.0     41.726272     39.839244      0.000000   \n",
       "close_roll_mean_12    527174.0  69453.996451  15436.746986  39573.138333   \n",
       "close_roll_std_12     527174.0     57.529536     52.994341      0.967829   \n",
       "close_roll_mean_24    527162.0  69453.936634  15435.982643  39602.088750   \n",
       "close_roll_std_24     527162.0     79.762868     72.495187      1.661955   \n",
       "volume_roll_mean_6    527180.0      8.978862     13.486886      0.056345   \n",
       "volume_roll_std_6     527180.0      5.133138      8.770114      0.019404   \n",
       "volume_roll_mean_12   527174.0      8.978909     12.652889      0.076574   \n",
       "volume_roll_std_12    527174.0      5.901912      9.101046      0.051403   \n",
       "volume_roll_mean_24   527162.0      8.979003     11.904737      0.102476   \n",
       "volume_roll_std_24    527162.0      6.677684      9.334440      0.098170   \n",
       "lag_1                 527184.0  69453.984927  15437.404984  39533.480000   \n",
       "lag_2                 527183.0  69453.919537  15437.346616  39533.480000   \n",
       "lag_3                 527182.0  69453.854075  15437.288085  39533.480000   \n",
       "lag_9                 527176.0  69453.459955  15436.933886  39533.480000   \n",
       "lag_13                527172.0  69453.197299  15436.697953  39533.480000   \n",
       "lag_16                527169.0  69453.000036  15436.520392  39533.480000   \n",
       "lag_30                527155.0  69452.075564  15435.682956  39533.480000   \n",
       "lag_56                527129.0  69450.354362  15434.117836  39533.480000   \n",
       "lag_67                527118.0  69449.634632  15433.474683  39533.480000   \n",
       "lag_70                527115.0  69449.437951  15433.298400  39533.480000   \n",
       "RSI                   527184.0     50.282977     16.013926      0.000000   \n",
       "EMA12                 527185.0  69453.382770  15437.081557  39576.792194   \n",
       "EMA26                 527185.0  69452.531453  15436.623947  39612.941595   \n",
       "MACD                  527185.0      0.851318     59.482922  -1070.811076   \n",
       "Signal_Line           527185.0      0.851781     56.044510   -934.400748   \n",
       "SMA                   527166.0  69453.956713  15436.237504  39594.162500   \n",
       "EMA                   527185.0  69452.896448  15436.819804  39598.217492   \n",
       "target                527185.0      0.497751      0.499995      0.000000   \n",
       "\n",
       "                               25%           50%           75%            max  \n",
       "open                  60757.240000  6.573679e+04  70694.260000  108768.040000  \n",
       "high                  60803.890000  6.578358e+04  70750.800000  109358.010000  \n",
       "low                   60780.210000  6.576009e+04  70723.790000  108954.900000  \n",
       "close                 60780.690000  6.576022e+04  70723.000000  108951.030000  \n",
       "volume                    1.669723  3.956193e+00      9.717255    1047.117525  \n",
       "month                     4.000000  7.000000e+00     10.000000      12.000000  \n",
       "day                       8.000000  1.600000e+01     23.000000      31.000000  \n",
       "weekday                   1.000000  3.000000e+00      5.000000       6.000000  \n",
       "hour                      5.000000  1.100000e+01     17.000000      23.000000  \n",
       "hour_sin                 -0.707107  1.224647e-16      0.707107       1.000000  \n",
       "hour_cos                 -0.707107 -1.836970e-16      0.707107       1.000000  \n",
       "weekday_sin              -0.781831  0.000000e+00      0.781831       0.974928  \n",
       "weekday_cos              -0.900969 -2.225209e-01      0.623490       1.000000  \n",
       "trend                 60786.646359  6.575854e+04  70726.079770  108240.424696  \n",
       "seasonal                -17.211796 -1.416802e-02     17.401014    1736.254698  \n",
       "residual                -23.501266 -2.804416e-01     22.700657    3391.096413  \n",
       "trend_lag_1           60786.640878  6.575852e+04  70725.889536  108240.424696  \n",
       "seasonal_lag_1          -17.211799 -1.421921e-02     17.400905    1736.254698  \n",
       "residual_lag_1          -23.501217 -2.804132e-01     22.700723    3391.096413  \n",
       "trend_lag_2           60786.635397  6.575850e+04  70725.824943  108240.424696  \n",
       "seasonal_lag_2          -17.211802 -1.427041e-02     17.400846    1736.254698  \n",
       "residual_lag_2          -23.501192 -2.803848e-01     22.700789    3391.096413  \n",
       "trend_lag_3           60786.629916  6.575849e+04  70725.807554  108240.424696  \n",
       "seasonal_lag_3          -17.211805 -1.430817e-02     17.400804    1736.254698  \n",
       "residual_lag_3          -23.501113 -2.801878e-01     22.700855    3391.096413  \n",
       "trend_rolling_mean    60786.889910  6.575759e+04  70726.535670  108236.577680  \n",
       "residual_rolling_std     23.815709  4.175235e+01     84.279340    1853.587759  \n",
       "close_trend_diff        -36.030635 -3.547381e-01     34.815446    3261.860645  \n",
       "close_seasonal_diff   60782.089895  6.575888e+04  70722.984578  109125.228155  \n",
       "close_roll_mean_6     60782.704167  6.575790e+04  70721.404167  108775.368333  \n",
       "close_roll_std_6         18.502637  3.057438e+01     51.518406    2120.357692  \n",
       "close_roll_mean_12    60782.227708  6.575737e+04  70721.822917  108687.427500  \n",
       "close_roll_std_12        26.334095  4.266311e+01     70.683200    1875.214047  \n",
       "close_roll_mean_24    60783.471354  6.575612e+04  70724.287708  108504.418750  \n",
       "close_roll_std_24        37.058172  5.937555e+01     96.993957    1952.270460  \n",
       "volume_roll_mean_6        2.250866  4.560601e+00     10.157515     479.932661  \n",
       "volume_roll_std_6         1.252332  2.616327e+00      5.611033     416.820959  \n",
       "volume_roll_mean_12       2.412814  4.725591e+00     10.330600     356.150894  \n",
       "volume_roll_std_12        1.612966  3.177264e+00      6.665983     297.795412  \n",
       "volume_roll_mean_24       2.568197  4.891346e+00     10.538937     274.283283  \n",
       "volume_roll_std_24        1.993152  3.771380e+00      7.712144     211.177989  \n",
       "lag_1                 60780.690000  6.576021e+04  70722.910000  108951.030000  \n",
       "lag_2                 60780.690000  6.576021e+04  70722.845000  108951.030000  \n",
       "lag_3                 60780.690000  6.576014e+04  70722.785000  108951.030000  \n",
       "lag_9                 60780.627500  6.575999e+04  70722.602500  108951.030000  \n",
       "lag_13                60780.610000  6.575993e+04  70722.425000  108951.030000  \n",
       "lag_16                60780.580000  6.575991e+04  70722.270000  108951.030000  \n",
       "lag_30                60780.320000  6.575971e+04  70721.660000  108951.030000  \n",
       "lag_56                60780.170000  6.575915e+04  70720.000000  108951.030000  \n",
       "lag_67                60780.037500  6.575889e+04  70719.147500  108951.030000  \n",
       "lag_70                60780.020000  6.575885e+04  70719.125000  108951.030000  \n",
       "RSI                      38.812525  5.021690e+01     61.666136     100.000000  \n",
       "EMA12                 60783.084008  6.575766e+04  70723.908449  108574.116551  \n",
       "EMA26                 60782.614979  6.575562e+04  70725.140749  108453.883803  \n",
       "MACD                    -22.023684  6.627949e-01     24.522569    1345.062997  \n",
       "Signal_Line             -20.774232  6.269776e-01     23.030474    1142.518650  \n",
       "SMA                   60783.003500  6.575655e+04  70723.986375  108572.077500  \n",
       "EMA                   60782.486159  6.575664e+04  70724.878816  108503.486911  \n",
       "target                    0.000000  0.000000e+00      1.000000       1.000000  "
      ]
     },
     "execution_count": 45,
     "metadata": {},
     "output_type": "execute_result"
    }
   ],
   "source": [
    "btc_price_data_1_year.describe().T"
   ]
  },
  {
   "cell_type": "code",
   "execution_count": 46,
   "id": "228749c0-1625-4123-8a2b-ed4e1484c305",
   "metadata": {
    "scrolled": true
   },
   "outputs": [
    {
     "data": {
      "text/plain": [
       "open                    float64\n",
       "high                    float64\n",
       "low                     float64\n",
       "close                   float64\n",
       "volume                  float64\n",
       "month                   float64\n",
       "day                     float64\n",
       "weekday                 float64\n",
       "hour                    float64\n",
       "hour_sin                float64\n",
       "hour_cos                float64\n",
       "weekday_sin             float64\n",
       "weekday_cos             float64\n",
       "trend                   float64\n",
       "seasonal                float64\n",
       "residual                float64\n",
       "trend_lag_1             float64\n",
       "seasonal_lag_1          float64\n",
       "residual_lag_1          float64\n",
       "trend_lag_2             float64\n",
       "seasonal_lag_2          float64\n",
       "residual_lag_2          float64\n",
       "trend_lag_3             float64\n",
       "seasonal_lag_3          float64\n",
       "residual_lag_3          float64\n",
       "trend_rolling_mean      float64\n",
       "residual_rolling_std    float64\n",
       "close_trend_diff        float64\n",
       "close_seasonal_diff     float64\n",
       "close_roll_mean_6       float64\n",
       "close_roll_std_6        float64\n",
       "close_roll_mean_12      float64\n",
       "close_roll_std_12       float64\n",
       "close_roll_mean_24      float64\n",
       "close_roll_std_24       float64\n",
       "volume_roll_mean_6      float64\n",
       "volume_roll_std_6       float64\n",
       "volume_roll_mean_12     float64\n",
       "volume_roll_std_12      float64\n",
       "volume_roll_mean_24     float64\n",
       "volume_roll_std_24      float64\n",
       "lag_1                   float64\n",
       "lag_2                   float64\n",
       "lag_3                   float64\n",
       "lag_9                   float64\n",
       "lag_13                  float64\n",
       "lag_16                  float64\n",
       "lag_30                  float64\n",
       "lag_56                  float64\n",
       "lag_67                  float64\n",
       "lag_70                  float64\n",
       "RSI                     float64\n",
       "EMA12                   float64\n",
       "EMA26                   float64\n",
       "MACD                    float64\n",
       "Signal_Line             float64\n",
       "SMA                     float64\n",
       "EMA                     float64\n",
       "target                    int32\n",
       "dtype: object"
      ]
     },
     "execution_count": 46,
     "metadata": {},
     "output_type": "execute_result"
    }
   ],
   "source": [
    "btc_price_data_1_year.dtypes"
   ]
  },
  {
   "cell_type": "code",
   "execution_count": 47,
   "id": "abcf10f3-c277-4f39-af9d-c9c72c4f16be",
   "metadata": {},
   "outputs": [
    {
     "data": {
      "text/plain": [
       "(527185, 59)"
      ]
     },
     "execution_count": 47,
     "metadata": {},
     "output_type": "execute_result"
    }
   ],
   "source": [
    "btc_price_data_1_year.shape"
   ]
  },
  {
   "cell_type": "code",
   "execution_count": 48,
   "id": "9c94fce0-36bc-4ec0-b05a-e30605a4adc7",
   "metadata": {
    "scrolled": true
   },
   "outputs": [
    {
     "data": {
      "text/plain": [
       "open                     0\n",
       "high                     0\n",
       "low                      0\n",
       "close                    0\n",
       "volume                   0\n",
       "month                    0\n",
       "day                      0\n",
       "weekday                  0\n",
       "hour                     0\n",
       "hour_sin                 0\n",
       "hour_cos                 0\n",
       "weekday_sin              0\n",
       "weekday_cos              0\n",
       "trend                    0\n",
       "seasonal                 0\n",
       "residual                 0\n",
       "trend_lag_1              1\n",
       "seasonal_lag_1           1\n",
       "residual_lag_1           1\n",
       "trend_lag_2              2\n",
       "seasonal_lag_2           2\n",
       "residual_lag_2           2\n",
       "trend_lag_3              3\n",
       "seasonal_lag_3           3\n",
       "residual_lag_3           3\n",
       "trend_rolling_mean      23\n",
       "residual_rolling_std    23\n",
       "close_trend_diff         0\n",
       "close_seasonal_diff      0\n",
       "close_roll_mean_6        5\n",
       "close_roll_std_6         5\n",
       "close_roll_mean_12      11\n",
       "close_roll_std_12       11\n",
       "close_roll_mean_24      23\n",
       "close_roll_std_24       23\n",
       "volume_roll_mean_6       5\n",
       "volume_roll_std_6        5\n",
       "volume_roll_mean_12     11\n",
       "volume_roll_std_12      11\n",
       "volume_roll_mean_24     23\n",
       "volume_roll_std_24      23\n",
       "lag_1                    1\n",
       "lag_2                    2\n",
       "lag_3                    3\n",
       "lag_9                    9\n",
       "lag_13                  13\n",
       "lag_16                  16\n",
       "lag_30                  30\n",
       "lag_56                  56\n",
       "lag_67                  67\n",
       "lag_70                  70\n",
       "RSI                      1\n",
       "EMA12                    0\n",
       "EMA26                    0\n",
       "MACD                     0\n",
       "Signal_Line              0\n",
       "SMA                     19\n",
       "EMA                      0\n",
       "target                   0\n",
       "dtype: int64"
      ]
     },
     "execution_count": 48,
     "metadata": {},
     "output_type": "execute_result"
    }
   ],
   "source": [
    "btc_price_data_1_year.isnull().sum()"
   ]
  },
  {
   "cell_type": "markdown",
   "id": "9fb3ca2b-7b0b-4786-8af9-1c34ab1b239b",
   "metadata": {},
   "source": [
    "There are some rows in the dataset that have a `NaN` values (`future_return`, `RSI`, `SMA` and some `lag`-columns) due to the feature engineering process. We will delete these rows to clean up the dataset."
   ]
  },
  {
   "cell_type": "code",
   "execution_count": 49,
   "id": "7a00a390-c0ac-4335-a1bf-c7db3350a4bf",
   "metadata": {},
   "outputs": [],
   "source": [
    "btc_price_data_1_year = btc_price_data_1_year.dropna()"
   ]
  },
  {
   "cell_type": "code",
   "execution_count": 50,
   "id": "813bab43-aa35-4771-a8d1-86bfee5f7231",
   "metadata": {},
   "outputs": [
    {
     "data": {
      "text/plain": [
       "(527115, 59)"
      ]
     },
     "execution_count": 50,
     "metadata": {},
     "output_type": "execute_result"
    }
   ],
   "source": [
    "btc_price_data_1_year.shape"
   ]
  },
  {
   "cell_type": "code",
   "execution_count": 51,
   "id": "8264a99c-5ad1-4097-aca7-dc5995751329",
   "metadata": {
    "scrolled": true
   },
   "outputs": [
    {
     "data": {
      "text/plain": [
       "open                    0\n",
       "high                    0\n",
       "low                     0\n",
       "close                   0\n",
       "volume                  0\n",
       "month                   0\n",
       "day                     0\n",
       "weekday                 0\n",
       "hour                    0\n",
       "hour_sin                0\n",
       "hour_cos                0\n",
       "weekday_sin             0\n",
       "weekday_cos             0\n",
       "trend                   0\n",
       "seasonal                0\n",
       "residual                0\n",
       "trend_lag_1             0\n",
       "seasonal_lag_1          0\n",
       "residual_lag_1          0\n",
       "trend_lag_2             0\n",
       "seasonal_lag_2          0\n",
       "residual_lag_2          0\n",
       "trend_lag_3             0\n",
       "seasonal_lag_3          0\n",
       "residual_lag_3          0\n",
       "trend_rolling_mean      0\n",
       "residual_rolling_std    0\n",
       "close_trend_diff        0\n",
       "close_seasonal_diff     0\n",
       "close_roll_mean_6       0\n",
       "close_roll_std_6        0\n",
       "close_roll_mean_12      0\n",
       "close_roll_std_12       0\n",
       "close_roll_mean_24      0\n",
       "close_roll_std_24       0\n",
       "volume_roll_mean_6      0\n",
       "volume_roll_std_6       0\n",
       "volume_roll_mean_12     0\n",
       "volume_roll_std_12      0\n",
       "volume_roll_mean_24     0\n",
       "volume_roll_std_24      0\n",
       "lag_1                   0\n",
       "lag_2                   0\n",
       "lag_3                   0\n",
       "lag_9                   0\n",
       "lag_13                  0\n",
       "lag_16                  0\n",
       "lag_30                  0\n",
       "lag_56                  0\n",
       "lag_67                  0\n",
       "lag_70                  0\n",
       "RSI                     0\n",
       "EMA12                   0\n",
       "EMA26                   0\n",
       "MACD                    0\n",
       "Signal_Line             0\n",
       "SMA                     0\n",
       "EMA                     0\n",
       "target                  0\n",
       "dtype: int64"
      ]
     },
     "execution_count": 51,
     "metadata": {},
     "output_type": "execute_result"
    }
   ],
   "source": [
    "btc_price_data_1_year.isnull().sum()"
   ]
  },
  {
   "cell_type": "code",
   "execution_count": 52,
   "id": "4e8a384b-9c3e-4e04-b78c-5b77780c39c4",
   "metadata": {},
   "outputs": [
    {
     "data": {
      "text/plain": [
       "Index(['open', 'high', 'low', 'close', 'volume', 'month', 'day', 'weekday',\n",
       "       'hour', 'hour_sin', 'hour_cos', 'weekday_sin', 'weekday_cos', 'trend',\n",
       "       'seasonal', 'residual', 'trend_lag_1', 'seasonal_lag_1',\n",
       "       'residual_lag_1', 'trend_lag_2', 'seasonal_lag_2', 'residual_lag_2',\n",
       "       'trend_lag_3', 'seasonal_lag_3', 'residual_lag_3', 'trend_rolling_mean',\n",
       "       'residual_rolling_std', 'close_trend_diff', 'close_seasonal_diff',\n",
       "       'close_roll_mean_6', 'close_roll_std_6', 'close_roll_mean_12',\n",
       "       'close_roll_std_12', 'close_roll_mean_24', 'close_roll_std_24',\n",
       "       'volume_roll_mean_6', 'volume_roll_std_6', 'volume_roll_mean_12',\n",
       "       'volume_roll_std_12', 'volume_roll_mean_24', 'volume_roll_std_24',\n",
       "       'lag_1', 'lag_2', 'lag_3', 'lag_9', 'lag_13', 'lag_16', 'lag_30',\n",
       "       'lag_56', 'lag_67', 'lag_70', 'RSI', 'EMA12', 'EMA26', 'MACD',\n",
       "       'Signal_Line', 'SMA', 'EMA', 'target'],\n",
       "      dtype='object')"
      ]
     },
     "execution_count": 52,
     "metadata": {},
     "output_type": "execute_result"
    }
   ],
   "source": [
    "btc_price_data_1_year.columns"
   ]
  },
  {
   "cell_type": "markdown",
   "id": "6a955315-6bc9-469d-b663-15e3d0fa660d",
   "metadata": {},
   "source": [
    "## 8. Backtesting"
   ]
  },
  {
   "cell_type": "markdown",
   "id": "98ad030a-3f6f-49be-944a-4be5bbdf6ab8",
   "metadata": {},
   "source": [
    "Backtesting a trading strategy involves simulating how it would have performed historically based on past data. This process helps to evaluate the effectiveness of the strategy before deploying it in real-time trading."
   ]
  },
  {
   "cell_type": "markdown",
   "id": "789b6c05-c6db-4e94-9941-63f6f9eaa33c",
   "metadata": {},
   "source": [
    "We will follow these steps to backtest our trading strategy:\n",
    "\n",
    "1. **Implement the Strategy in Python**\n",
    "   - Calculate signals for Buy, Sell, or Hold based on the strategy logic.\n",
    "\n",
    "2. **Simulate Trades**\n",
    "   - Loop through the historical data and simulate trades by applying the defined rules.\n",
    "\n",
    "3. **Evaluate Performance**\n",
    "   - Calculate key metrics:\n",
    "     - **Total Return**: Overall profit or loss as a percentage of initial capital.\n",
    "\n",
    "4. **Plot equity curves and drawdown charts**\n"
   ]
  },
  {
   "cell_type": "code",
   "execution_count": 53,
   "id": "e100e742-101b-4df5-8622-c96f1f20be48",
   "metadata": {
    "scrolled": true
   },
   "outputs": [],
   "source": [
    "# # Backtest the strategy\n",
    "# def backtest_with_plot(data, initial_balance=1000):\n",
    "#     # print(f\"Initial Balance: ${initial_balance:.2f}\")\n",
    "    \n",
    "#     balance = initial_balance\n",
    "#     position = 0  # Number of Bitcoin held\n",
    "#     balance_history = [initial_balance]  # Track balance over time\n",
    "    \n",
    "#     for i in range(1, len(data)):\n",
    "#         if data['target'].iloc[i] == 1 and balance > 0:  # Buy signal\n",
    "#             #print(\"balance before Buy: \", balance)\n",
    "#             amount_to_buy = balance * 0.1\n",
    "#             #print(\"amount_to_buy: \", amount_to_buy)\n",
    "#             #print(\"price_buy: \", data['close'].iloc[i])\n",
    "\n",
    "#             position = amount_to_buy / data['close'].iloc[i]\n",
    "#             balance = balance - amount_to_buy\n",
    "#             #print(\"Buy position: \", position)\n",
    "#             #print(\"balance after Buy: \", balance)\n",
    "#         elif data['target'].iloc[i] == 2 and position > 0:  # Sell signal\n",
    "#             #print(\"position before Sell: \", position)\n",
    "#             #print(\"balance before Sell: \", balance)\n",
    "#             amount_to_sell = position * 0.1\n",
    "#             #print(\"amount_to_sell: \", amount_to_sell)\n",
    "            \n",
    "#             #print(\"price_sell: \", data['close'].iloc[i])\n",
    "#             balance = balance + amount_to_sell * data['close'].iloc[i]\n",
    "#             position = position - amount_to_sell\n",
    "#             #print(\"balance after Sell: \", balance)\n",
    "#         # Record the current balance (including current position value)\n",
    "#         current_balance = balance + (position * data['close'].iloc[i])\n",
    "#         balance_history.append(current_balance)\n",
    "    \n",
    "#     # Final portfolio value\n",
    "#     final_balance = balance + (position * data['close'].iloc[-1])\n",
    "#     # print(f\"Final Balance: ${final_balance:.2f}\")\n",
    "\n",
    "#     # Plot the balance history\n",
    "#     plt.figure(figsize=(12, 6))\n",
    "#     plt.plot(balance_history, label=\"Balance Over Time\")\n",
    "#     plt.title(\"Balance Movement\")\n",
    "#     plt.xlabel(\"Time Step\")\n",
    "#     plt.ylabel(\"Balance ($)\")\n",
    "#     plt.legend()\n",
    "#     plt.grid()\n",
    "#     plt.show()\n",
    "\n",
    "#     return final_balance\n",
    "\n",
    "# timeframe = '1h'\n",
    "# results = {}\n",
    "# initial_balance = 1000\n",
    "# final_balance = backtest_with_plot(btc_price_data_1_year, initial_balance)\n",
    "# results[timeframe] = final_balance\n",
    "\n",
    "# # Print results\n",
    "# print(f\"Initial Balance with {timeframe} data: ${initial_balance:.2f}\")\n",
    "\n",
    "# for timeframe, balance in results.items():\n",
    "#     print(f\"Final Balance with {timeframe} data: ${balance:.2f}\")\n",
    "#     final_return = ((balance - 1000) / 1000) * 100\n",
    "#     print(f\"Final Return with {timeframe} data: {final_return:.2f}[%]\")\n"
   ]
  },
  {
   "cell_type": "code",
   "execution_count": 55,
   "id": "584a716a-80bc-488a-9f8d-c2c790f4af8e",
   "metadata": {},
   "outputs": [
    {
     "data": {
      "image/png": "[encoded data removed]",
      "text/plain": [
       "<Figure size 1200x600 with 1 Axes>"
      ]
     },
     "metadata": {},
     "output_type": "display_data"
    },
    {
     "name": "stdout",
     "output_type": "stream",
     "text": [
      "Initial Balance with 1h data: $1000.00\n",
      "Final Balance with 1h data: $24836046364542387232320122724051307182830325082156433408000.00\n",
      "Final Return with 1h data: 2483604636454238723232012272405130718283032508215643340800.00[%]\n"
     ]
    }
   ],
   "source": [
    "# Backtest the strategy\n",
    "def backtest_with_plot(data, initial_balance=1000):\n",
    "    # print(f\"Initial Balance: ${initial_balance:.2f}\")\n",
    "    \n",
    "    balance = initial_balance\n",
    "    position = 0  # Number of Bitcoin held\n",
    "    balance_history = [initial_balance]  # Track balance over time\n",
    "    \n",
    "    for i in range(1, len(data)):\n",
    "        if data['target'].iloc[i] == 1 and balance > 0:  # Buy signal\n",
    "            position = balance / data['close'].iloc[i]\n",
    "            balance = 0\n",
    "        # elif data['target'].iloc[i] == -1 and position > 0:  # Sell signal\n",
    "        elif data['target'].iloc[i] == 0 and position > 0:  # Sell signal\n",
    "            balance = position * data['close'].iloc[i]\n",
    "            position = 0\n",
    "        # Record the current balance (including current position value)\n",
    "        current_balance = balance + (position * data['close'].iloc[i])\n",
    "        balance_history.append(current_balance)\n",
    "    \n",
    "    # Final portfolio value\n",
    "    final_balance = balance + (position * data['close'].iloc[-1])\n",
    "    # print(f\"Final Balance: ${final_balance:.2f}\")\n",
    "\n",
    "    # Plot the balance history\n",
    "    plt.figure(figsize=(12, 6))\n",
    "    plt.plot(balance_history, label=\"Balance Over Time\")\n",
    "    plt.title(\"Balance Movement\")\n",
    "    plt.xlabel(\"Time Step\")\n",
    "    plt.ylabel(\"Balance ($)\")\n",
    "    plt.legend()\n",
    "    plt.grid()\n",
    "    plt.show()\n",
    "\n",
    "    return final_balance\n",
    "\n",
    "timeframe = '1h'\n",
    "results = {}\n",
    "initial_balance = 1000\n",
    "final_balance = backtest_with_plot(btc_price_data_1_year, initial_balance)\n",
    "results[timeframe] = final_balance\n",
    "\n",
    "# Print results\n",
    "print(f\"Initial Balance with {timeframe} data: ${initial_balance:.2f}\")\n",
    "\n",
    "for timeframe, balance in results.items():\n",
    "    print(f\"Final Balance with {timeframe} data: ${balance:.2f}\")\n",
    "    final_return = ((balance - 1000) / 1000) * 100\n",
    "    print(f\"Final Return with {timeframe} data: {final_return:.2f}[%]\")"
   ]
  },
  {
   "cell_type": "code",
   "execution_count": 56,
   "id": "b1758eee-9965-49af-93e2-751f9cc5e2f6",
   "metadata": {},
   "outputs": [
    {
     "data": {
      "text/plain": [
       "target\n",
       "0    264745\n",
       "1    262370\n",
       "Name: count, dtype: int64"
      ]
     },
     "execution_count": 56,
     "metadata": {},
     "output_type": "execute_result"
    }
   ],
   "source": [
    "btc_price_data_1_year.target.value_counts()"
   ]
  },
  {
   "cell_type": "markdown",
   "id": "cdbe190f-5bfb-4882-9352-8513cdc1e14e",
   "metadata": {},
   "source": [
    "**Interpretation of the Backtest**\n",
    "\n",
    "We have tested our trading strategy for the whole year with **1000** dollars initial capital. The **target** variable has **1366 buy signals** and **1482 sell signals**. The remaining **524.266** values are **0 (do nothing)**.\n",
    "\n",
    "We always invested everything when we got a buy signal and had money and sold everything when we got a sell signal and had Bitcoin.\n",
    "At the end of the backtest we had **\\$2694,87** or **\\$1694,87** (**169,49%**) profit."
   ]
  },
  {
   "cell_type": "markdown",
   "id": "6a1d6c6e-a0ec-4f14-bc30-396e6697187e",
   "metadata": {},
   "source": [
    "## 9. Data Preprocessing for the Predictive Model"
   ]
  },
  {
   "cell_type": "markdown",
   "id": "082b168c-0bd2-4ee4-af35-134424c46a00",
   "metadata": {},
   "source": [
    "### 9.1. Split the Dataset"
   ]
  },
  {
   "cell_type": "markdown",
   "id": "513829bc-8c18-49aa-b1ac-9607f6417994",
   "metadata": {},
   "source": [
    "Typically, for time series, the data is split chronologically to avoid data leakage. For example:\n",
    "- **Training set**: 70% of the data (used for training the model).\n",
    "- **Validation set**: 15% of the data (used for hyperparameter tuning).\n",
    "- **Test set**: 15% of the data (used to evaluate final performance)."
   ]
  },
  {
   "cell_type": "code",
   "execution_count": 57,
   "id": "7a558d88-ced1-4dce-bb12-40062726bd63",
   "metadata": {},
   "outputs": [
    {
     "name": "stdout",
     "output_type": "stream",
     "text": [
      "Training set: 368980 rows\n",
      "Validation set: 79067 rows\n",
      "Test set: 79068 rows\n"
     ]
    }
   ],
   "source": [
    "# Sort the dataset by time to maintain chronological order\n",
    "# btc_price_data_1_year = btc_price_data_1_year.sort_values(by='timestamp')  # Replace 'timestamp' with your time column if named differently\n",
    "\n",
    "# Split the dataset into train, validation, and test sets\n",
    "train_size = 0.7\n",
    "val_size = 0.15\n",
    "test_size = 0.15\n",
    "\n",
    "# Compute split indices\n",
    "train_idx = int(len(btc_price_data_1_year) * train_size)\n",
    "val_idx = int(len(btc_price_data_1_year) * (train_size + val_size))\n",
    "\n",
    "# Split the data\n",
    "btc_price_data_1_year_train = btc_price_data_1_year[:train_idx]\n",
    "btc_price_data_1_year_val = btc_price_data_1_year[train_idx:val_idx]\n",
    "btc_price_data_1_year_test = btc_price_data_1_year[val_idx:]\n",
    "\n",
    "print(f\"Training set: {len(btc_price_data_1_year_train)} rows\")\n",
    "print(f\"Validation set: {len(btc_price_data_1_year_val)} rows\")\n",
    "print(f\"Test set: {len(btc_price_data_1_year_test)} rows\")"
   ]
  },
  {
   "cell_type": "code",
   "execution_count": 58,
   "id": "037c4268-fb10-4f39-b900-1a9acd4c1430",
   "metadata": {},
   "outputs": [],
   "source": [
    "def plot_splitted_market_data(dates, prices, labels, title):\n",
    "    plt.figure(figsize=(14, 7))\n",
    "    \n",
    "    ax = plt.gca()\n",
    "    ax.set_facecolor('gainsboro')\n",
    "    ax.xaxis.grid(True, color='white')\n",
    "    ax.yaxis.grid(True, color='white')\n",
    "\n",
    "    # x_lim_start = dates[0][0]\n",
    "    # x_lim_end = dates[1][len(dates[1]) - 1]\n",
    "    # # x_lim_end = dates[len(dates[0]) + len(dates[1]) - 1]\n",
    "    # # plt.xlim(x_lim_start, x_lim_end)\n",
    "    # ax.set_xlim(xmin=x_lim_start,xmax=x_lim_end)\n",
    "    \n",
    "    plt.plot(dates[0], prices[0], label ='Train Data')\n",
    "    plt.plot(dates[1], prices[1], label ='Validation Data')\n",
    "    plt.plot(dates[2], prices[2], label ='Test Data')\n",
    "    \n",
    "    plt.xlabel(labels[0])\n",
    "    plt.ylabel(labels[1])\n",
    "\n",
    "    plt.title(title)\n",
    "    plt.legend()\n",
    "    plt.show()"
   ]
  },
  {
   "cell_type": "code",
   "execution_count": 59,
   "id": "bd465d99-9f60-4f44-bba3-973fa2e83240",
   "metadata": {},
   "outputs": [
    {
     "data": {
      "image/png": "[encoded data removed]",
      "text/plain": [
       "<Figure size 1400x700 with 1 Axes>"
      ]
     },
     "metadata": {},
     "output_type": "display_data"
    }
   ],
   "source": [
    "dates_train = btc_price_data_1_year_train.index\n",
    "prices_close_train = btc_price_data_1_year_train.close\n",
    "\n",
    "dates_val = btc_price_data_1_year_val.index\n",
    "prices_close_val = btc_price_data_1_year_val.close\n",
    "\n",
    "dates_test = btc_price_data_1_year_test.index\n",
    "prices_close_test = btc_price_data_1_year_test.close\n",
    "\n",
    "dates = [dates_train, dates_val, dates_test]\n",
    "prices_close_btc = [prices_close_train, prices_close_val, prices_close_test]\n",
    "\n",
    "title_btc = 'Data Split (Jan 2024 - Jan 2025)'\n",
    "\n",
    "labels = ['Date', 'Price [USD]']\n",
    "\n",
    "plot_splitted_market_data(dates, prices_close_btc, labels, title_btc)"
   ]
  },
  {
   "cell_type": "markdown",
   "id": "9d5ad955-2aa0-4e06-b21b-006a08dc2318",
   "metadata": {},
   "source": [
    "### 9.2. Scale Features"
   ]
  },
  {
   "cell_type": "markdown",
   "id": "76669a0c-437f-48af-a1f6-a6bbef1653c7",
   "metadata": {},
   "source": [
    "1. Define the features to scale (numerical columns).\n",
    "2. Fit the scaler on the **training set** only.\n",
    "3. Apply the transformation to training, validation, and test sets."
   ]
  },
  {
   "cell_type": "code",
   "execution_count": 60,
   "id": "0e137714-ca50-43e3-ab3a-8603c3ecc114",
   "metadata": {},
   "outputs": [],
   "source": [
    "# Exclude already normalized features like 'hour_sin'/'hour_cos'\n",
    "features_to_exclude = ['hour_sin', 'hour_cos', 'weekday_sin', 'weekday_cos']\n",
    "# Exclude already normalized features like 'hour_sin'/'hour_cos' and the 'target'('target' is categorical variable)\n",
    "# features_to_exclude = ['hour_sin', 'hour_cos', 'weekday_sin', 'weekday_cos', 'target']\n",
    "\n",
    "# Select the remaining columns\n",
    "features_to_scale = [col for col in btc_price_data_1_year.columns if col not in features_to_exclude]\n",
    "\n",
    "# Initialize the MinMaxScaler\n",
    "scaler = MinMaxScaler()\n",
    "\n",
    "# Fit the scaler on the training set and transform all sets\n",
    "btc_price_data_1_year_train.loc[:, features_to_scale] = scaler.fit_transform(btc_price_data_1_year_train[features_to_scale])\n",
    "btc_price_data_1_year_val.loc[:, features_to_scale] = scaler.transform(btc_price_data_1_year_val[features_to_scale])\n",
    "btc_price_data_1_year_test.loc[:, features_to_scale] = scaler.transform(btc_price_data_1_year_test[features_to_scale])"
   ]
  },
  {
   "cell_type": "markdown",
   "id": "2d593ca8-a9c2-4e19-8de1-7f4e434aa523",
   "metadata": {},
   "source": [
    "### 9.3. Prepare Features and Targets"
   ]
  },
  {
   "cell_type": "markdown",
   "id": "8fd59dc1-5a9f-4696-98c8-0894720d94b5",
   "metadata": {},
   "source": [
    "Separate the features and target variables for our LSTM model."
   ]
  },
  {
   "cell_type": "code",
   "execution_count": 61,
   "id": "f488f134-fbee-40d3-8c39-2fc28d94883b",
   "metadata": {},
   "outputs": [
    {
     "name": "stdout",
     "output_type": "stream",
     "text": [
      "X_train shape: (368980, 58), y_train shape: (368980,)\n",
      "X_val shape: (79067, 58), y_val shape: (79067,)\n",
      "X_test shape: (79068, 58), y_test shape: (79068,)\n"
     ]
    }
   ],
   "source": [
    "# Define features and target\n",
    "# not_scaled_features = [x for x in features_to_exclude if x != 'target']\n",
    "# Remove the 'target' feature from 'features_to_scale'\n",
    "features_to_scale_cleaned = [x for x in features_to_scale if x != 'target']\n",
    "\n",
    "X_train = btc_price_data_1_year_train[features_to_scale_cleaned + features_to_exclude].values\n",
    "y_train = btc_price_data_1_year_train['target'].values\n",
    "\n",
    "X_val = btc_price_data_1_year_val[features_to_scale_cleaned + features_to_exclude].values\n",
    "y_val = btc_price_data_1_year_val['target'].values\n",
    "\n",
    "X_test = btc_price_data_1_year_test[features_to_scale_cleaned + features_to_exclude].values\n",
    "y_test = btc_price_data_1_year_test['target'].values\n",
    "\n",
    "print(f\"X_train shape: {X_train.shape}, y_train shape: {y_train.shape}\")\n",
    "print(f\"X_val shape: {X_val.shape}, y_val shape: {y_val.shape}\")\n",
    "print(f\"X_test shape: {X_test.shape}, y_test shape: {y_test.shape}\")"
   ]
  },
  {
   "cell_type": "markdown",
   "id": "fffde188-9f89-43b8-b884-4e0f11b2407b",
   "metadata": {},
   "source": [
    "### 9.4. Reshape Data for LSTM"
   ]
  },
  {
   "cell_type": "markdown",
   "id": "8601a258-1b45-4973-affe-aa3d5850ac57",
   "metadata": {},
   "source": [
    "LSTMs require input data in the shape of `(samples, sequence_length, num_features)`. For time series data, you typically convert the flat features into sequences."
   ]
  },
  {
   "cell_type": "code",
   "execution_count": 62,
   "id": "a293d0f5-5814-4d4f-a922-2f7ecc40e15c",
   "metadata": {},
   "outputs": [],
   "source": [
    "def create_sequences(X, y, timesteps):\n",
    "    X_seq, y_seq = [], []\n",
    "    for i in range(timesteps, len(X)):\n",
    "        X_seq.append(X[i-timesteps:i])  # Last `timesteps` rows\n",
    "        y_seq.append(y[i])             # Corresponding target\n",
    "    return np.array(X_seq), np.array(y_seq)"
   ]
  },
  {
   "cell_type": "code",
   "execution_count": 63,
   "id": "a7358e41-4e92-4b65-b76a-545dc7814789",
   "metadata": {},
   "outputs": [
    {
     "name": "stdout",
     "output_type": "stream",
     "text": [
      "X_train_seq shape: (368956, 24, 58), y_train_seq shape: (368956,)\n",
      "X_val_seq shape: (79043, 24, 58), y_val_seq shape: (79043,)\n",
      "X_test_seq shape: (79044, 24, 58), y_test_seq shape: (79044,)\n"
     ]
    }
   ],
   "source": [
    "# Define the number of timesteps (sequence length) for LSTM\n",
    "timesteps = 50  # Using the last 50 hours to predict the target\n",
    "\n",
    "# Create sequences for training, validation, and test sets\n",
    "X_train_seq, y_train_seq = create_sequences(X_train, y_train, timesteps)\n",
    "X_val_seq, y_val_seq = create_sequences(X_val, y_val, timesteps)\n",
    "X_test_seq, y_test_seq = create_sequences(X_test, y_test, timesteps)\n",
    "\n",
    "print(f\"X_train_seq shape: {X_train_seq.shape}, y_train_seq shape: {y_train_seq.shape}\")\n",
    "print(f\"X_val_seq shape: {X_val_seq.shape}, y_val_seq shape: {y_val_seq.shape}\")\n",
    "print(f\"X_test_seq shape: {X_test_seq.shape}, y_test_seq shape: {y_test_seq.shape}\")"
   ]
  },
  {
   "cell_type": "markdown",
   "id": "08a6d019-e005-4f7e-aaac-08ac595b5bfc",
   "metadata": {},
   "source": [
    "## 10. Define Model Architecture"
   ]
  },
  {
   "cell_type": "markdown",
   "id": "50870d2f-37ef-43e9-a9e3-b7d06f9c8503",
   "metadata": {},
   "source": [
    "### 10.1. Model Definition"
   ]
  },
  {
   "cell_type": "markdown",
   "id": "f93aa890-a630-47fc-97c8-24f9750dd38c",
   "metadata": {},
   "source": [
    "### **TODO** - create a model description\n",
    "Let’s use a hybrid CNN + LSTM architecture for time-series forecasting."
   ]
  },
  {
   "cell_type": "code",
   "execution_count": 85,
   "id": "bd5fe734-de09-4721-862b-9e3272ae0a9f",
   "metadata": {},
   "outputs": [],
   "source": [
    "def build_model(sequence_length, num_features):\n",
    "    # Input layer\n",
    "    input_layer = Input(shape=(sequence_length, num_features))\n",
    "    \n",
    "    # CNN for feature extraction\n",
    "    cnn_layer = Conv1D(filters = 32, kernel_size = 3, activation='relu')(input_layer)\n",
    "    cnn_layer = MaxPooling1D(pool_size = 2)(cnn_layer)\n",
    "    cnn_layer = Flatten()(cnn_layer)\n",
    "    \n",
    "    # LSTM for temporal dependencies\n",
    "    # lstm_layer = LSTM(64, return_sequences=False)(input_layer)\n",
    "\n",
    "    # LSTM for temporal dependencies\n",
    "    lstm_layer = LSTM(64, return_sequences=True)(input_layer)\n",
    "    attention_output = Attention()([lstm_layer, lstm_layer])  # Self-attention mechanism\n",
    "    lstm_output = Flatten()(attention_output)\n",
    "    \n",
    "    # Combine CNN and LSTM outputs\n",
    "    combined = Concatenate()([cnn_layer, lstm_output])\n",
    "    \n",
    "    # Fully connected layers\n",
    "    dense_layer = Dense(128, activation='relu')(combined)\n",
    "    dense_layer = Dropout(0.2)(dense_layer)\n",
    "    dense_layer = Dense(64, activation='relu')(dense_layer)\n",
    "\n",
    "    # Output layer (regression)\n",
    "    output_layer = Dense(1, activation='linear')(dense_layer)\n",
    "    \n",
    "    # Build and compile the model\n",
    "    model = tf.keras.Model(inputs=input_layer, outputs=output_layer)\n",
    "    model.compile(optimizer='adam', loss='mse', metrics=['mae'])\n",
    "\n",
    "    return model"
   ]
  },
  {
   "cell_type": "code",
   "execution_count": 115,
   "id": "301ebe59-d87b-43b7-82c5-675dc7a99dea",
   "metadata": {},
   "outputs": [],
   "source": [
    "def build_model_classifcation(sequence_length, num_features):\n",
    "    # LSTM Input\n",
    "    lstm_input = Input(shape=(sequence_length, num_features))\n",
    "    \n",
    "    # LSTM Layers\n",
    "    x = LSTM(64, return_sequences=True)(lstm_input)\n",
    "    x = Dropout(0.2)(x)\n",
    "    x = LSTM(32)(x)\n",
    "    x = Dropout(0.2)(x)\n",
    "    \n",
    "    # Fully Connected Layer\n",
    "    x = Dense(32, activation=\"relu\")(x)\n",
    "    x = Dropout(0.2)(x)\n",
    "    \n",
    "    # Output Layer - Probability of Price Going Up\n",
    "    output = Dense(1, activation=\"sigmoid\")(x)  # Probability between 0 and 1\n",
    "    \n",
    "    # Define Model\n",
    "    model = tf.keras.Model(inputs=lstm_input, outputs=output)\n",
    "    \n",
    "    # Compile Model\n",
    "    model.compile(optimizer=\"adam\", loss=\"binary_crossentropy\", metrics=[\"accuracy\"])\n",
    "\n",
    "    return model"
   ]
  },
  {
   "cell_type": "markdown",
   "id": "e45a7d41-8620-4677-b05e-3fa3d0ed9693",
   "metadata": {},
   "source": [
    "### 10.2. Initialize the Model"
   ]
  },
  {
   "cell_type": "code",
   "execution_count": 116,
   "id": "f9483998-1bdf-4b6e-9e7f-336abe25a067",
   "metadata": {},
   "outputs": [
    {
     "data": {
      "text/html": [
       "<pre style=\"white-space:pre;overflow-x:auto;line-height:normal;font-family:Menlo,'DejaVu Sans Mono',consolas,'Courier New',monospace\"><span style=\"font-weight: bold\">Model: \"functional_2\"</span>\n",
       "</pre>\n"
      ],
      "text/plain": [
       "\u001b[1mModel: \"functional_2\"\u001b[0m\n"
      ]
     },
     "metadata": {},
     "output_type": "display_data"
    },
    {
     "data": {
      "text/html": [
       "<pre style=\"white-space:pre;overflow-x:auto;line-height:normal;font-family:Menlo,'DejaVu Sans Mono',consolas,'Courier New',monospace\">┏━━━━━━━━━━━━━━━━━━━━━━━━━━━━━━━━━━━━━━┳━━━━━━━━━━━━━━━━━━━━━━━━━━━━━┳━━━━━━━━━━━━━━━━━┓\n",
       "┃<span style=\"font-weight: bold\"> Layer (type)                         </span>┃<span style=\"font-weight: bold\"> Output Shape                </span>┃<span style=\"font-weight: bold\">         Param # </span>┃\n",
       "┡━━━━━━━━━━━━━━━━━━━━━━━━━━━━━━━━━━━━━━╇━━━━━━━━━━━━━━━━━━━━━━━━━━━━━╇━━━━━━━━━━━━━━━━━┩\n",
       "│ input_layer_4 (<span style=\"color: #0087ff; text-decoration-color: #0087ff\">InputLayer</span>)           │ (<span style=\"color: #00d7ff; text-decoration-color: #00d7ff\">None</span>, <span style=\"color: #00af00; text-decoration-color: #00af00\">24</span>, <span style=\"color: #00af00; text-decoration-color: #00af00\">58</span>)              │               <span style=\"color: #00af00; text-decoration-color: #00af00\">0</span> │\n",
       "├──────────────────────────────────────┼─────────────────────────────┼─────────────────┤\n",
       "│ lstm_4 (<span style=\"color: #0087ff; text-decoration-color: #0087ff\">LSTM</span>)                        │ (<span style=\"color: #00d7ff; text-decoration-color: #00d7ff\">None</span>, <span style=\"color: #00af00; text-decoration-color: #00af00\">24</span>, <span style=\"color: #00af00; text-decoration-color: #00af00\">64</span>)              │          <span style=\"color: #00af00; text-decoration-color: #00af00\">31,488</span> │\n",
       "├──────────────────────────────────────┼─────────────────────────────┼─────────────────┤\n",
       "│ dropout_4 (<span style=\"color: #0087ff; text-decoration-color: #0087ff\">Dropout</span>)                  │ (<span style=\"color: #00d7ff; text-decoration-color: #00d7ff\">None</span>, <span style=\"color: #00af00; text-decoration-color: #00af00\">24</span>, <span style=\"color: #00af00; text-decoration-color: #00af00\">64</span>)              │               <span style=\"color: #00af00; text-decoration-color: #00af00\">0</span> │\n",
       "├──────────────────────────────────────┼─────────────────────────────┼─────────────────┤\n",
       "│ lstm_5 (<span style=\"color: #0087ff; text-decoration-color: #0087ff\">LSTM</span>)                        │ (<span style=\"color: #00d7ff; text-decoration-color: #00d7ff\">None</span>, <span style=\"color: #00af00; text-decoration-color: #00af00\">32</span>)                  │          <span style=\"color: #00af00; text-decoration-color: #00af00\">12,416</span> │\n",
       "├──────────────────────────────────────┼─────────────────────────────┼─────────────────┤\n",
       "│ dropout_5 (<span style=\"color: #0087ff; text-decoration-color: #0087ff\">Dropout</span>)                  │ (<span style=\"color: #00d7ff; text-decoration-color: #00d7ff\">None</span>, <span style=\"color: #00af00; text-decoration-color: #00af00\">32</span>)                  │               <span style=\"color: #00af00; text-decoration-color: #00af00\">0</span> │\n",
       "├──────────────────────────────────────┼─────────────────────────────┼─────────────────┤\n",
       "│ dense_12 (<span style=\"color: #0087ff; text-decoration-color: #0087ff\">Dense</span>)                     │ (<span style=\"color: #00d7ff; text-decoration-color: #00d7ff\">None</span>, <span style=\"color: #00af00; text-decoration-color: #00af00\">32</span>)                  │           <span style=\"color: #00af00; text-decoration-color: #00af00\">1,056</span> │\n",
       "├──────────────────────────────────────┼─────────────────────────────┼─────────────────┤\n",
       "│ dropout_6 (<span style=\"color: #0087ff; text-decoration-color: #0087ff\">Dropout</span>)                  │ (<span style=\"color: #00d7ff; text-decoration-color: #00d7ff\">None</span>, <span style=\"color: #00af00; text-decoration-color: #00af00\">32</span>)                  │               <span style=\"color: #00af00; text-decoration-color: #00af00\">0</span> │\n",
       "├──────────────────────────────────────┼─────────────────────────────┼─────────────────┤\n",
       "│ dense_13 (<span style=\"color: #0087ff; text-decoration-color: #0087ff\">Dense</span>)                     │ (<span style=\"color: #00d7ff; text-decoration-color: #00d7ff\">None</span>, <span style=\"color: #00af00; text-decoration-color: #00af00\">1</span>)                   │              <span style=\"color: #00af00; text-decoration-color: #00af00\">33</span> │\n",
       "└──────────────────────────────────────┴─────────────────────────────┴─────────────────┘\n",
       "</pre>\n"
      ],
      "text/plain": [
       "┏━━━━━━━━━━━━━━━━━━━━━━━━━━━━━━━━━━━━━━┳━━━━━━━━━━━━━━━━━━━━━━━━━━━━━┳━━━━━━━━━━━━━━━━━┓\n",
       "┃\u001b[1m \u001b[0m\u001b[1mLayer (type)                        \u001b[0m\u001b[1m \u001b[0m┃\u001b[1m \u001b[0m\u001b[1mOutput Shape               \u001b[0m\u001b[1m \u001b[0m┃\u001b[1m \u001b[0m\u001b[1m        Param #\u001b[0m\u001b[1m \u001b[0m┃\n",
       "┡━━━━━━━━━━━━━━━━━━━━━━━━━━━━━━━━━━━━━━╇━━━━━━━━━━━━━━━━━━━━━━━━━━━━━╇━━━━━━━━━━━━━━━━━┩\n",
       "│ input_layer_4 (\u001b[38;5;33mInputLayer\u001b[0m)           │ (\u001b[38;5;45mNone\u001b[0m, \u001b[38;5;34m24\u001b[0m, \u001b[38;5;34m58\u001b[0m)              │               \u001b[38;5;34m0\u001b[0m │\n",
       "├──────────────────────────────────────┼─────────────────────────────┼─────────────────┤\n",
       "│ lstm_4 (\u001b[38;5;33mLSTM\u001b[0m)                        │ (\u001b[38;5;45mNone\u001b[0m, \u001b[38;5;34m24\u001b[0m, \u001b[38;5;34m64\u001b[0m)              │          \u001b[38;5;34m31,488\u001b[0m │\n",
       "├──────────────────────────────────────┼─────────────────────────────┼─────────────────┤\n",
       "│ dropout_4 (\u001b[38;5;33mDropout\u001b[0m)                  │ (\u001b[38;5;45mNone\u001b[0m, \u001b[38;5;34m24\u001b[0m, \u001b[38;5;34m64\u001b[0m)              │               \u001b[38;5;34m0\u001b[0m │\n",
       "├──────────────────────────────────────┼─────────────────────────────┼─────────────────┤\n",
       "│ lstm_5 (\u001b[38;5;33mLSTM\u001b[0m)                        │ (\u001b[38;5;45mNone\u001b[0m, \u001b[38;5;34m32\u001b[0m)                  │          \u001b[38;5;34m12,416\u001b[0m │\n",
       "├──────────────────────────────────────┼─────────────────────────────┼─────────────────┤\n",
       "│ dropout_5 (\u001b[38;5;33mDropout\u001b[0m)                  │ (\u001b[38;5;45mNone\u001b[0m, \u001b[38;5;34m32\u001b[0m)                  │               \u001b[38;5;34m0\u001b[0m │\n",
       "├──────────────────────────────────────┼─────────────────────────────┼─────────────────┤\n",
       "│ dense_12 (\u001b[38;5;33mDense\u001b[0m)                     │ (\u001b[38;5;45mNone\u001b[0m, \u001b[38;5;34m32\u001b[0m)                  │           \u001b[38;5;34m1,056\u001b[0m │\n",
       "├──────────────────────────────────────┼─────────────────────────────┼─────────────────┤\n",
       "│ dropout_6 (\u001b[38;5;33mDropout\u001b[0m)                  │ (\u001b[38;5;45mNone\u001b[0m, \u001b[38;5;34m32\u001b[0m)                  │               \u001b[38;5;34m0\u001b[0m │\n",
       "├──────────────────────────────────────┼─────────────────────────────┼─────────────────┤\n",
       "│ dense_13 (\u001b[38;5;33mDense\u001b[0m)                     │ (\u001b[38;5;45mNone\u001b[0m, \u001b[38;5;34m1\u001b[0m)                   │              \u001b[38;5;34m33\u001b[0m │\n",
       "└──────────────────────────────────────┴─────────────────────────────┴─────────────────┘\n"
      ]
     },
     "metadata": {},
     "output_type": "display_data"
    },
    {
     "data": {
      "text/html": [
       "<pre style=\"white-space:pre;overflow-x:auto;line-height:normal;font-family:Menlo,'DejaVu Sans Mono',consolas,'Courier New',monospace\"><span style=\"font-weight: bold\"> Total params: </span><span style=\"color: #00af00; text-decoration-color: #00af00\">44,993</span> (175.75 KB)\n",
       "</pre>\n"
      ],
      "text/plain": [
       "\u001b[1m Total params: \u001b[0m\u001b[38;5;34m44,993\u001b[0m (175.75 KB)\n"
      ]
     },
     "metadata": {},
     "output_type": "display_data"
    },
    {
     "data": {
      "text/html": [
       "<pre style=\"white-space:pre;overflow-x:auto;line-height:normal;font-family:Menlo,'DejaVu Sans Mono',consolas,'Courier New',monospace\"><span style=\"font-weight: bold\"> Trainable params: </span><span style=\"color: #00af00; text-decoration-color: #00af00\">44,993</span> (175.75 KB)\n",
       "</pre>\n"
      ],
      "text/plain": [
       "\u001b[1m Trainable params: \u001b[0m\u001b[38;5;34m44,993\u001b[0m (175.75 KB)\n"
      ]
     },
     "metadata": {},
     "output_type": "display_data"
    },
    {
     "data": {
      "text/html": [
       "<pre style=\"white-space:pre;overflow-x:auto;line-height:normal;font-family:Menlo,'DejaVu Sans Mono',consolas,'Courier New',monospace\"><span style=\"font-weight: bold\"> Non-trainable params: </span><span style=\"color: #00af00; text-decoration-color: #00af00\">0</span> (0.00 B)\n",
       "</pre>\n"
      ],
      "text/plain": [
       "\u001b[1m Non-trainable params: \u001b[0m\u001b[38;5;34m0\u001b[0m (0.00 B)\n"
      ]
     },
     "metadata": {},
     "output_type": "display_data"
    }
   ],
   "source": [
    "sequence_length = X_train_seq.shape[1]  # Length of the sequences (e.g., 24 hours)\n",
    "num_features = X_train_seq.shape[2]  # Number of features in the dataset\n",
    "\n",
    "model = build_model(sequence_length, num_features)\n",
    "model.summary()"
   ]
  },
  {
   "cell_type": "markdown",
   "id": "b7dac378-0c09-49f7-acec-c86773e849bf",
   "metadata": {},
   "source": [
    "### 10.3. Train the Model"
   ]
  },
  {
   "cell_type": "markdown",
   "id": "285b82f6-237e-4f3f-a3f4-e0c4050f21ba",
   "metadata": {},
   "source": [
    "Set up training parameters and callbacks to monitor performance."
   ]
  },
  {
   "cell_type": "markdown",
   "id": "43b13220-7ea5-470b-b5d4-429b6e0e8490",
   "metadata": {},
   "source": [
    "**Early Stopping** prevents overfitting by stopping training when the validation performance stops improving."
   ]
  },
  {
   "cell_type": "code",
   "execution_count": 117,
   "id": "9aedf027-7f37-4ded-8c7a-390366b8dac4",
   "metadata": {},
   "outputs": [],
   "source": [
    "early_stopping = EarlyStopping(monitor='val_loss', patience=5, restore_best_weights=True)\n",
    "# EarlyStopping(monitor='val_loss', patience=20)"
   ]
  },
  {
   "cell_type": "markdown",
   "id": "45e5a161-0991-4f5d-9e2f-c52671c9f2f3",
   "metadata": {},
   "source": [
    "Save the best model"
   ]
  },
  {
   "cell_type": "code",
   "execution_count": 118,
   "id": "5a245a3e-a5aa-4e40-9ef3-5a9d2b8110af",
   "metadata": {},
   "outputs": [],
   "source": [
    "filepath = 'models/{epoch:02d}-{loss:.4f}-{val_loss:.4f}-{mae:.4f}-{val_mae:.4f}.hdf5'\n",
    "# filepath = 'models/{epoch:02d}-{loss:.4f}-{val_loss:.4f}-{accuracy:.4f}-{val_accuracy:.4f}.hdf5'\n",
    "cp = ModelCheckpoint(f'{filepath}.keras', save_best_only = True)\n",
    "#cp = ModelCheckpoint('model/model1.keras', save_best_only = True, monitor = \"loss\", mode = 'mean')"
   ]
  },
  {
   "cell_type": "code",
   "execution_count": 119,
   "id": "860c4953-7a99-4947-ad1f-3d8891b5b572",
   "metadata": {},
   "outputs": [],
   "source": [
    "# filepath = 'models/{epoch:02d}-{loss:.4f}-{val_loss:.4f}-{mae:.4f}-{val_mae:.4f}.hdf5'\n",
    "\n",
    "# callbacks = [EarlyStopping(monitor='val_loss', patience=20),\n",
    "#              ModelCheckpoint(filepath, monitor='loss', save_best_only=True, mode='min')]"
   ]
  },
  {
   "cell_type": "markdown",
   "id": "dce0d986-9e81-4a61-a097-9478c8679997",
   "metadata": {},
   "source": [
    "**Train the model** with your training data, using validation data to track performance."
   ]
  },
  {
   "cell_type": "code",
   "execution_count": 120,
   "id": "3b85c3a2-af71-4841-8cd4-6776cacc3ca0",
   "metadata": {},
   "outputs": [
    {
     "name": "stdout",
     "output_type": "stream",
     "text": [
      "Epoch 1/5\n",
      "\u001b[1m11530/11530\u001b[0m \u001b[32m━━━━━━━━━━━━━━━━━━━━\u001b[0m\u001b[37m\u001b[0m \u001b[1m215s\u001b[0m 18ms/step - accuracy: 0.5009 - loss: 0.6937 - val_accuracy: 0.5025 - val_loss: 0.6931\n",
      "Epoch 2/5\n",
      "\u001b[1m11530/11530\u001b[0m \u001b[32m━━━━━━━━━━━━━━━━━━━━\u001b[0m\u001b[37m\u001b[0m \u001b[1m204s\u001b[0m 18ms/step - accuracy: 0.5004 - loss: 0.6932 - val_accuracy: 0.5025 - val_loss: 0.6932\n",
      "Epoch 3/5\n",
      "\u001b[1m11530/11530\u001b[0m \u001b[32m━━━━━━━━━━━━━━━━━━━━\u001b[0m\u001b[37m\u001b[0m \u001b[1m202s\u001b[0m 18ms/step - accuracy: 0.5012 - loss: 0.6932 - val_accuracy: 0.4970 - val_loss: 0.6931\n",
      "Epoch 4/5\n",
      "\u001b[1m11530/11530\u001b[0m \u001b[32m━━━━━━━━━━━━━━━━━━━━\u001b[0m\u001b[37m\u001b[0m \u001b[1m201s\u001b[0m 17ms/step - accuracy: 0.5003 - loss: 0.6932 - val_accuracy: 0.5025 - val_loss: 0.6931\n",
      "Epoch 5/5\n",
      "\u001b[1m11530/11530\u001b[0m \u001b[32m━━━━━━━━━━━━━━━━━━━━\u001b[0m\u001b[37m\u001b[0m \u001b[1m200s\u001b[0m 17ms/step - accuracy: 0.4986 - loss: 0.6932 - val_accuracy: 0.4975 - val_loss: 0.6932\n"
     ]
    }
   ],
   "source": [
    "history = model.fit(\n",
    "    X_train_seq, y_train_seq,\n",
    "    epochs = 5,  # You can adjust this\n",
    "    batch_size = 32,  # Experiment with batch sizes\n",
    "    validation_data=(X_val_seq, y_val_seq),\n",
    "    callbacks=[early_stopping, cp],\n",
    "    verbose=1\n",
    ")"
   ]
  },
  {
   "cell_type": "code",
   "execution_count": 121,
   "id": "1f3e1316-e9b7-496c-aea0-303ad11b69a1",
   "metadata": {},
   "outputs": [],
   "source": [
    "# Load the best model\n",
    "model = load_model('model/model1.keras')"
   ]
  },
  {
   "cell_type": "markdown",
   "id": "8c02d7af-89cb-40d8-8041-ecf171004757",
   "metadata": {},
   "source": [
    "### 10.4. Evaluate the Model"
   ]
  },
  {
   "cell_type": "markdown",
   "id": "14a530ad-e0eb-4439-89a1-d0d2c4973691",
   "metadata": {},
   "source": [
    "Evaluate the model on the test set to see how well it generalizes."
   ]
  },
  {
   "cell_type": "code",
   "execution_count": 122,
   "id": "4523e99f-faa7-4630-bfc9-d74d5eb391c5",
   "metadata": {},
   "outputs": [],
   "source": [
    "def plot_prictions(predictions, actual_values, labels):\n",
    "    # Plot predictions \n",
    "    plt.figure(figsize=(10, 6))\n",
    "    plt.plot(predictions, label = labels[0])\n",
    "    plt.plot(actual_values, label = labels[1])\n",
    "    \n",
    "    plt.xlabel('Time')\n",
    "    plt.ylabel('Value')\n",
    "    plt.title(f'{labels[0]} vs. {labels[1]}')\n",
    "    plt.legend()\n",
    "    plt.grid(True)\n",
    "    plt.show()"
   ]
  },
  {
   "cell_type": "markdown",
   "id": "4ca582f6-cb50-4931-b607-2b0d1c232385",
   "metadata": {},
   "source": [
    "#### Evaluate with Test Data"
   ]
  },
  {
   "cell_type": "code",
   "execution_count": 123,
   "id": "06aa3077-9a49-4458-a831-a8d06165bad9",
   "metadata": {},
   "outputs": [],
   "source": [
    "# Predictions on the test data\n",
    "y_pred_test = model.predict(X_test_seq)\n",
    "\n",
    "# Metrics\n",
    "mse = mean_squared_error(y_test_seq, y_pred_test)\n",
    "mae = mean_absolute_error(y_test_seq, y_pred_test)\n",
    "\n",
    "print(f\"Mean Squared Error (MSE): {mse}\")\n",
    "print(f\"Mean Absolute Error (MAE): {mae}\")"
   ]
  },
  {
   "cell_type": "code",
   "execution_count": 124,
   "id": "d439dcfb-89ef-4c5b-bf96-50bcd7c6883a",
   "metadata": {},
   "outputs": [
    {
     "name": "stdout",
     "output_type": "stream",
     "text": [
      "\u001b[1m2471/2471\u001b[0m \u001b[32m━━━━━━━━━━━━━━━━━━━━\u001b[0m\u001b[37m\u001b[0m \u001b[1m12s\u001b[0m 5ms/step - loss: 1.1688 - mae: 0.9554\n",
      "Test Accuracy: 0.9601\n",
      "\u001b[1m2471/2471\u001b[0m \u001b[32m━━━━━━━━━━━━━━━━━━━━\u001b[0m\u001b[37m\u001b[0m \u001b[1m11s\u001b[0m 4ms/step\n"
     ]
    }
   ],
   "source": [
    "# # Evaluate performance (Classification)\n",
    "# loss, accuracy = model.evaluate(X_test_seq, y_test_seq)\n",
    "# print(f\"Test Accuracy: {accuracy:.4f}\")\n",
    "\n",
    "# # Predict probabilities\n",
    "# y_pred_prob_test = model.predict(X_test_seq)\n",
    "# y_pred_test = (y_pred_prob_test > 0.5).astype(int)"
   ]
  },
  {
   "cell_type": "code",
   "execution_count": 125,
   "id": "6bea7bf7-7f3a-4c63-9e39-9f2a0b54b154",
   "metadata": {},
   "outputs": [
    {
     "data": {
      "text/html": [
       "<div>\n",
       "<style scoped>\n",
       "    .dataframe tbody tr th:only-of-type {\n",
       "        vertical-align: middle;\n",
       "    }\n",
       "\n",
       "    .dataframe tbody tr th {\n",
       "        vertical-align: top;\n",
       "    }\n",
       "\n",
       "    .dataframe thead th {\n",
       "        text-align: right;\n",
       "    }\n",
       "</style>\n",
       "<table border=\"1\" class=\"dataframe\">\n",
       "  <thead>\n",
       "    <tr style=\"text-align: right;\">\n",
       "      <th></th>\n",
       "      <th>Test Predictions</th>\n",
       "      <th>Actuals</th>\n",
       "    </tr>\n",
       "  </thead>\n",
       "  <tbody>\n",
       "    <tr>\n",
       "      <th>0</th>\n",
       "      <td>1</td>\n",
       "      <td>1</td>\n",
       "    </tr>\n",
       "    <tr>\n",
       "      <th>1</th>\n",
       "      <td>1</td>\n",
       "      <td>0</td>\n",
       "    </tr>\n",
       "    <tr>\n",
       "      <th>2</th>\n",
       "      <td>1</td>\n",
       "      <td>1</td>\n",
       "    </tr>\n",
       "    <tr>\n",
       "      <th>3</th>\n",
       "      <td>1</td>\n",
       "      <td>0</td>\n",
       "    </tr>\n",
       "    <tr>\n",
       "      <th>4</th>\n",
       "      <td>1</td>\n",
       "      <td>1</td>\n",
       "    </tr>\n",
       "    <tr>\n",
       "      <th>...</th>\n",
       "      <td>...</td>\n",
       "      <td>...</td>\n",
       "    </tr>\n",
       "    <tr>\n",
       "      <th>79039</th>\n",
       "      <td>1</td>\n",
       "      <td>0</td>\n",
       "    </tr>\n",
       "    <tr>\n",
       "      <th>79040</th>\n",
       "      <td>1</td>\n",
       "      <td>0</td>\n",
       "    </tr>\n",
       "    <tr>\n",
       "      <th>79041</th>\n",
       "      <td>1</td>\n",
       "      <td>0</td>\n",
       "    </tr>\n",
       "    <tr>\n",
       "      <th>79042</th>\n",
       "      <td>1</td>\n",
       "      <td>0</td>\n",
       "    </tr>\n",
       "    <tr>\n",
       "      <th>79043</th>\n",
       "      <td>1</td>\n",
       "      <td>0</td>\n",
       "    </tr>\n",
       "  </tbody>\n",
       "</table>\n",
       "<p>79044 rows × 2 columns</p>\n",
       "</div>"
      ],
      "text/plain": [
       "       Test Predictions  Actuals\n",
       "0                     1        1\n",
       "1                     1        0\n",
       "2                     1        1\n",
       "3                     1        0\n",
       "4                     1        1\n",
       "...                 ...      ...\n",
       "79039                 1        0\n",
       "79040                 1        0\n",
       "79041                 1        0\n",
       "79042                 1        0\n",
       "79043                 1        0\n",
       "\n",
       "[79044 rows x 2 columns]"
      ]
     },
     "execution_count": 125,
     "metadata": {},
     "output_type": "execute_result"
    }
   ],
   "source": [
    "test_pred = y_pred_test.flatten()\n",
    "y_pred_test = y_test_seq.flatten()\n",
    "\n",
    "test_results = pd.DataFrame(data = {'Test Predictions': test_pred, 'Actuals': y_pred_test})\n",
    "test_results"
   ]
  },
  {
   "cell_type": "code",
   "execution_count": 126,
   "id": "597a8f50-2761-42a4-ab3a-0f56cb99bca0",
   "metadata": {},
   "outputs": [
    {
     "data": {
      "text/plain": [
       "Test Predictions\n",
       "1    79044\n",
       "Name: count, dtype: int64"
      ]
     },
     "execution_count": 126,
     "metadata": {},
     "output_type": "execute_result"
    }
   ],
   "source": [
    "test_results['Test Predictions'].value_counts()"
   ]
  },
  {
   "cell_type": "code",
   "execution_count": 127,
   "id": "10808d20-eea5-4376-860f-eb6404e9faf9",
   "metadata": {},
   "outputs": [
    {
     "data": {
      "text/plain": [
       "Actuals\n",
       "0    39944\n",
       "1    39100\n",
       "Name: count, dtype: int64"
      ]
     },
     "execution_count": 127,
     "metadata": {},
     "output_type": "execute_result"
    }
   ],
   "source": [
    "test_results['Actuals'].value_counts()"
   ]
  },
  {
   "cell_type": "code",
   "execution_count": 128,
   "id": "b5ae356e-1e6c-4622-914e-dc53a9533056",
   "metadata": {},
   "outputs": [
    {
     "data": {
      "image/png": "[encoded data removed]",
      "text/plain": [
       "<Figure size 1000x600 with 1 Axes>"
      ]
     },
     "metadata": {},
     "output_type": "display_data"
    }
   ],
   "source": [
    "# Plot the predictions\n",
    "labels = ['Test Predictions', 'Actual Test Values']\n",
    "plot_prictions(test_results['Test Predictions'][:10], test_results['Actuals'][:10], labels)"
   ]
  },
  {
   "cell_type": "markdown",
   "id": "7b84039d-19e2-43ee-9ee3-a43dab65cd2f",
   "metadata": {},
   "source": [
    "#### Evaluate with Validate Data"
   ]
  },
  {
   "cell_type": "code",
   "execution_count": 75,
   "id": "82225435-6299-42a9-9dd2-b6bcacb6cd69",
   "metadata": {},
   "outputs": [
    {
     "name": "stdout",
     "output_type": "stream",
     "text": [
      "\u001b[1m2471/2471\u001b[0m \u001b[32m━━━━━━━━━━━━━━━━━━━━\u001b[0m\u001b[37m\u001b[0m \u001b[1m9s\u001b[0m 4ms/step\n",
      "Mean Squared Error (MSE): 0.5363698601722717\n",
      "Mean Absolute Error (MAE): 0.6155533790588379\n"
     ]
    }
   ],
   "source": [
    "# Predictions on the test data\n",
    "y_pred_val = model.predict(X_val_seq)\n",
    "\n",
    "# Metrics\n",
    "mse = mean_squared_error(y_val_seq, y_pred_val)\n",
    "mae = mean_absolute_error(y_val_seq, y_pred_val)\n",
    "\n",
    "print(f\"Mean Squared Error (MSE): {mse}\")\n",
    "print(f\"Mean Absolute Error (MAE): {mae}\")"
   ]
  },
  {
   "cell_type": "code",
   "execution_count": 76,
   "id": "3d3d6c98-b2e2-402f-9dbd-7f54f5c6eb24",
   "metadata": {},
   "outputs": [
    {
     "data": {
      "text/html": [
       "<div>\n",
       "<style scoped>\n",
       "    .dataframe tbody tr th:only-of-type {\n",
       "        vertical-align: middle;\n",
       "    }\n",
       "\n",
       "    .dataframe tbody tr th {\n",
       "        vertical-align: top;\n",
       "    }\n",
       "\n",
       "    .dataframe thead th {\n",
       "        text-align: right;\n",
       "    }\n",
       "</style>\n",
       "<table border=\"1\" class=\"dataframe\">\n",
       "  <thead>\n",
       "    <tr style=\"text-align: right;\">\n",
       "      <th></th>\n",
       "      <th>Test Predictions</th>\n",
       "      <th>Actuals</th>\n",
       "    </tr>\n",
       "  </thead>\n",
       "  <tbody>\n",
       "    <tr>\n",
       "      <th>0</th>\n",
       "      <td>0.587706</td>\n",
       "      <td>0</td>\n",
       "    </tr>\n",
       "    <tr>\n",
       "      <th>1</th>\n",
       "      <td>0.587020</td>\n",
       "      <td>1</td>\n",
       "    </tr>\n",
       "    <tr>\n",
       "      <th>2</th>\n",
       "      <td>0.586684</td>\n",
       "      <td>1</td>\n",
       "    </tr>\n",
       "    <tr>\n",
       "      <th>3</th>\n",
       "      <td>0.586887</td>\n",
       "      <td>1</td>\n",
       "    </tr>\n",
       "    <tr>\n",
       "      <th>4</th>\n",
       "      <td>0.589005</td>\n",
       "      <td>1</td>\n",
       "    </tr>\n",
       "    <tr>\n",
       "      <th>...</th>\n",
       "      <td>...</td>\n",
       "      <td>...</td>\n",
       "    </tr>\n",
       "    <tr>\n",
       "      <th>79038</th>\n",
       "      <td>1.416046</td>\n",
       "      <td>0</td>\n",
       "    </tr>\n",
       "    <tr>\n",
       "      <th>79039</th>\n",
       "      <td>1.416192</td>\n",
       "      <td>0</td>\n",
       "    </tr>\n",
       "    <tr>\n",
       "      <th>79040</th>\n",
       "      <td>1.417263</td>\n",
       "      <td>0</td>\n",
       "    </tr>\n",
       "    <tr>\n",
       "      <th>79041</th>\n",
       "      <td>1.416948</td>\n",
       "      <td>0</td>\n",
       "    </tr>\n",
       "    <tr>\n",
       "      <th>79042</th>\n",
       "      <td>1.416384</td>\n",
       "      <td>0</td>\n",
       "    </tr>\n",
       "  </tbody>\n",
       "</table>\n",
       "<p>79043 rows × 2 columns</p>\n",
       "</div>"
      ],
      "text/plain": [
       "       Test Predictions  Actuals\n",
       "0              0.587706        0\n",
       "1              0.587020        1\n",
       "2              0.586684        1\n",
       "3              0.586887        1\n",
       "4              0.589005        1\n",
       "...                 ...      ...\n",
       "79038          1.416046        0\n",
       "79039          1.416192        0\n",
       "79040          1.417263        0\n",
       "79041          1.416948        0\n",
       "79042          1.416384        0\n",
       "\n",
       "[79043 rows x 2 columns]"
      ]
     },
     "execution_count": 76,
     "metadata": {},
     "output_type": "execute_result"
    }
   ],
   "source": [
    "val_pred = y_pred_val.flatten()\n",
    "y_pred_val = y_val_seq.flatten()\n",
    "\n",
    "val_results = pd.DataFrame(data = {'Test Predictions': val_pred, 'Actuals': y_pred_val})\n",
    "val_results"
   ]
  },
  {
   "cell_type": "code",
   "execution_count": 77,
   "id": "ee06e586-3a49-4798-81f2-b581340c0a4a",
   "metadata": {},
   "outputs": [
    {
     "data": {
      "image/png": "[encoded data removed]",
      "text/plain": [
       "<Figure size 1000x600 with 1 Axes>"
      ]
     },
     "metadata": {},
     "output_type": "display_data"
    }
   ],
   "source": [
    "# Plot the predictions\n",
    "labels = ['Validate Predictions', 'Actual Validate Values']\n",
    "plot_prictions(val_results['Test Predictions'], val_results['Actuals'], labels)"
   ]
  },
  {
   "cell_type": "markdown",
   "id": "e78a773a-086a-4e97-9f1c-31652bb0d86a",
   "metadata": {},
   "source": [
    "#### Evaluate with Train Data"
   ]
  },
  {
   "cell_type": "code",
   "execution_count": 78,
   "id": "e99933b3-8510-43de-930f-0c7534c0445f",
   "metadata": {},
   "outputs": [
    {
     "name": "stdout",
     "output_type": "stream",
     "text": [
      "\u001b[1m11530/11530\u001b[0m \u001b[32m━━━━━━━━━━━━━━━━━━━━\u001b[0m\u001b[37m\u001b[0m \u001b[1m46s\u001b[0m 4ms/step\n",
      "Mean Squared Error (MSE): 0.286196231842041\n",
      "Mean Absolute Error (MAE): 0.5015008449554443\n"
     ]
    }
   ],
   "source": [
    "# Predictions on the Train Data\n",
    "y_pred_train = model.predict(X_train_seq)\n",
    "\n",
    "# Metrics\n",
    "mse_train = mean_squared_error(y_train_seq, y_pred_train)\n",
    "mae_train = mean_absolute_error(y_train_seq, y_pred_train)\n",
    "\n",
    "print(f\"Mean Squared Error (MSE): {mse_train}\")\n",
    "print(f\"Mean Absolute Error (MAE): {mae_train}\")"
   ]
  },
  {
   "cell_type": "code",
   "execution_count": 79,
   "id": "4444a4b3-16a2-4437-9540-d2d4567ab720",
   "metadata": {
    "scrolled": true
   },
   "outputs": [
    {
     "data": {
      "text/html": [
       "<div>\n",
       "<style scoped>\n",
       "    .dataframe tbody tr th:only-of-type {\n",
       "        vertical-align: middle;\n",
       "    }\n",
       "\n",
       "    .dataframe tbody tr th {\n",
       "        vertical-align: top;\n",
       "    }\n",
       "\n",
       "    .dataframe thead th {\n",
       "        text-align: right;\n",
       "    }\n",
       "</style>\n",
       "<table border=\"1\" class=\"dataframe\">\n",
       "  <thead>\n",
       "    <tr style=\"text-align: right;\">\n",
       "      <th></th>\n",
       "      <th>Train Predictions</th>\n",
       "      <th>Actuals</th>\n",
       "    </tr>\n",
       "  </thead>\n",
       "  <tbody>\n",
       "    <tr>\n",
       "      <th>0</th>\n",
       "      <td>0.047171</td>\n",
       "      <td>0</td>\n",
       "    </tr>\n",
       "    <tr>\n",
       "      <th>1</th>\n",
       "      <td>0.046961</td>\n",
       "      <td>0</td>\n",
       "    </tr>\n",
       "    <tr>\n",
       "      <th>2</th>\n",
       "      <td>0.046729</td>\n",
       "      <td>0</td>\n",
       "    </tr>\n",
       "    <tr>\n",
       "      <th>3</th>\n",
       "      <td>0.046503</td>\n",
       "      <td>1</td>\n",
       "    </tr>\n",
       "    <tr>\n",
       "      <th>4</th>\n",
       "      <td>0.046218</td>\n",
       "      <td>0</td>\n",
       "    </tr>\n",
       "    <tr>\n",
       "      <th>...</th>\n",
       "      <td>...</td>\n",
       "      <td>...</td>\n",
       "    </tr>\n",
       "    <tr>\n",
       "      <th>368951</th>\n",
       "      <td>0.589329</td>\n",
       "      <td>1</td>\n",
       "    </tr>\n",
       "    <tr>\n",
       "      <th>368952</th>\n",
       "      <td>0.589234</td>\n",
       "      <td>0</td>\n",
       "    </tr>\n",
       "    <tr>\n",
       "      <th>368953</th>\n",
       "      <td>0.589032</td>\n",
       "      <td>1</td>\n",
       "    </tr>\n",
       "    <tr>\n",
       "      <th>368954</th>\n",
       "      <td>0.588208</td>\n",
       "      <td>0</td>\n",
       "    </tr>\n",
       "    <tr>\n",
       "      <th>368955</th>\n",
       "      <td>0.588984</td>\n",
       "      <td>1</td>\n",
       "    </tr>\n",
       "  </tbody>\n",
       "</table>\n",
       "<p>368956 rows × 2 columns</p>\n",
       "</div>"
      ],
      "text/plain": [
       "        Train Predictions  Actuals\n",
       "0                0.047171        0\n",
       "1                0.046961        0\n",
       "2                0.046729        0\n",
       "3                0.046503        1\n",
       "4                0.046218        0\n",
       "...                   ...      ...\n",
       "368951           0.589329        1\n",
       "368952           0.589234        0\n",
       "368953           0.589032        1\n",
       "368954           0.588208        0\n",
       "368955           0.588984        1\n",
       "\n",
       "[368956 rows x 2 columns]"
      ]
     },
     "execution_count": 79,
     "metadata": {},
     "output_type": "execute_result"
    }
   ],
   "source": [
    "train_pred = y_pred_train.flatten()\n",
    "y_pred_train = y_train_seq.flatten()\n",
    "\n",
    "train_results = pd.DataFrame(data = {'Train Predictions': train_pred, 'Actuals': y_pred_train})\n",
    "train_results"
   ]
  },
  {
   "cell_type": "code",
   "execution_count": 80,
   "id": "edf72e00-f15e-4f68-9c56-cf2b81464ef1",
   "metadata": {},
   "outputs": [
    {
     "data": {
      "image/png": "[encoded data removed]",
      "text/plain": [
       "<Figure size 1000x600 with 1 Axes>"
      ]
     },
     "metadata": {},
     "output_type": "display_data"
    }
   ],
   "source": [
    "# Plot the predictions\n",
    "labels = ['Train Predictions', 'Actual Train Values']\n",
    "plot_prictions(train_results['Train Predictions'], train_results['Actuals'], labels)"
   ]
  },
  {
   "cell_type": "markdown",
   "id": "26e22a97-ca7d-4d86-a194-6d39d9c3fb4a",
   "metadata": {},
   "source": [
    "### 10.5. Forecast Future Prices"
   ]
  },
  {
   "cell_type": "markdown",
   "id": "12046b8c-0eeb-4d5c-9cd8-0b87cf360188",
   "metadata": {},
   "source": [
    "Once the model is trained, you can use it to forecast future prices."
   ]
  },
  {
   "cell_type": "code",
   "execution_count": 77,
   "id": "bd82535f-7258-4080-9d1c-675ce7048d2f",
   "metadata": {},
   "outputs": [
    {
     "name": "stdout",
     "output_type": "stream",
     "text": [
      "\u001b[1m1/1\u001b[0m \u001b[32m━━━━━━━━━━━━━━━━━━━━\u001b[0m\u001b[37m\u001b[0m \u001b[1m0s\u001b[0m 38ms/step\n",
      "Predicted next price: 1.5917977094650269\n",
      "Predicted next price (original scale): 94103.40948599456\n"
     ]
    }
   ],
   "source": [
    "# Prepare a sequence of the last 24 hours\n",
    "latest_sequence = X_test_seq[-1].reshape(1, sequence_length, num_features)\n",
    "\n",
    "# Predict the next hour's price\n",
    "next_price_scaled = model.predict(latest_sequence)\n",
    "print(f\"Predicted next price: {next_price_scaled[0][0]}\")\n",
    "\n",
    "# Prepare the input with the same number of features\n",
    "predicted_full_features = np.zeros((1, 55))  # Assuming 55 features in the original scaler\n",
    "predicted_full_features[:, -1] = next_price_scaled[0][0]  # Insert the predicted price\n",
    "\n",
    "# Inverse transform\n",
    "next_price_original_full = scaler.inverse_transform(predicted_full_features)\n",
    "\n",
    "# Extract the original price\n",
    "next_price_original = next_price_original_full[0, -1]\n",
    "print(f\"Predicted next price (original scale): {next_price_original}\")"
   ]
  },
  {
   "cell_type": "markdown",
   "id": "c902eda4-c6f6-4be8-871b-c07e98098491",
   "metadata": {},
   "source": [
    "Here’s a step-by-step guide on how to use your prepared dataset for training a neural network and tuning hyperparameters:\n",
    "\n",
    "---\n",
    "### **Step 6: Hyperparameter Tuning**\n",
    "To tune hyperparameters, you can use tools like **Keras Tuner** or manually adjust parameters in a structured way.\n",
    "\n",
    "### Option 1: Grid Search (Manual)\n",
    "Manually try different combinations of hyperparameters:\n",
    "- **Number of filters in CNN (e.g., 16, 32, 64).**\n",
    "- **LSTM units (e.g., 32, 64, 128).**\n",
    "- **Batch size (e.g., 16, 32, 64).**\n",
    "- **Learning rate (e.g., 0.001, 0.0001).**\n",
    "- **Dropout rate (e.g., 0.2, 0.3, 0.4).**\n",
    "\n",
    "Example:\n",
    "```python\n",
    "for filters in [16, 32, 64]:\n",
    "    for lstm_units in [32, 64, 128]:\n",
    "        model = build_model(sequence_length, num_features)\n",
    "        print(f\"Training with filters={filters}, lstm_units={lstm_units}\")\n",
    "        model.fit(X_train, y_train, validation_data=(X_val, y_val), epochs=20, batch_size=32)\n",
    "```\n",
    "\n",
    "---\n",
    "\n",
    "### Option 2: Keras Tuner (Automated)\n",
    "Use **Keras Tuner** to automate hyperparameter tuning.\n",
    "\n",
    "```python\n",
    "import keras_tuner as kt\n",
    "\n",
    "# Define a model-building function for Keras Tuner\n",
    "def build_tuned_model(hp):\n",
    "    input_layer = Input(shape=(sequence_length, num_features))\n",
    "    \n",
    "    # CNN\n",
    "    cnn_layer = Conv1D(\n",
    "        filters=hp.Int('filters', min_value=16, max_value=64, step=16), \n",
    "        kernel_size=3, activation='relu'\n",
    "    )(input_layer)\n",
    "    cnn_layer = MaxPooling1D(pool_size=2)(cnn_layer)\n",
    "    cnn_layer = Flatten()(cnn_layer)\n",
    "    \n",
    "    # LSTM\n",
    "    lstm_layer = LSTM(\n",
    "        units=hp.Int('lstm_units', min_value=32, max_value=128, step=32), \n",
    "        return_sequences=False\n",
    "    )(input_layer)\n",
    "    \n",
    "    # Combine\n",
    "    combined = Concatenate()([cnn_layer, lstm_layer])\n",
    "    dense_layer = Dense(\n",
    "        units=hp.Int('dense_units', min_value=64, max_value=256, step=64), \n",
    "        activation='relu'\n",
    "    )(combined)\n",
    "    dense_layer = Dropout(hp.Float('dropout', 0.2, 0.5, step=0.1))(dense_layer)\n",
    "    output_layer = Dense(1, activation='linear')(dense_layer)\n",
    "    \n",
    "    model = tf.keras.Model(inputs=input_layer, outputs=output_layer)\n",
    "    model.compile(\n",
    "        optimizer=tf.keras.optimizers.Adam(hp.Choice('learning_rate', [0.001, 0.0005, 0.0001])),\n",
    "        loss='mse',\n",
    "        metrics=['mae']\n",
    "    )\n",
    "    return model\n",
    "\n",
    "# Initialize the tuner\n",
    "tuner = kt.RandomSearch(\n",
    "    build_tuned_model,\n",
    "    objective='val_loss',\n",
    "    max_trials=10,\n",
    "    executions_per_trial=1,\n",
    "    directory='my_tuning_dir',\n",
    "    project_name='bitcoin_forecasting'\n",
    ")\n",
    "\n",
    "# Run the search\n",
    "tuner.search(X_train, y_train, validation_data=(X_val, y_val), epochs=20, batch_size=32)\n",
    "\n",
    "# Get the best model\n",
    "best_hps = tuner.get_best_hyperparameters(num_trials=1)[0]\n",
    "print(f\"Best hyperparameters: {best_hps.values}\")\n",
    "```\n",
    "\n",
    "---\n",
    "\n",
    "### **Step 7: Save and Load the Model**\n",
    "Save the best model for future use.\n",
    "\n",
    "```python\n",
    "# Save model\n",
    "model.save('bitcoin_price_model.h5')\n",
    "\n",
    "# Load model\n",
    "from tensorflow.keras.models import load_model\n",
    "model = load_model('bitcoin_price_model.h5')\n",
    "```\n",
    "\n",
    "---\n",
    "\n",
    "### **Step 8: Forecast Future Prices**\n",
    "Once the model is trained, you can use it to forecast future prices.\n",
    "\n",
    "```python\n",
    "# Prepare a sequence of the last 24 hours\n",
    "latest_sequence = X_test[-1].reshape(1, sequence_length, num_features)\n",
    "\n",
    "# Predict the next hour's price\n",
    "next_price = model.predict(latest_sequence)\n",
    "print(f\"Predicted next price: {next_price[0][0]}\")\n",
    "```\n",
    "\n",
    "---\n",
    "\n",
    "This approach allows you to train, evaluate, and tune your model effectively. Let me know if you need more help!"
   ]
  },
  {
   "cell_type": "code",
   "execution_count": null,
   "id": "550fbee7-153f-4caa-be39-9ec61a232d66",
   "metadata": {},
   "outputs": [],
   "source": []
  },
  {
   "cell_type": "code",
   "execution_count": null,
   "id": "8f1ed35b-ca9e-472e-86d1-55b6fc575932",
   "metadata": {},
   "outputs": [],
   "source": []
  }
 ],
 "metadata": {
  "kernelspec": {
   "display_name": "Python 3 (ipykernel)",
   "language": "python",
   "name": "python3"
  },
  "language_info": {
   "codemirror_mode": {
    "name": "ipython",
    "version": 3
   },
   "file_extension": ".py",
   "mimetype": "text/x-python",
   "name": "python",
   "nbconvert_exporter": "python",
   "pygments_lexer": "ipython3",
   "version": "3.11.9"
  }
 },
 "nbformat": 4,
 "nbformat_minor": 5
}
