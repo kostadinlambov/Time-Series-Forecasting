{
 "cells": [
  {
   "cell_type": "code",
   "execution_count": 1,
   "id": "4e576634-3e92-4256-ae48-10d76521f0f5",
   "metadata": {},
   "outputs": [],
   "source": [
    "import pandas as pd\n",
    "import numpy as np\n",
    "import matplotlib.pyplot as plt\n",
    "import seaborn as sns\n",
    "\n",
    "from statsmodels.tsa.seasonal import STL, seasonal_decompose\n",
    "from statsmodels.tsa.stattools import pacf\n",
    "from statsmodels.graphics.tsaplots import plot_acf, plot_pacf\n",
    "\n",
    "from sklearn.preprocessing import MinMaxScaler\n",
    "from sklearn.model_selection import train_test_split\n",
    "\n",
    "import tensorflow as tf\n",
    "from tensorflow.keras.models import Sequential, load_model\n",
    "from tensorflow.keras.layers import LSTM, Dense, Dropout, Conv1D, MaxPooling1D, Flatten, Input, Concatenate\n",
    "from tensorflow.keras.callbacks import EarlyStopping, ModelCheckpoint\n",
    "from sklearn.metrics import mean_squared_error, mean_absolute_error"
   ]
  },
  {
   "cell_type": "markdown",
   "id": "eb62d6fd-9f21-4a8e-a08e-089d437b86f9",
   "metadata": {},
   "source": [
    "# Time-Series-Forecasting"
   ]
  },
  {
   "cell_type": "code",
   "execution_count": null,
   "id": "149f40a5-3b82-40e8-9024-d9e6065d83b3",
   "metadata": {},
   "outputs": [],
   "source": []
  },
  {
   "cell_type": "code",
   "execution_count": null,
   "id": "aaafa474-c121-4a1a-8335-d4b9f8638c9d",
   "metadata": {},
   "outputs": [],
   "source": []
  },
  {
   "cell_type": "markdown",
   "id": "e790912f-0171-443f-9811-fcb806e0f7cd",
   "metadata": {},
   "source": [
    "## 4. Data Processing"
   ]
  },
  {
   "cell_type": "markdown",
   "id": "c423f52c-dcb7-49af-91a9-38bc3aa5ea35",
   "metadata": {},
   "source": [
    "### 4.1. Load historical Bitcoin price data"
   ]
  },
  {
   "cell_type": "markdown",
   "id": "7c2819d6-a312-4a39-9e2a-e21d0a70e95c",
   "metadata": {},
   "source": [
    "The historical Bitcoin price data were downloaded from the **Coinbase API**. The dataset contains the price data for **1 year**, from **November 2023** to **October 2024**."
   ]
  },
  {
   "cell_type": "code",
   "execution_count": 2,
   "id": "71b16b65-3cea-4d34-8903-00f51b96bc80",
   "metadata": {},
   "outputs": [
    {
     "data": {
      "text/html": [
       "<div>\n",
       "<style scoped>\n",
       "    .dataframe tbody tr th:only-of-type {\n",
       "        vertical-align: middle;\n",
       "    }\n",
       "\n",
       "    .dataframe tbody tr th {\n",
       "        vertical-align: top;\n",
       "    }\n",
       "\n",
       "    .dataframe thead th {\n",
       "        text-align: right;\n",
       "    }\n",
       "</style>\n",
       "<table border=\"1\" class=\"dataframe\">\n",
       "  <thead>\n",
       "    <tr style=\"text-align: right;\">\n",
       "      <th></th>\n",
       "      <th>timestamp</th>\n",
       "      <th>open</th>\n",
       "      <th>high</th>\n",
       "      <th>low</th>\n",
       "      <th>close</th>\n",
       "      <th>volume</th>\n",
       "    </tr>\n",
       "  </thead>\n",
       "  <tbody>\n",
       "    <tr>\n",
       "      <th>0</th>\n",
       "      <td>2024-01-25 00:00:00</td>\n",
       "      <td>40051.20</td>\n",
       "      <td>40079.88</td>\n",
       "      <td>40079.87</td>\n",
       "      <td>40051.80</td>\n",
       "      <td>6.601578</td>\n",
       "    </tr>\n",
       "    <tr>\n",
       "      <th>1</th>\n",
       "      <td>2024-01-25 00:01:00</td>\n",
       "      <td>40041.00</td>\n",
       "      <td>40070.32</td>\n",
       "      <td>40051.60</td>\n",
       "      <td>40061.92</td>\n",
       "      <td>7.541910</td>\n",
       "    </tr>\n",
       "    <tr>\n",
       "      <th>2</th>\n",
       "      <td>2024-01-25 00:02:00</td>\n",
       "      <td>40038.13</td>\n",
       "      <td>40068.79</td>\n",
       "      <td>40061.59</td>\n",
       "      <td>40042.82</td>\n",
       "      <td>7.078218</td>\n",
       "    </tr>\n",
       "    <tr>\n",
       "      <th>3</th>\n",
       "      <td>2024-01-25 00:03:00</td>\n",
       "      <td>40043.36</td>\n",
       "      <td>40056.15</td>\n",
       "      <td>40043.36</td>\n",
       "      <td>40055.80</td>\n",
       "      <td>1.614071</td>\n",
       "    </tr>\n",
       "    <tr>\n",
       "      <th>4</th>\n",
       "      <td>2024-01-25 00:04:00</td>\n",
       "      <td>40052.64</td>\n",
       "      <td>40063.21</td>\n",
       "      <td>40056.15</td>\n",
       "      <td>40063.20</td>\n",
       "      <td>1.924187</td>\n",
       "    </tr>\n",
       "    <tr>\n",
       "      <th>...</th>\n",
       "      <td>...</td>\n",
       "      <td>...</td>\n",
       "      <td>...</td>\n",
       "      <td>...</td>\n",
       "      <td>...</td>\n",
       "      <td>...</td>\n",
       "    </tr>\n",
       "    <tr>\n",
       "      <th>527180</th>\n",
       "      <td>2025-01-23 23:56:00</td>\n",
       "      <td>104047.01</td>\n",
       "      <td>104112.45</td>\n",
       "      <td>104064.68</td>\n",
       "      <td>104079.63</td>\n",
       "      <td>6.922352</td>\n",
       "    </tr>\n",
       "    <tr>\n",
       "      <th>527181</th>\n",
       "      <td>2025-01-23 23:57:00</td>\n",
       "      <td>104052.01</td>\n",
       "      <td>104088.97</td>\n",
       "      <td>104079.63</td>\n",
       "      <td>104079.60</td>\n",
       "      <td>1.628341</td>\n",
       "    </tr>\n",
       "    <tr>\n",
       "      <th>527182</th>\n",
       "      <td>2025-01-23 23:58:00</td>\n",
       "      <td>103928.31</td>\n",
       "      <td>104088.89</td>\n",
       "      <td>104079.60</td>\n",
       "      <td>103964.62</td>\n",
       "      <td>10.861781</td>\n",
       "    </tr>\n",
       "    <tr>\n",
       "      <th>527183</th>\n",
       "      <td>2025-01-23 23:59:00</td>\n",
       "      <td>103900.00</td>\n",
       "      <td>103973.87</td>\n",
       "      <td>103964.62</td>\n",
       "      <td>103926.36</td>\n",
       "      <td>6.802193</td>\n",
       "    </tr>\n",
       "    <tr>\n",
       "      <th>527184</th>\n",
       "      <td>2025-01-24 00:00:00</td>\n",
       "      <td>103857.80</td>\n",
       "      <td>103947.90</td>\n",
       "      <td>103926.36</td>\n",
       "      <td>103889.08</td>\n",
       "      <td>17.378134</td>\n",
       "    </tr>\n",
       "  </tbody>\n",
       "</table>\n",
       "<p>527185 rows × 6 columns</p>\n",
       "</div>"
      ],
      "text/plain": [
       "                  timestamp       open       high        low      close  \\\n",
       "0       2024-01-25 00:00:00   40051.20   40079.88   40079.87   40051.80   \n",
       "1       2024-01-25 00:01:00   40041.00   40070.32   40051.60   40061.92   \n",
       "2       2024-01-25 00:02:00   40038.13   40068.79   40061.59   40042.82   \n",
       "3       2024-01-25 00:03:00   40043.36   40056.15   40043.36   40055.80   \n",
       "4       2024-01-25 00:04:00   40052.64   40063.21   40056.15   40063.20   \n",
       "...                     ...        ...        ...        ...        ...   \n",
       "527180  2025-01-23 23:56:00  104047.01  104112.45  104064.68  104079.63   \n",
       "527181  2025-01-23 23:57:00  104052.01  104088.97  104079.63  104079.60   \n",
       "527182  2025-01-23 23:58:00  103928.31  104088.89  104079.60  103964.62   \n",
       "527183  2025-01-23 23:59:00  103900.00  103973.87  103964.62  103926.36   \n",
       "527184  2025-01-24 00:00:00  103857.80  103947.90  103926.36  103889.08   \n",
       "\n",
       "           volume  \n",
       "0        6.601578  \n",
       "1        7.541910  \n",
       "2        7.078218  \n",
       "3        1.614071  \n",
       "4        1.924187  \n",
       "...           ...  \n",
       "527180   6.922352  \n",
       "527181   1.628341  \n",
       "527182  10.861781  \n",
       "527183   6.802193  \n",
       "527184  17.378134  \n",
       "\n",
       "[527185 rows x 6 columns]"
      ]
     },
     "execution_count": 2,
     "metadata": {},
     "output_type": "execute_result"
    }
   ],
   "source": [
    "btc_price_data_1_year = pd.read_csv(\"data/bitcoin_historical_data_1_year.csv\")\n",
    "btc_price_data_1_year"
   ]
  },
  {
   "cell_type": "code",
   "execution_count": 3,
   "id": "1c28ebb8-cbb8-49ef-b1d5-2ce99c2136c9",
   "metadata": {},
   "outputs": [],
   "source": [
    "# get hourly data\n",
    "#btc_price_data_1_year[0::60]"
   ]
  },
  {
   "cell_type": "code",
   "execution_count": 4,
   "id": "2e520e4e-958c-4297-9d37-8c7a7f920caa",
   "metadata": {},
   "outputs": [
    {
     "data": {
      "text/html": [
       "<div>\n",
       "<style scoped>\n",
       "    .dataframe tbody tr th:only-of-type {\n",
       "        vertical-align: middle;\n",
       "    }\n",
       "\n",
       "    .dataframe tbody tr th {\n",
       "        vertical-align: top;\n",
       "    }\n",
       "\n",
       "    .dataframe thead th {\n",
       "        text-align: right;\n",
       "    }\n",
       "</style>\n",
       "<table border=\"1\" class=\"dataframe\">\n",
       "  <thead>\n",
       "    <tr style=\"text-align: right;\">\n",
       "      <th></th>\n",
       "      <th>count</th>\n",
       "      <th>mean</th>\n",
       "      <th>std</th>\n",
       "      <th>min</th>\n",
       "      <th>25%</th>\n",
       "      <th>50%</th>\n",
       "      <th>75%</th>\n",
       "      <th>max</th>\n",
       "    </tr>\n",
       "  </thead>\n",
       "  <tbody>\n",
       "    <tr>\n",
       "      <th>open</th>\n",
       "      <td>527185.0</td>\n",
       "      <td>69423.311389</td>\n",
       "      <td>15429.285709</td>\n",
       "      <td>39503.000000</td>\n",
       "      <td>60757.240000</td>\n",
       "      <td>65736.790000</td>\n",
       "      <td>70694.260000</td>\n",
       "      <td>108768.040000</td>\n",
       "    </tr>\n",
       "    <tr>\n",
       "      <th>high</th>\n",
       "      <td>527185.0</td>\n",
       "      <td>69484.281813</td>\n",
       "      <td>15445.681849</td>\n",
       "      <td>39544.660000</td>\n",
       "      <td>60803.890000</td>\n",
       "      <td>65783.580000</td>\n",
       "      <td>70750.800000</td>\n",
       "      <td>109358.010000</td>\n",
       "    </tr>\n",
       "    <tr>\n",
       "      <th>low</th>\n",
       "      <td>527185.0</td>\n",
       "      <td>69453.742158</td>\n",
       "      <td>15437.450474</td>\n",
       "      <td>39533.470000</td>\n",
       "      <td>60780.210000</td>\n",
       "      <td>65760.090000</td>\n",
       "      <td>70723.790000</td>\n",
       "      <td>108954.900000</td>\n",
       "    </tr>\n",
       "    <tr>\n",
       "      <th>close</th>\n",
       "      <td>527185.0</td>\n",
       "      <td>69454.050246</td>\n",
       "      <td>15437.463194</td>\n",
       "      <td>39533.480000</td>\n",
       "      <td>60780.690000</td>\n",
       "      <td>65760.220000</td>\n",
       "      <td>70723.000000</td>\n",
       "      <td>108951.030000</td>\n",
       "    </tr>\n",
       "    <tr>\n",
       "      <th>volume</th>\n",
       "      <td>527185.0</td>\n",
       "      <td>8.978855</td>\n",
       "      <td>16.369091</td>\n",
       "      <td>0.000166</td>\n",
       "      <td>1.669723</td>\n",
       "      <td>3.956193</td>\n",
       "      <td>9.717255</td>\n",
       "      <td>1047.117525</td>\n",
       "    </tr>\n",
       "  </tbody>\n",
       "</table>\n",
       "</div>"
      ],
      "text/plain": [
       "           count          mean           std           min           25%  \\\n",
       "open    527185.0  69423.311389  15429.285709  39503.000000  60757.240000   \n",
       "high    527185.0  69484.281813  15445.681849  39544.660000  60803.890000   \n",
       "low     527185.0  69453.742158  15437.450474  39533.470000  60780.210000   \n",
       "close   527185.0  69454.050246  15437.463194  39533.480000  60780.690000   \n",
       "volume  527185.0      8.978855     16.369091      0.000166      1.669723   \n",
       "\n",
       "                 50%           75%            max  \n",
       "open    65736.790000  70694.260000  108768.040000  \n",
       "high    65783.580000  70750.800000  109358.010000  \n",
       "low     65760.090000  70723.790000  108954.900000  \n",
       "close   65760.220000  70723.000000  108951.030000  \n",
       "volume      3.956193      9.717255    1047.117525  "
      ]
     },
     "execution_count": 4,
     "metadata": {},
     "output_type": "execute_result"
    }
   ],
   "source": [
    "btc_price_data_1_year.describe().T"
   ]
  },
  {
   "cell_type": "code",
   "execution_count": 5,
   "id": "a562d8f1-1de7-45f4-8e1d-3dcb8b156aa6",
   "metadata": {},
   "outputs": [
    {
     "data": {
      "text/plain": [
       "timestamp     object\n",
       "open         float64\n",
       "high         float64\n",
       "low          float64\n",
       "close        float64\n",
       "volume       float64\n",
       "dtype: object"
      ]
     },
     "execution_count": 5,
     "metadata": {},
     "output_type": "execute_result"
    }
   ],
   "source": [
    "btc_price_data_1_year.dtypes"
   ]
  },
  {
   "cell_type": "code",
   "execution_count": 6,
   "id": "fb968456-3e1e-4f57-83c7-6c9f4c6ccfc9",
   "metadata": {},
   "outputs": [
    {
     "data": {
      "text/plain": [
       "timestamp    0\n",
       "open         0\n",
       "high         0\n",
       "low          0\n",
       "close        0\n",
       "volume       0\n",
       "dtype: int64"
      ]
     },
     "execution_count": 6,
     "metadata": {},
     "output_type": "execute_result"
    }
   ],
   "source": [
    "btc_price_data_1_year.isnull().sum()"
   ]
  },
  {
   "cell_type": "markdown",
   "id": "e10d1cd5-43b8-407e-b0f9-be87859eb607",
   "metadata": {},
   "source": [
    "### 4.2. Data Tidying and Cleaning"
   ]
  },
  {
   "cell_type": "markdown",
   "id": "031b2ad3-0978-4392-a631-0571bb0ac6f1",
   "metadata": {},
   "source": [
    "Convert the `timestamp` column from *object* type to *datetime64* type."
   ]
  },
  {
   "cell_type": "code",
   "execution_count": 7,
   "id": "560099c9-5f09-4c58-8f16-501d7874cd39",
   "metadata": {},
   "outputs": [],
   "source": [
    "btc_price_data_1_year.timestamp = pd.to_datetime(btc_price_data_1_year.timestamp)"
   ]
  },
  {
   "cell_type": "code",
   "execution_count": 8,
   "id": "84215eac-ba51-4773-8674-b9f536cb9837",
   "metadata": {},
   "outputs": [
    {
     "data": {
      "text/plain": [
       "timestamp    datetime64[ns]\n",
       "open                float64\n",
       "high                float64\n",
       "low                 float64\n",
       "close               float64\n",
       "volume              float64\n",
       "dtype: object"
      ]
     },
     "execution_count": 8,
     "metadata": {},
     "output_type": "execute_result"
    }
   ],
   "source": [
    "btc_price_data_1_year.dtypes"
   ]
  },
  {
   "cell_type": "markdown",
   "id": "64900290-aa79-4b90-b20e-7f9c980bb456",
   "metadata": {},
   "source": [
    "Set `timestamp` as index."
   ]
  },
  {
   "cell_type": "code",
   "execution_count": 9,
   "id": "895f1fac-1e0c-48e7-bf04-709f685501e5",
   "metadata": {},
   "outputs": [],
   "source": [
    "btc_price_data_1_year.set_index('timestamp', inplace=True, drop = True)"
   ]
  },
  {
   "cell_type": "code",
   "execution_count": 10,
   "id": "e3367401-1059-4a5d-a0a4-d05c0cef9cc6",
   "metadata": {},
   "outputs": [],
   "source": [
    "# Ensure the data is sorted by time\n",
    "btc_price_data_1_year = btc_price_data_1_year.sort_index()"
   ]
  },
  {
   "cell_type": "code",
   "execution_count": 11,
   "id": "c331f3b4-4719-4dd4-8238-b9d30d1fb800",
   "metadata": {},
   "outputs": [
    {
     "data": {
      "text/html": [
       "<div>\n",
       "<style scoped>\n",
       "    .dataframe tbody tr th:only-of-type {\n",
       "        vertical-align: middle;\n",
       "    }\n",
       "\n",
       "    .dataframe tbody tr th {\n",
       "        vertical-align: top;\n",
       "    }\n",
       "\n",
       "    .dataframe thead th {\n",
       "        text-align: right;\n",
       "    }\n",
       "</style>\n",
       "<table border=\"1\" class=\"dataframe\">\n",
       "  <thead>\n",
       "    <tr style=\"text-align: right;\">\n",
       "      <th></th>\n",
       "      <th>open</th>\n",
       "      <th>high</th>\n",
       "      <th>low</th>\n",
       "      <th>close</th>\n",
       "      <th>volume</th>\n",
       "    </tr>\n",
       "    <tr>\n",
       "      <th>timestamp</th>\n",
       "      <th></th>\n",
       "      <th></th>\n",
       "      <th></th>\n",
       "      <th></th>\n",
       "      <th></th>\n",
       "    </tr>\n",
       "  </thead>\n",
       "  <tbody>\n",
       "    <tr>\n",
       "      <th>2024-01-25 00:00:00</th>\n",
       "      <td>40051.20</td>\n",
       "      <td>40079.88</td>\n",
       "      <td>40079.87</td>\n",
       "      <td>40051.80</td>\n",
       "      <td>6.601578</td>\n",
       "    </tr>\n",
       "    <tr>\n",
       "      <th>2024-01-25 00:01:00</th>\n",
       "      <td>40041.00</td>\n",
       "      <td>40070.32</td>\n",
       "      <td>40051.60</td>\n",
       "      <td>40061.92</td>\n",
       "      <td>7.541910</td>\n",
       "    </tr>\n",
       "    <tr>\n",
       "      <th>2024-01-25 00:02:00</th>\n",
       "      <td>40038.13</td>\n",
       "      <td>40068.79</td>\n",
       "      <td>40061.59</td>\n",
       "      <td>40042.82</td>\n",
       "      <td>7.078218</td>\n",
       "    </tr>\n",
       "    <tr>\n",
       "      <th>2024-01-25 00:03:00</th>\n",
       "      <td>40043.36</td>\n",
       "      <td>40056.15</td>\n",
       "      <td>40043.36</td>\n",
       "      <td>40055.80</td>\n",
       "      <td>1.614071</td>\n",
       "    </tr>\n",
       "    <tr>\n",
       "      <th>2024-01-25 00:04:00</th>\n",
       "      <td>40052.64</td>\n",
       "      <td>40063.21</td>\n",
       "      <td>40056.15</td>\n",
       "      <td>40063.20</td>\n",
       "      <td>1.924187</td>\n",
       "    </tr>\n",
       "    <tr>\n",
       "      <th>...</th>\n",
       "      <td>...</td>\n",
       "      <td>...</td>\n",
       "      <td>...</td>\n",
       "      <td>...</td>\n",
       "      <td>...</td>\n",
       "    </tr>\n",
       "    <tr>\n",
       "      <th>2025-01-23 23:56:00</th>\n",
       "      <td>104047.01</td>\n",
       "      <td>104112.45</td>\n",
       "      <td>104064.68</td>\n",
       "      <td>104079.63</td>\n",
       "      <td>6.922352</td>\n",
       "    </tr>\n",
       "    <tr>\n",
       "      <th>2025-01-23 23:57:00</th>\n",
       "      <td>104052.01</td>\n",
       "      <td>104088.97</td>\n",
       "      <td>104079.63</td>\n",
       "      <td>104079.60</td>\n",
       "      <td>1.628341</td>\n",
       "    </tr>\n",
       "    <tr>\n",
       "      <th>2025-01-23 23:58:00</th>\n",
       "      <td>103928.31</td>\n",
       "      <td>104088.89</td>\n",
       "      <td>104079.60</td>\n",
       "      <td>103964.62</td>\n",
       "      <td>10.861781</td>\n",
       "    </tr>\n",
       "    <tr>\n",
       "      <th>2025-01-23 23:59:00</th>\n",
       "      <td>103900.00</td>\n",
       "      <td>103973.87</td>\n",
       "      <td>103964.62</td>\n",
       "      <td>103926.36</td>\n",
       "      <td>6.802193</td>\n",
       "    </tr>\n",
       "    <tr>\n",
       "      <th>2025-01-24 00:00:00</th>\n",
       "      <td>103857.80</td>\n",
       "      <td>103947.90</td>\n",
       "      <td>103926.36</td>\n",
       "      <td>103889.08</td>\n",
       "      <td>17.378134</td>\n",
       "    </tr>\n",
       "  </tbody>\n",
       "</table>\n",
       "<p>527185 rows × 5 columns</p>\n",
       "</div>"
      ],
      "text/plain": [
       "                          open       high        low      close     volume\n",
       "timestamp                                                                 \n",
       "2024-01-25 00:00:00   40051.20   40079.88   40079.87   40051.80   6.601578\n",
       "2024-01-25 00:01:00   40041.00   40070.32   40051.60   40061.92   7.541910\n",
       "2024-01-25 00:02:00   40038.13   40068.79   40061.59   40042.82   7.078218\n",
       "2024-01-25 00:03:00   40043.36   40056.15   40043.36   40055.80   1.614071\n",
       "2024-01-25 00:04:00   40052.64   40063.21   40056.15   40063.20   1.924187\n",
       "...                        ...        ...        ...        ...        ...\n",
       "2025-01-23 23:56:00  104047.01  104112.45  104064.68  104079.63   6.922352\n",
       "2025-01-23 23:57:00  104052.01  104088.97  104079.63  104079.60   1.628341\n",
       "2025-01-23 23:58:00  103928.31  104088.89  104079.60  103964.62  10.861781\n",
       "2025-01-23 23:59:00  103900.00  103973.87  103964.62  103926.36   6.802193\n",
       "2025-01-24 00:00:00  103857.80  103947.90  103926.36  103889.08  17.378134\n",
       "\n",
       "[527185 rows x 5 columns]"
      ]
     },
     "execution_count": 11,
     "metadata": {},
     "output_type": "execute_result"
    }
   ],
   "source": [
    "btc_price_data_1_year"
   ]
  },
  {
   "cell_type": "markdown",
   "id": "15fb5ef4-e59e-412c-ac33-67472e5f0d96",
   "metadata": {},
   "source": [
    "#### Extract only the daily data"
   ]
  },
  {
   "cell_type": "markdown",
   "id": "210e4080-0b86-4dfc-943c-e81189fb4eab",
   "metadata": {},
   "source": [
    "To filter your hourly dataset and extract only the daily data (e.g., one row per day), you can aggregate the hourly data based on a specific column (like close) using groupby operations. Here's how you can do it:\n",
    "\n",
    "Option 1: Aggregate by Day\n",
    "If you want to summarize the data to daily values (e.g., daily open, high, low, close, volume):"
   ]
  },
  {
   "cell_type": "code",
   "execution_count": 12,
   "id": "b475a263-8dea-4cbf-8764-90aa3227e43b",
   "metadata": {},
   "outputs": [],
   "source": [
    "# # Ensure the datetime column is a datetime object\n",
    "# df['timestamp'] = pd.to_datetime(df['timestamp'])\n",
    "\n",
    "# # Set the datetime column as the index\n",
    "# df.set_index('timestamp', inplace=True)\n",
    "\n",
    "# Resample the data to daily frequency\n",
    "# daily_df = btc_price_data_1_year.resample('D').agg({\n",
    "#     'open': 'first',  # First hour's open price\n",
    "#     'high': 'max',    # Daily high\n",
    "#     'low': 'min',     # Daily low\n",
    "#     'close': 'last',  # Last hour's close price\n",
    "#     'volume': 'sum'   # Sum of volumes\n",
    "# }).dropna()\n",
    "\n",
    "# print(daily_df.head())"
   ]
  },
  {
   "cell_type": "markdown",
   "id": "13f7f35a-e598-4fe1-bed9-7e5c60891cd6",
   "metadata": {},
   "source": [
    "### 4.3. Plot Bitcoin Price"
   ]
  },
  {
   "cell_type": "code",
   "execution_count": 13,
   "id": "3e045e33-749c-4a36-a186-149ee1d5703b",
   "metadata": {},
   "outputs": [],
   "source": [
    "def plot_market_data(dates, prices, labels, title):\n",
    "    plt.figure(figsize=(14, 7))\n",
    "    \n",
    "    ax = plt.gca()\n",
    "    ax.set_facecolor('gainsboro')\n",
    "    ax.xaxis.grid(True, color='white')\n",
    "    ax.yaxis.grid(True, color='white')\n",
    "\n",
    "    x_lim_start = dates[0]\n",
    "    x_lim_end = dates[len(dates) - 1]\n",
    "    # plt.xlim(x_lim_start, x_lim_end)\n",
    "    ax.set_xlim(xmin=x_lim_start,xmax=x_lim_end)\n",
    "    \n",
    "    plt.plot(dates, prices)\n",
    "    \n",
    "    plt.xlabel(labels[0])\n",
    "    plt.ylabel(labels[1])\n",
    "\n",
    "    plt.title(title)\n",
    "    plt.show()"
   ]
  },
  {
   "cell_type": "code",
   "execution_count": 14,
   "id": "204f6bc8-7b79-4fb7-9fe7-32ec04c570ed",
   "metadata": {},
   "outputs": [
    {
     "data": {
      "image/png": "[encoded data removed]",
      "text/plain": [
       "<Figure size 1400x700 with 1 Axes>"
      ]
     },
     "metadata": {},
     "output_type": "display_data"
    }
   ],
   "source": [
    "dates = btc_price_data_1_year.index\n",
    "prices_close_btc = btc_price_data_1_year.close\n",
    "title_btc = 'Bitcoin Price (Nov 2023 - Nov 2024)'\n",
    "\n",
    "labels = ['Date', 'Price [USD]']\n",
    "\n",
    "plot_market_data(dates, prices_close_btc, labels, title_btc)"
   ]
  },
  {
   "cell_type": "markdown",
   "id": "ebbb1efd-76b0-42dd-911f-2b2f913edc7e",
   "metadata": {},
   "source": [
    "## 5. Feature Engineering"
   ]
  },
  {
   "cell_type": "markdown",
   "id": "86d3ee56-f961-44bc-b4fd-d82a7528633a",
   "metadata": {},
   "source": [
    "### 5.1. Seasonality and Trends"
   ]
  },
  {
   "cell_type": "markdown",
   "id": "297ace1f-29f2-42e8-8468-2795710d8066",
   "metadata": {},
   "source": [
    "#### 5.1.1. Add Time-Based Features"
   ]
  },
  {
   "cell_type": "markdown",
   "id": "31b40b78-0a46-49b1-8c0f-d3d14769aa3b",
   "metadata": {},
   "source": [
    "We extract various components of the datetime, such as the **month**, **day**, **hour**, and **day of the week**. This can help the model capture seasonality and trends."
   ]
  },
  {
   "cell_type": "code",
   "execution_count": 15,
   "id": "f2384a0e-d80d-4ba5-b6c4-b62f9f3131f3",
   "metadata": {},
   "outputs": [],
   "source": [
    "btc_price_data_1_year['month'] = btc_price_data_1_year.index.month.astype('float64')\n",
    "btc_price_data_1_year['day'] = btc_price_data_1_year.index.day.astype('float64')\n",
    "btc_price_data_1_year['weekday'] = btc_price_data_1_year.index.weekday.astype('float64')  # Monday=0, Sunday=6\n",
    "btc_price_data_1_year['hour'] = btc_price_data_1_year.index.hour.astype('float64')"
   ]
  },
  {
   "cell_type": "markdown",
   "id": "7500b225-4d10-4754-a2c3-82aa87a55051",
   "metadata": {},
   "source": [
    "For time-based features like **hour of day** and **day of the week**, we can use **cyclical encoding**. This ensures that values like 23:00 and 00:00 are considered \"close\" to each other, rather than being far apart numerically."
   ]
  },
  {
   "cell_type": "code",
   "execution_count": 16,
   "id": "67c00b0f-bda0-4034-aa0a-dbe67704655b",
   "metadata": {},
   "outputs": [],
   "source": [
    "# Extract hour and weekday\n",
    "btc_price_data_1_year['hour_sin'] = np.sin(2 * np.pi * btc_price_data_1_year.index.hour / 24)  # Hour sin encoding\n",
    "btc_price_data_1_year['hour_cos'] = np.cos(2 * np.pi * btc_price_data_1_year.index.hour / 24)  # Hour cos encoding\n",
    "btc_price_data_1_year['weekday_sin'] = np.sin(2 * np.pi * btc_price_data_1_year.index.weekday / 7)  # Weekday sin encoding\n",
    "btc_price_data_1_year['weekday_cos'] = np.cos(2 * np.pi * btc_price_data_1_year.index.weekday / 7)  # Weekday cos encoding"
   ]
  },
  {
   "cell_type": "markdown",
   "id": "0d8df95d-fc96-4c2d-ab54-08af3b43424e",
   "metadata": {},
   "source": [
    "#### 5.1.2. STL (Seasonal-Trend decomposition using LOESS)"
   ]
  },
  {
   "cell_type": "markdown",
   "id": "f482ee30-3ced-43f7-8d17-76b32ae203bf",
   "metadata": {},
   "source": [
    "**STL** stands for **Seasonal-Trend decomposition using LOESS**. It's a robust statistical method used to decompose a time series into three components:\n",
    "\n",
    "1. **Seasonal Component**: Represents the repeating pattern in the data over a fixed period (e.g., daily, weekly, monthly).\n",
    "2. **Trend Component**: Captures the long-term progression in the data, showing an overall increase, decrease, or stability over time.\n",
    "3. **Remainder/Residual Component**: Represents the part of the data that cannot be attributed to either seasonality or trend, often considered as noise.\n",
    "\n",
    "**Key Features of STL**\n",
    "- **Flexible**: Allows decomposition of time series with any type of seasonal pattern, not limited to a fixed frequency.\n",
    "- **Robust**: Resistant to outliers in the data.\n",
    "- **Local Regression (LOESS)**: Uses locally weighted regression to smooth the data during decomposition.\n",
    "\n",
    "**Applications**\n",
    "- **Forecasting**: By isolating the trend and seasonal components, forecasting models can be more accurate.\n",
    "- **Anomaly Detection**: The remainder component helps identify unusual spikes or dips.\n",
    "- **Visualization**: Simplifies understanding of the data by breaking it into interpretable parts."
   ]
  },
  {
   "cell_type": "code",
   "execution_count": 17,
   "id": "c5702b2d-25e0-4049-b3ad-52ebb2c1a2de",
   "metadata": {},
   "outputs": [],
   "source": [
    "# Apply STL decomposition\n",
    "stl = STL(btc_price_data_1_year['close'], robust=True, period = 24)  # period=24 for daily seasonality in hourly data\n",
    "result = stl.fit()"
   ]
  },
  {
   "cell_type": "code",
   "execution_count": 18,
   "id": "afc76791-d5ab-450d-9342-4a93ab782d5c",
   "metadata": {},
   "outputs": [
    {
     "data": {
      "image/png": "[encoded data removed]",
      "text/plain": [
       "<Figure size 640x480 with 4 Axes>"
      ]
     },
     "metadata": {},
     "output_type": "display_data"
    }
   ],
   "source": [
    "# Extract components\n",
    "btc_price_data_1_year['trend'] = result.trend\n",
    "btc_price_data_1_year['seasonal'] = result.seasonal\n",
    "btc_price_data_1_year['residual'] = result.resid\n",
    "\n",
    "# Plot the decomposition\n",
    "result.plot()\n",
    "plt.show()"
   ]
  },
  {
   "cell_type": "code",
   "execution_count": 19,
   "id": "6c1752e8-7b14-4dcb-9c58-bd817217ba28",
   "metadata": {},
   "outputs": [],
   "source": [
    "# 1.Lagged Features - Lagged values of the trend, seasonal, and residual\n",
    "for lag in range(1, 4):  # Use 1, 2, 3 hours as lags\n",
    "    btc_price_data_1_year[f'trend_lag_{lag}'] = btc_price_data_1_year['trend'].shift(lag)\n",
    "    btc_price_data_1_year[f'seasonal_lag_{lag}'] = btc_price_data_1_year['seasonal'].shift(lag)\n",
    "    btc_price_data_1_year[f'residual_lag_{lag}'] = btc_price_data_1_year['residual'].shift(lag)\n",
    "\n",
    "# 2.Rolling Statistics - Rolling mean and standard deviation of each component.\n",
    "btc_price_data_1_year['trend_rolling_mean'] = btc_price_data_1_year['trend'].rolling(window=24).mean()\n",
    "btc_price_data_1_year['residual_rolling_std'] = btc_price_data_1_year['residual'].rolling(window=24).std()\n",
    "\n",
    "# 3.Differences - Calculate the difference between close price and its trend or seasonality\n",
    "btc_price_data_1_year['close_trend_diff'] = btc_price_data_1_year['close'] - btc_price_data_1_year['trend']\n",
    "btc_price_data_1_year['close_seasonal_diff'] = btc_price_data_1_year['close'] - btc_price_data_1_year['seasonal']"
   ]
  },
  {
   "cell_type": "markdown",
   "id": "b6b744b3-f174-47ca-9ddc-77fbcf275577",
   "metadata": {},
   "source": [
    "#### 5.1.3. Rolling Statistics"
   ]
  },
  {
   "cell_type": "markdown",
   "id": "c7124855-9c9b-489d-bda5-41676c15dc38",
   "metadata": {},
   "source": [
    "Rolling mean and standard deviation help capture local trends and volatility."
   ]
  },
  {
   "cell_type": "code",
   "execution_count": 20,
   "id": "9922cc2f-9ad4-4b00-88ef-a0c73b7a17e3",
   "metadata": {},
   "outputs": [],
   "source": [
    "# Rolling windows in hours\n",
    "windows = [6, 12, 24]"
   ]
  },
  {
   "cell_type": "code",
   "execution_count": 21,
   "id": "5999789c-33c0-495d-82f1-a027641b6ab2",
   "metadata": {},
   "outputs": [],
   "source": [
    "# Rolling statistics for 'close' price\n",
    "for window in windows:\n",
    "    btc_price_data_1_year[f'close_roll_mean_{window}'] = btc_price_data_1_year['close'].rolling(window=window).mean()\n",
    "    btc_price_data_1_year[f'close_roll_std_{window}'] = btc_price_data_1_year['close'].rolling(window=window).std()"
   ]
  },
  {
   "cell_type": "markdown",
   "id": "91bc8f69-b2ff-4756-97e2-bcf2662ec252",
   "metadata": {},
   "source": [
    "Volume data can indicate market activity or interest"
   ]
  },
  {
   "cell_type": "code",
   "execution_count": 22,
   "id": "95bb2cbb-450a-45a3-8b04-45c1520e8a91",
   "metadata": {},
   "outputs": [],
   "source": [
    "# Volume-based rolling statistics\n",
    "for window in windows:\n",
    "    btc_price_data_1_year[f'volume_roll_mean_{window}'] = btc_price_data_1_year['volume'].rolling(window=window).mean()\n",
    "    btc_price_data_1_year[f'volume_roll_std_{window}'] = btc_price_data_1_year['volume'].rolling(window=window).std()"
   ]
  },
  {
   "cell_type": "markdown",
   "id": "8f0b306a-49b0-4992-8240-6a755e8d153c",
   "metadata": {},
   "source": [
    "### 5.2. Autocorrelation"
   ]
  },
  {
   "cell_type": "markdown",
   "id": "5159aa7e-01c1-4ac0-aa10-fda252695e71",
   "metadata": {},
   "source": [
    "Autocorrelation in time series refers to the correlation of a time series with a lagged version of itself. It measures how past values of the series influence current values. Understanding autocorrelation can help identify patterns, trends, and periodicity in time-series data.\n",
    "\n",
    "##### Why Autocorrelation Matters\n",
    "- **Pattern Detection**: Helps identify repeating patterns or seasonality.\n",
    "- **Modeling Assumptions**: Many models (like ARIMA) assume specific autocorrelation structures.\n",
    "- **Feature Engineering**: Insights from autocorrelation can guide the creation of lag-based features for machine learning models.\n",
    "\n",
    "##### Types of Autocorrelation\n",
    "1. **Positive Autocorrelation**: High values follow high values, and low values follow low values.\n",
    "2. **Negative Autocorrelation**: High values follow low values, and vice versa.\n",
    "3. **No Autocorrelation**: Values are independent of each other.\n",
    "\n",
    "##### How to Measure Autocorrelation\n",
    "The **autocorrelation function (ACF)** and the **partial autocorrelation function (PACF)** are two common tools:\n",
    "\n",
    "###### 1. **Autocorrelation Function (ACF)**\n",
    "- Measures the correlation between the time series and its lagged values.\n",
    "- Useful for identifying the overall pattern of dependence at different lags.\n",
    "\n",
    "###### 2. **Partial Autocorrelation Function (PACF)**\n",
    "- Measures the correlation between the time series and its lagged values after removing the influence of shorter lags.\n",
    "- Useful for determining the direct relationship between a value and a specific lag.\n"
   ]
  },
  {
   "cell_type": "markdown",
   "id": "9de77127-eb8c-4ed6-8eee-d7d122abb954",
   "metadata": {},
   "source": [
    "#### 5.2.1. Autocorrelation Function (ACF)"
   ]
  },
  {
   "cell_type": "markdown",
   "id": "94413255-0187-49cd-a09a-dc5367eb7b52",
   "metadata": {},
   "source": [
    "Set the count of the **lags** that will be considered during the Autocorrelation anylysis:"
   ]
  },
  {
   "cell_type": "code",
   "execution_count": 23,
   "id": "94d0fb79-a3ca-4aab-b269-eca183ba9460",
   "metadata": {},
   "outputs": [],
   "source": [
    "# We use the last 3 days (3 * 24 hours) for the autocorrelation analysis\n",
    "lags = 72"
   ]
  },
  {
   "cell_type": "code",
   "execution_count": 24,
   "id": "5353f553-298c-4340-b2b0-9068caa72e13",
   "metadata": {},
   "outputs": [
    {
     "data": {
      "image/png": "[encoded data removed]",
      "text/plain": [
       "<Figure size 640x480 with 1 Axes>"
      ]
     },
     "metadata": {},
     "output_type": "display_data"
    }
   ],
   "source": [
    "plot_acf(btc_price_data_1_year.close, lags = lags)\n",
    "plt.ylim(-1.2, 1.2)\n",
    "\n",
    "plt.xlabel('Lag')\n",
    "plt.ylabel('Autocorrelation')\n",
    "plt.title('ACF for \\'close\\' price')\n",
    "plt.show()"
   ]
  },
  {
   "cell_type": "code",
   "execution_count": 25,
   "id": "995c45a1-406a-46b6-acf4-84836d5cfb9e",
   "metadata": {},
   "outputs": [
    {
     "data": {
      "image/png": "[encoded data removed]",
      "text/plain": [
       "<Figure size 640x480 with 2 Axes>"
      ]
     },
     "metadata": {},
     "output_type": "display_data"
    }
   ],
   "source": [
    "autocorr = [btc_price_data_1_year['close'].autocorr(lag) for lag in range(1, lags+1)]\n",
    "sns.heatmap(pd.DataFrame(autocorr, columns=[\"Autocorrelation\"]).T, annot=False, cmap=\"coolwarm\")\n",
    "plt.xlabel('Lag')\n",
    "plt.title('Heatmap of Autocorrelation for \\'close\\' price')\n",
    "plt.show()"
   ]
  },
  {
   "cell_type": "markdown",
   "id": "2a5aca48-c8e6-410b-87e6-342bbe4e543c",
   "metadata": {},
   "source": [
    "Because the **autocorrelation** is very large we use **partial autocorrelation**."
   ]
  },
  {
   "cell_type": "markdown",
   "id": "5ca70ef6-7de1-46eb-9e9b-0d3cf3cfda3a",
   "metadata": {},
   "source": [
    "#### 5.2.2. Partial Autocorrelation Function (PACF)"
   ]
  },
  {
   "cell_type": "markdown",
   "id": "13140536-2a1a-4794-b278-6021d9b9a3f5",
   "metadata": {},
   "source": [
    "The **Partial Autocorrelation Function (PACF)** measures the partial correlation of a stationary time series with its own lagged values, accounting for the influence of intermediate lags. Unlike the **Autocorrelation Function (ACF)**, which considers all previous lags, the PACF isolates the direct relationship between a variable and its lags."
   ]
  },
  {
   "cell_type": "code",
   "execution_count": 26,
   "id": "a86672e8-8ce3-4082-bcfa-b89a79a912af",
   "metadata": {},
   "outputs": [
    {
     "data": {
      "image/png": "[encoded data removed]",
      "text/plain": [
       "<Figure size 640x480 with 1 Axes>"
      ]
     },
     "metadata": {},
     "output_type": "display_data"
    },
    {
     "name": "stdout",
     "output_type": "stream",
     "text": [
      "Significant Lags: [ 0  1  2  3  9 13 16 30 56 67 70]\n"
     ]
    }
   ],
   "source": [
    "# Calculate PACF\n",
    "pacf_values = pacf(btc_price_data_1_year['close'], nlags=lags)\n",
    "\n",
    "# Calculate the confidence interval\n",
    "conf_int = 1.96 / np.sqrt(len(btc_price_data_1_year['close']))  # The 95% confidence interval\n",
    "\n",
    "# Get significant lags (values outside the confidence interval)\n",
    "significant_lags = np.where(np.abs(pacf_values) > conf_int)[0]\n",
    "\n",
    "# Plot PACF with significant lags marked\n",
    "plt.stem(pacf_values)\n",
    "\n",
    "plt.axhline(y=conf_int, color='r', linestyle='--')\n",
    "plt.axhline(y=-conf_int, color='r', linestyle='--')\n",
    "plt.ylim(-0.010, 0.010)\n",
    "\n",
    "plt.grid()\n",
    "\n",
    "plt.xlabel('Lag')\n",
    "plt.ylabel('Partial autocorrelation coefficient(PACF)')\n",
    "plt.title(\"PACF with Significant Lags for \\'close\\' Price'\")\n",
    "plt.show()\n",
    "\n",
    "# Print the significant lags\n",
    "print(\"Significant Lags:\", significant_lags)"
   ]
  },
  {
   "cell_type": "markdown",
   "id": "5fc8ebc6-b682-4934-83b3-355ae6f8dc74",
   "metadata": {},
   "source": [
    "**Significant lags**: Spikes that are outside the area between the two red lines are **statistically significant** at the 95% confidence level.\n",
    "\n",
    "Correlation coefficients that are between the two red lines are **insignificant** for the model. In this area the **p-value** is too small. Correlations in this area may well be random."
   ]
  },
  {
   "cell_type": "code",
   "execution_count": 27,
   "id": "c61ed6ef-8881-4366-a101-aa3a51a492ba",
   "metadata": {},
   "outputs": [
    {
     "name": "stdout",
     "output_type": "stream",
     "text": [
      "Significant Lags: [ 1  2  3  9 13 16 30 56 67 70]\n"
     ]
    }
   ],
   "source": [
    "# Remove the autocorrelation with itself (the '0'-th lag)\n",
    "significant_lags = significant_lags[1:] if significant_lags[0] == 0 else significant_lags\n",
    "print(\"Significant Lags:\", significant_lags)"
   ]
  },
  {
   "cell_type": "code",
   "execution_count": 28,
   "id": "a17d5a5f-39c1-41d8-94e8-4696e6abcad9",
   "metadata": {},
   "outputs": [],
   "source": [
    "# Create lag features (past values as features)\n",
    "def create_lag_features(df, lags = []):\n",
    "    \"\"\"\n",
    "    Create lag features (past values as features)\n",
    "    \"\"\"\n",
    "    # Create a copy of the DataFrame\n",
    "    df_copy = df.copy(deep=True)\n",
    "    \n",
    "    for lag in lags:\n",
    "        df_copy[f'lag_{lag}'] = df_copy['close'].shift(lag)\n",
    "        \n",
    "    #df.dropna(inplace=True)\n",
    "    return df_copy"
   ]
  },
  {
   "cell_type": "code",
   "execution_count": 29,
   "id": "20f9a6cb-dd22-4d57-99c0-958c2de4876c",
   "metadata": {},
   "outputs": [],
   "source": [
    "btc_price_data_1_year = create_lag_features(btc_price_data_1_year, significant_lags)"
   ]
  },
  {
   "cell_type": "markdown",
   "id": "771f715c-997d-4043-ad58-1c1ee06d36b7",
   "metadata": {},
   "source": [
    "### 5.3. Calculate Technical Indicators"
   ]
  },
  {
   "cell_type": "markdown",
   "id": "c329b24a-cda2-4085-94b1-29e4550917e3",
   "metadata": {},
   "source": [
    "#### 5.3.1. Relative Strength Index (RSI)"
   ]
  },
  {
   "cell_type": "markdown",
   "id": "b33ff904-fcb6-43c1-8ac7-c1e41170b21a",
   "metadata": {},
   "source": [
    "**RSI** is a momentum oscillator that measures the speed and change of recent price movements. It is used to identify overbought or oversold conditions in a stock's price, generally over a 14-day period.\n",
    "\n",
    "- **Formula**: The RSI is calculated as:\n",
    "  \n",
    "  $$\\text{RSI} = 100 - \\frac{100}{1 + RS}$$\n",
    "  \n",
    "  where $RS$ (Relative Strength) is the ratio of **average gains** to **average losses** over the lookback period (e.g., 14 days).\n",
    "\n",
    "- **Interpretation**:\n",
    "  - **Overbought Condition**: When RSI is above 70, the asset is often considered overbought, suggesting a potential for a pullback.\n",
    "  - **Oversold Condition**: When RSI is below 30, the asset is considered oversold, suggesting a potential for a rebound.\n",
    "\n",
    "- **Calculation**:\n",
    "  - Calculate the **change** in price from one day to the next.\n",
    "  - Separate the changes into **gains** (positive changes) and **losses** (negative changes).\n",
    "  - Compute the **average gain** and **average loss** over the 14-day period.\n",
    "  - Calculate \\( RS \\) as the ratio of average gain to average loss.\n",
    "  - Use the RSI formula to convert \\( RS \\) into an index between 0 and 100."
   ]
  },
  {
   "cell_type": "code",
   "execution_count": 30,
   "id": "832afd51-8e15-415d-9bb2-89365a574865",
   "metadata": {},
   "outputs": [],
   "source": [
    "def calculate_rsi(data, window=14):\n",
    "    \"\"\"\n",
    "    RSI is a momentum oscillator that measures the speed and change of price movements, typically over a 14-period interval.\n",
    "    Assuming 'data' is a DataFrame with a 'close' price column\n",
    "\n",
    "    Parameters\n",
    "    ----------\n",
    "    data:   a DataFrame with the time series data. A column with the name 'close' must be present in the DataFrame! \n",
    "            This column is used to calculate the 'RSI' value.\n",
    "    window: the time period that is taken into account when calculating the 'RSI'\n",
    "    \"\"\"\n",
    "    delta = data['close'].diff(1)\n",
    "    gain = delta.where(delta > 0, 0)\n",
    "    loss = -delta.where(delta < 0, 0)\n",
    "    \n",
    "    avg_gain = gain.rolling(window=window, min_periods=1).mean()\n",
    "    avg_loss = loss.rolling(window=window, min_periods=1).mean()\n",
    "\n",
    "    rs = avg_gain / avg_loss\n",
    "    rsi = 100 - (100 / (1 + rs))\n",
    "    data['RSI'] = rsi\n",
    "    \n",
    "    return data"
   ]
  },
  {
   "cell_type": "code",
   "execution_count": 31,
   "id": "af945f19-00c9-4ec1-a121-b13ca79995af",
   "metadata": {},
   "outputs": [],
   "source": [
    "# Calculate RSI\n",
    "btc_price_data_1_year = calculate_rsi(btc_price_data_1_year)"
   ]
  },
  {
   "cell_type": "markdown",
   "id": "11b290ae-5a25-4ba0-bd75-00cddb017a26",
   "metadata": {},
   "source": [
    "#### 5.3.2. Moving Average Convergence Divergence (MACD)"
   ]
  },
  {
   "cell_type": "markdown",
   "id": "e123f4d5-4479-4e86-8fce-1cf800893bcd",
   "metadata": {},
   "source": [
    "**MACD** is a trend-following momentum indicator that shows the relationship between two moving averages of an asset’s price.\n",
    "\n",
    "- **Formula**:\n",
    "  - **MACD Line**: $\\text{MACD} = \\text{EMA}_{\\text{short}} - \\text{EMA}_{\\text{long}}$\n",
    "  - **Signal Line**: A **9-day EMA** of the MACD line.\n",
    "  - **MACD Histogram**: The difference between the MACD line and the Signal Line.\n",
    "\n",
    "  Here, EMA stands for Exponential Moving Average, which gives more weight to recent prices.\n",
    "\n",
    "- **Common Parameters**:\n",
    "  - **Short EMA**: Often set to a 12-day EMA.\n",
    "  - **Long EMA**: Often set to a 26-day EMA.\n",
    "  - **Signal Line EMA**: Often set to a 9-day EMA of the MACD line.\n",
    "\n",
    "- **Interpretation**:\n",
    "  - **MACD Line Crosses Above Signal Line**: This is a bullish signal, indicating a potential buy.\n",
    "  - **MACD Line Crosses Below Signal Line**: This is a bearish signal, indicating a potential sell.\n",
    "  - **MACD Divergence**: If the price and MACD are moving in opposite directions, it may signal a reversal.\n",
    "  - **Histogram**: The MACD histogram shows the distance between the MACD line and the Signal Line. When the histogram grows larger, it indicates a strengthening trend in that direction.\n",
    "\n",
    "- **Application**:\n",
    "  - The MACD helps traders see changes in momentum, trend direction, and possible reversal points by analyzing the difference between the short and long EMAs."
   ]
  },
  {
   "cell_type": "code",
   "execution_count": 32,
   "id": "db91626c-541d-42b9-ae01-91af89338290",
   "metadata": {},
   "outputs": [],
   "source": [
    "def calculate_macd(data, short_window=12, long_window=26, signal_window=9):\n",
    "    \"\"\"\n",
    "    Moving Average Convergence Divergence (MACD) is calculated using two exponential moving averages (EMA):\n",
    "    the 12-day EMA and the 26-day EMA, with a 9-day EMA as the signal line.\n",
    "    \"\"\"\n",
    "    data['EMA12'] = data['close'].ewm(span=short_window, adjust=False).mean()\n",
    "    data['EMA26'] = data['close'].ewm(span=long_window, adjust=False).mean()\n",
    "    \n",
    "    # MACD Line\n",
    "    data['MACD'] = data['EMA12'] - data['EMA26']\n",
    "    \n",
    "    # Signal Line\n",
    "    data['Signal_Line'] = data['MACD'].ewm(span=signal_window, adjust=False).mean()\n",
    "    \n",
    "    return data"
   ]
  },
  {
   "cell_type": "code",
   "execution_count": 33,
   "id": "e2c3f199-1572-427e-8395-cd7f764648fb",
   "metadata": {},
   "outputs": [],
   "source": [
    "# Calculate MACD (Moving Average Convergence Divergence)\n",
    "btc_price_data_1_year = calculate_macd(btc_price_data_1_year)"
   ]
  },
  {
   "cell_type": "markdown",
   "id": "a8e766f9-ed5f-4703-a331-17e55d2e6ed0",
   "metadata": {},
   "source": [
    "#### 5.3.3. Moving Averages (SMA and EMA)"
   ]
  },
  {
   "cell_type": "markdown",
   "id": "459a5077-821f-4db0-85e2-7728875b1ac0",
   "metadata": {},
   "source": [
    "Moving averages smooth out price data to help identify trends over specific time frames. They are often used to see the underlying trend of an asset’s price and are among the most widely used technical indicators.\n",
    "\n",
    "##### 2.2.3.1. Simple Moving Average (SMA)\n",
    "\n",
    "- **Definition**: The **SMA** is the average of the closing prices over a specific period. For example, a 10-day SMA is the average closing price over the last 10 days.\n",
    "  \n",
    "- **Formula**:\n",
    "  $$\\text{SMA} = \\frac{\\sum_{i=1}^{N} \\text{Price}_i}{N}$$\n",
    "  where $N$ is the period (e.g., 10 days).\n",
    "\n",
    "- **Interpretation**:\n",
    "  - **Trend Identification**: When prices are above the SMA, it suggests an upward trend; when below, it suggests a downward trend.\n",
    "  - **Crossovers**: When a short-term SMA crosses above a long-term SMA (e.g., 10-day SMA crosses above the 50-day SMA), it generates a bullish signal. The reverse crossover indicates a bearish signal.\n",
    "\n",
    "##### 2.2.3.2. Exponential Moving Average (EMA)\n",
    "\n",
    "- **Definition**: The **EMA** is a weighted moving average that gives more importance to recent prices, making it more responsive to new information than the SMA.\n",
    "  \n",
    "- **Formula**:\n",
    "  - EMA uses a multiplier:\n",
    "    $$\\text{EMA}_\\text{current} = \\left(\\frac{2}{N+1}\\right) \\times (\\text{Price}_\\text{current} - \\text{EMA}_\\text{previous}) + \\text{EMA}_\\text{previous}$$\n",
    "    where $N$ is the number of periods.\n",
    "\n",
    "- **Interpretation**:\n",
    "  - **More Sensitive to Price Changes**: Because the EMA responds more quickly to recent prices, it is useful in identifying potential reversals and shorter-term trends."
   ]
  },
  {
   "cell_type": "code",
   "execution_count": 34,
   "id": "4157a35a-ca57-425f-bccf-50c82d8bfdd1",
   "metadata": {},
   "outputs": [],
   "source": [
    "def calculate_moving_averages(data, sma_window=20, ema_window=20):\n",
    "    \"\"\"\n",
    "    Simple Moving Average (SMA) is the average price over a specified number of periods, \n",
    "    while Exponential Moving Average (EMA) gives more weight to recent prices.\n",
    "    \"\"\"\n",
    "    # Simple Moving Average\n",
    "    data['SMA'] = data['close'].rolling(window=sma_window).mean()\n",
    "    \n",
    "    # Exponential Moving Average\n",
    "    data['EMA'] = data['close'].ewm(span=ema_window, adjust=False).mean()\n",
    "    \n",
    "    return data"
   ]
  },
  {
   "cell_type": "code",
   "execution_count": 35,
   "id": "104fe2ce-4d25-44bb-8d49-8a0c97a1a6c3",
   "metadata": {},
   "outputs": [],
   "source": [
    "# Calculate moving averages\n",
    "btc_price_data_1_year = calculate_moving_averages(btc_price_data_1_year)"
   ]
  },
  {
   "cell_type": "markdown",
   "id": "309f1e3b-c7c2-4ee9-812c-468bba3c96aa",
   "metadata": {},
   "source": [
    "## 6. Calculate Target Variable"
   ]
  },
  {
   "cell_type": "markdown",
   "id": "f3e49416-a43f-4e33-86c4-c1ce0ed8e9c0",
   "metadata": {},
   "source": [
    "The **target** variable will be derived from the **technical indicators**. The values of this variable are used as **buy/sell signals** for the traiding strategy. \n",
    "\n",
    "There will be 3 target values:\n",
    "* -1 - sell\n",
    "* 0  - do nothing\n",
    "* 1  - buy"
   ]
  },
  {
   "cell_type": "code",
   "execution_count": 36,
   "id": "4bff6132-c115-40a4-91cc-5fff5161a9e5",
   "metadata": {},
   "outputs": [],
   "source": [
    "def create_target_variable_with_techn_indicators_hourly(data, price_threshold = 0.01):\n",
    "    \"\"\"\n",
    "    Computes and sets the 'target' variable from the input 'data' and 'threshold'.\n",
    "    Creates a 'target' column with the computed values in the 'data' DataFrame.\n",
    "\n",
    "    Parameters\n",
    "    ----------\n",
    "    data: a DataFrame with the time series data. There must be a column named 'close'! \n",
    "          This column will be used by the user to calculate the 'target' variable.\n",
    "    \n",
    "    threshold: threshold for the price change to classify as 'buy' or 'sell'. For instance, if you want a 1% increase to be a 'buy' signal,\n",
    "               the threshold will be 0.01. Adjust this threshold as per your strategy.\n",
    "    \"\"\"\n",
    "    # Create a copy of the DataFrame\n",
    "    data_copy = data.copy(deep=True)\n",
    "    \n",
    "    # Compute the percentage change between the current close price and the close price in the next period.\n",
    "    # This will help define whether there’s a significant increase or decrease.\n",
    "    data_copy['future_return'] = ((data_copy['close'].shift(-1) - data_copy['close']) / data_copy['close']) * 100\n",
    "    \n",
    "    # Use the technical indicators to add more conditions to the target:\n",
    "    # - RSI: A Relative Strength Index (RSI) value below 30 often indicates an oversold condition, which might suggest a buying opportunity.\n",
    "    # - MACD: A positive MACD value (i.e., MACD > Signal Line) can suggest an uptrend.\n",
    "    # - SMA/EMA: If the current price is above the SMA or EMA, it may indicate an upward trend.\n",
    "    #data_copy['buy_signal'] = (\n",
    "    conditions_buy  = (\n",
    "        (data_copy['future_return'] > price_threshold) &\n",
    "        #(data_copy['RSI'] < 30) &   # buy signal for RSI\n",
    "        (data_copy['RSI'] < 40) &    # buy signal for RSI\n",
    "        ((data_copy['MACD'] > data_copy['Signal_Line']) & (data_copy['MACD'].shift(1) <= data_copy['Signal_Line'].shift(1))) #& # buy signal for MACD\n",
    "        # ((data_copy['close'] > data_copy['SMA']) & (data_copy['close'].shift(1) <= data_copy['SMA'].shift(1))) # buy signal for SMA\n",
    "    ).astype(int)\n",
    "\n",
    "    conditions_sell  = (\n",
    "        (data_copy['future_return'] < - price_threshold) &\n",
    "        #(data_copy['RSI'] > 70) &    # sell signal for RSI \n",
    "        (data_copy['RSI'] > 60) &     # sell signal for RSI \n",
    "        (data_copy['MACD'] < data_copy['Signal_Line']) & (data_copy['MACD'].shift(1) >= data_copy['Signal_Line'].shift(1)) #& # sell signal for MACD \n",
    "        # (data_copy['close'] < data_copy['SMA']) & (data_copy['close'].shift(1) >= data_copy['SMA'].shift(1)) # sell signal for SMA \n",
    "    ).astype(int)\n",
    "\n",
    "    # Define the 'target' as 1 (buy), 0(do nothing) and 2(sell).\n",
    "    # Initialize the 'target' column with default value\n",
    "    data_copy['target'] = 0 # 'do nothing' signal\n",
    "    \n",
    "    # Fill the 'target' with the 'buy_signal' and 'sell_signal' conditions \n",
    "    data_copy.loc[(conditions_buy == 1) & (conditions_sell == 0), 'target'] = 1 # 'buy' signal\n",
    "    data_copy.loc[(conditions_sell == 1) & (conditions_buy == 0), 'target'] = 2 # 'sell' signal\n",
    "\n",
    "    # Generate signals\n",
    "    # data['signal'] = np.where(data['SMA_short'] > data['SMA_long'], 1, 0)\n",
    "    # data['signal'] = data['signal'].diff()  # 1 = Buy, 2 = Sell\n",
    "\n",
    "    # The last row in your dataset will have a NaN value for 'future_return' due to the shift operation. Drop this row to clean up the dataset.\n",
    "    # data_copy = data_copy.dropna()\n",
    "\n",
    "    # Print the balance of 0s, 1s and 2s in our 'target' variable to understand how many 'buy' and 'sell' signals we have.\n",
    "    print(data_copy['target'].value_counts())\n",
    "\n",
    "    return data_copy"
   ]
  },
  {
   "cell_type": "code",
   "execution_count": 37,
   "id": "518b51d0-de86-4aa0-be45-e421af6c7219",
   "metadata": {},
   "outputs": [],
   "source": [
    "# Define the threshold for the price change to classify as 'buy' or 'sell'. For instance, if we want a 1% increase to be a 'buy' signal,\n",
    "# the threshold will be 0.01.\n",
    "threshold = 0.01\n",
    "#threshold = 0.005\n",
    "\n",
    "# Compute the 'target' variable\n",
    "# btc_price_data_1_year = create_target_variable_with_techn_indicators_hourly(btc_price_data_1_year, threshold)"
   ]
  },
  {
   "cell_type": "markdown",
   "id": "c2169cca-d577-44dc-a705-c1a9462fa36d",
   "metadata": {},
   "source": [
    "To predict the next hour’s price, create a target column."
   ]
  },
  {
   "cell_type": "code",
   "execution_count": 38,
   "id": "9841ec9b-7086-42bb-91b9-66748a972cf1",
   "metadata": {},
   "outputs": [],
   "source": [
    "def create_target_variable_closing_hourly(data, price_threshold = 0.01):\n",
    "    \"\"\"\n",
    "    Computes and sets the 'target' variable from the input 'data' and 'threshold'.\n",
    "    Creates a 'target' column with the computed values in the 'data' DataFrame.\n",
    "\n",
    "    Parameters\n",
    "    ----------\n",
    "    data: a DataFrame with the time series data. There must be a column named 'close'! \n",
    "          This column will be used by the user to calculate the 'target' variable.\n",
    "    \n",
    "    threshold: threshold for the price change to classify as 'buy' or 'sell'. For instance, if you want a 1% increase to be a 'buy' signal,\n",
    "               the threshold will be 0.01. Adjust this threshold as per your strategy.\n",
    "    \"\"\"\n",
    "    # Create a copy of the DataFrame\n",
    "    data_copy = data.copy(deep=True)\n",
    "    \n",
    "    # Compute the percentage change between the current close price and the close price in the next period.\n",
    "    # This will help define whether there’s a significant increase or decrease.\n",
    "    data_copy['future_return'] = ((data_copy['close'].shift(-1) - data_copy['close']) / data_copy['close']) * 100\n",
    "    \n",
    "    # Use the technical indicators to add more conditions to the target:\n",
    "    # - RSI: A Relative Strength Index (RSI) value below 30 often indicates an oversold condition, which might suggest a buying opportunity.\n",
    "    # - MACD: A positive MACD value (i.e., MACD > Signal Line) can suggest an uptrend.\n",
    "    # - SMA/EMA: If the current price is above the SMA or EMA, it may indicate an upward trend.\n",
    "    #data_copy['buy_signal'] = (\n",
    "    conditions_buy  = ((data_copy['future_return'] > 0)).astype(int)\n",
    "    conditions_sell  = ((data_copy['future_return'] < 0)).astype(int)\n",
    "\n",
    "    # Define the 'target' as 1 (buy), 0(do nothing) and 2(sell).\n",
    "    # Initialize the 'target' column with default value\n",
    "    data_copy['target'] = 0 # 'do nothing' signal\n",
    "    \n",
    "    # Fill the 'target' with the 'buy_signal' and 'sell_signal' conditions \n",
    "    data_copy.loc[(conditions_buy == 1) & (conditions_sell == 0), 'target'] = 1 # 'buy' signal\n",
    "    data_copy.loc[(conditions_sell == 1) & (conditions_buy == 0), 'target'] = -1 # 'sell' signal\n",
    "\n",
    "    # Generate signals\n",
    "    # data['signal'] = np.where(data['SMA_short'] > data['SMA_long'], 1, 0)\n",
    "    # data['signal'] = data['signal'].diff()  # 1 = Buy, 2 = Sell\n",
    "\n",
    "    # The last row in your dataset will have a NaN value for 'future_return' due to the shift operation. Drop this row to clean up the dataset.\n",
    "    # data_copy = data_copy.dropna()\n",
    "\n",
    "    # Print the balance of 0s, 1s and 2s in our 'target' variable to understand how many 'buy' and 'sell' signals we have.\n",
    "    print(data_copy['target'].value_counts())\n",
    "\n",
    "    return data_copy"
   ]
  },
  {
   "cell_type": "code",
   "execution_count": 39,
   "id": "bc86fb62-aa58-4469-b320-079f81cf5245",
   "metadata": {},
   "outputs": [],
   "source": [
    "#btc_price_data_1_year = create_target_variable_closing_hourly(btc_price_data_1_year)"
   ]
  },
  {
   "cell_type": "code",
   "execution_count": 40,
   "id": "452c9a64-2dc4-4c64-983c-b64eb1379762",
   "metadata": {},
   "outputs": [],
   "source": [
    "# Target: Next hour's close price\n",
    "btc_price_data_1_year['target'] = btc_price_data_1_year['close'].shift(-1)"
   ]
  },
  {
   "cell_type": "code",
   "execution_count": 41,
   "id": "1c02697c-e389-4ba0-8b6c-ab972f006072",
   "metadata": {},
   "outputs": [
    {
     "data": {
      "text/plain": [
       "timestamp\n",
       "2024-01-25 00:00:00     40061.92\n",
       "2024-01-25 00:01:00     40042.82\n",
       "2024-01-25 00:02:00     40055.80\n",
       "2024-01-25 00:03:00     40063.20\n",
       "2024-01-25 00:04:00     40052.61\n",
       "                         ...    \n",
       "2025-01-23 23:56:00    104079.60\n",
       "2025-01-23 23:57:00    103964.62\n",
       "2025-01-23 23:58:00    103926.36\n",
       "2025-01-23 23:59:00    103889.08\n",
       "2025-01-24 00:00:00          NaN\n",
       "Name: target, Length: 527185, dtype: float64"
      ]
     },
     "execution_count": 41,
     "metadata": {},
     "output_type": "execute_result"
    }
   ],
   "source": [
    "btc_price_data_1_year['target']"
   ]
  },
  {
   "cell_type": "markdown",
   "id": "0c9440aa-efec-4bde-bc52-67a6ce1db518",
   "metadata": {},
   "source": [
    "## 7. Clean up the Data"
   ]
  },
  {
   "cell_type": "code",
   "execution_count": 42,
   "id": "addc2b49-7652-42e6-bf1f-e33e82839885",
   "metadata": {
    "scrolled": true
   },
   "outputs": [
    {
     "data": {
      "text/html": [
       "<div>\n",
       "<style scoped>\n",
       "    .dataframe tbody tr th:only-of-type {\n",
       "        vertical-align: middle;\n",
       "    }\n",
       "\n",
       "    .dataframe tbody tr th {\n",
       "        vertical-align: top;\n",
       "    }\n",
       "\n",
       "    .dataframe thead th {\n",
       "        text-align: right;\n",
       "    }\n",
       "</style>\n",
       "<table border=\"1\" class=\"dataframe\">\n",
       "  <thead>\n",
       "    <tr style=\"text-align: right;\">\n",
       "      <th></th>\n",
       "      <th>count</th>\n",
       "      <th>mean</th>\n",
       "      <th>std</th>\n",
       "      <th>min</th>\n",
       "      <th>25%</th>\n",
       "      <th>50%</th>\n",
       "      <th>75%</th>\n",
       "      <th>max</th>\n",
       "    </tr>\n",
       "  </thead>\n",
       "  <tbody>\n",
       "    <tr>\n",
       "      <th>open</th>\n",
       "      <td>527185.0</td>\n",
       "      <td>69423.311389</td>\n",
       "      <td>15429.285709</td>\n",
       "      <td>39503.000000</td>\n",
       "      <td>60757.240000</td>\n",
       "      <td>6.573679e+04</td>\n",
       "      <td>70694.260000</td>\n",
       "      <td>108768.040000</td>\n",
       "    </tr>\n",
       "    <tr>\n",
       "      <th>high</th>\n",
       "      <td>527185.0</td>\n",
       "      <td>69484.281813</td>\n",
       "      <td>15445.681849</td>\n",
       "      <td>39544.660000</td>\n",
       "      <td>60803.890000</td>\n",
       "      <td>6.578358e+04</td>\n",
       "      <td>70750.800000</td>\n",
       "      <td>109358.010000</td>\n",
       "    </tr>\n",
       "    <tr>\n",
       "      <th>low</th>\n",
       "      <td>527185.0</td>\n",
       "      <td>69453.742158</td>\n",
       "      <td>15437.450474</td>\n",
       "      <td>39533.470000</td>\n",
       "      <td>60780.210000</td>\n",
       "      <td>6.576009e+04</td>\n",
       "      <td>70723.790000</td>\n",
       "      <td>108954.900000</td>\n",
       "    </tr>\n",
       "    <tr>\n",
       "      <th>close</th>\n",
       "      <td>527185.0</td>\n",
       "      <td>69454.050246</td>\n",
       "      <td>15437.463194</td>\n",
       "      <td>39533.480000</td>\n",
       "      <td>60780.690000</td>\n",
       "      <td>6.576022e+04</td>\n",
       "      <td>70723.000000</td>\n",
       "      <td>108951.030000</td>\n",
       "    </tr>\n",
       "    <tr>\n",
       "      <th>volume</th>\n",
       "      <td>527185.0</td>\n",
       "      <td>8.978855</td>\n",
       "      <td>16.369091</td>\n",
       "      <td>0.000166</td>\n",
       "      <td>1.669723</td>\n",
       "      <td>3.956193e+00</td>\n",
       "      <td>9.717255</td>\n",
       "      <td>1047.117525</td>\n",
       "    </tr>\n",
       "    <tr>\n",
       "      <th>month</th>\n",
       "      <td>527185.0</td>\n",
       "      <td>6.528672</td>\n",
       "      <td>3.443956</td>\n",
       "      <td>1.000000</td>\n",
       "      <td>4.000000</td>\n",
       "      <td>7.000000e+00</td>\n",
       "      <td>10.000000</td>\n",
       "      <td>12.000000</td>\n",
       "    </tr>\n",
       "    <tr>\n",
       "      <th>day</th>\n",
       "      <td>527185.0</td>\n",
       "      <td>15.731193</td>\n",
       "      <td>8.811791</td>\n",
       "      <td>1.000000</td>\n",
       "      <td>8.000000</td>\n",
       "      <td>1.600000e+01</td>\n",
       "      <td>23.000000</td>\n",
       "      <td>31.000000</td>\n",
       "    </tr>\n",
       "    <tr>\n",
       "      <th>weekday</th>\n",
       "      <td>527185.0</td>\n",
       "      <td>2.999566</td>\n",
       "      <td>1.997391</td>\n",
       "      <td>0.000000</td>\n",
       "      <td>1.000000</td>\n",
       "      <td>3.000000e+00</td>\n",
       "      <td>5.000000</td>\n",
       "      <td>6.000000</td>\n",
       "    </tr>\n",
       "    <tr>\n",
       "      <th>hour</th>\n",
       "      <td>527185.0</td>\n",
       "      <td>11.497469</td>\n",
       "      <td>6.921639</td>\n",
       "      <td>0.000000</td>\n",
       "      <td>5.000000</td>\n",
       "      <td>1.100000e+01</td>\n",
       "      <td>17.000000</td>\n",
       "      <td>23.000000</td>\n",
       "    </tr>\n",
       "    <tr>\n",
       "      <th>hour_sin</th>\n",
       "      <td>527185.0</td>\n",
       "      <td>0.000213</td>\n",
       "      <td>0.707107</td>\n",
       "      <td>-1.000000</td>\n",
       "      <td>-0.707107</td>\n",
       "      <td>1.224647e-16</td>\n",
       "      <td>0.707107</td>\n",
       "      <td>1.000000</td>\n",
       "    </tr>\n",
       "    <tr>\n",
       "      <th>hour_cos</th>\n",
       "      <td>527185.0</td>\n",
       "      <td>-0.000092</td>\n",
       "      <td>0.707108</td>\n",
       "      <td>-1.000000</td>\n",
       "      <td>-0.707107</td>\n",
       "      <td>-1.836970e-16</td>\n",
       "      <td>0.707107</td>\n",
       "      <td>1.000000</td>\n",
       "    </tr>\n",
       "    <tr>\n",
       "      <th>weekday_sin</th>\n",
       "      <td>527185.0</td>\n",
       "      <td>0.001394</td>\n",
       "      <td>0.706497</td>\n",
       "      <td>-0.974928</td>\n",
       "      <td>-0.781831</td>\n",
       "      <td>0.000000e+00</td>\n",
       "      <td>0.781831</td>\n",
       "      <td>0.974928</td>\n",
       "    </tr>\n",
       "    <tr>\n",
       "      <th>weekday_cos</th>\n",
       "      <td>527185.0</td>\n",
       "      <td>-0.002283</td>\n",
       "      <td>0.707713</td>\n",
       "      <td>-0.900969</td>\n",
       "      <td>-0.900969</td>\n",
       "      <td>-2.225209e-01</td>\n",
       "      <td>0.623490</td>\n",
       "      <td>1.000000</td>\n",
       "    </tr>\n",
       "    <tr>\n",
       "      <th>trend</th>\n",
       "      <td>527185.0</td>\n",
       "      <td>69456.603824</td>\n",
       "      <td>15438.279159</td>\n",
       "      <td>39624.799563</td>\n",
       "      <td>60786.646359</td>\n",
       "      <td>6.575854e+04</td>\n",
       "      <td>70726.079770</td>\n",
       "      <td>108240.424696</td>\n",
       "    </tr>\n",
       "    <tr>\n",
       "      <th>seasonal</th>\n",
       "      <td>527185.0</td>\n",
       "      <td>0.000366</td>\n",
       "      <td>48.396805</td>\n",
       "      <td>-2032.181975</td>\n",
       "      <td>-17.211796</td>\n",
       "      <td>-1.416802e-02</td>\n",
       "      <td>17.401014</td>\n",
       "      <td>1736.254698</td>\n",
       "    </tr>\n",
       "    <tr>\n",
       "      <th>residual</th>\n",
       "      <td>527185.0</td>\n",
       "      <td>-2.553944</td>\n",
       "      <td>129.526239</td>\n",
       "      <td>-4448.943187</td>\n",
       "      <td>-23.501266</td>\n",
       "      <td>-2.804416e-01</td>\n",
       "      <td>22.700657</td>\n",
       "      <td>3391.096413</td>\n",
       "    </tr>\n",
       "    <tr>\n",
       "      <th>trend_lag_1</th>\n",
       "      <td>527184.0</td>\n",
       "      <td>69456.537833</td>\n",
       "      <td>15438.219447</td>\n",
       "      <td>39624.799563</td>\n",
       "      <td>60786.640878</td>\n",
       "      <td>6.575852e+04</td>\n",
       "      <td>70725.889536</td>\n",
       "      <td>108240.424696</td>\n",
       "    </tr>\n",
       "    <tr>\n",
       "      <th>seasonal_lag_1</th>\n",
       "      <td>527184.0</td>\n",
       "      <td>0.000226</td>\n",
       "      <td>48.396745</td>\n",
       "      <td>-2032.181975</td>\n",
       "      <td>-17.211799</td>\n",
       "      <td>-1.421921e-02</td>\n",
       "      <td>17.400905</td>\n",
       "      <td>1736.254698</td>\n",
       "    </tr>\n",
       "    <tr>\n",
       "      <th>residual_lag_1</th>\n",
       "      <td>527184.0</td>\n",
       "      <td>-2.553132</td>\n",
       "      <td>129.525021</td>\n",
       "      <td>-4448.943187</td>\n",
       "      <td>-23.501217</td>\n",
       "      <td>-2.804132e-01</td>\n",
       "      <td>22.700723</td>\n",
       "      <td>3391.096413</td>\n",
       "    </tr>\n",
       "    <tr>\n",
       "      <th>trend_lag_2</th>\n",
       "      <td>527183.0</td>\n",
       "      <td>69456.471842</td>\n",
       "      <td>15438.159734</td>\n",
       "      <td>39624.799563</td>\n",
       "      <td>60786.635397</td>\n",
       "      <td>6.575850e+04</td>\n",
       "      <td>70725.824943</td>\n",
       "      <td>108240.424696</td>\n",
       "    </tr>\n",
       "    <tr>\n",
       "      <th>seasonal_lag_2</th>\n",
       "      <td>527183.0</td>\n",
       "      <td>0.000058</td>\n",
       "      <td>48.396637</td>\n",
       "      <td>-2032.181975</td>\n",
       "      <td>-17.211802</td>\n",
       "      <td>-1.427041e-02</td>\n",
       "      <td>17.400846</td>\n",
       "      <td>1736.254698</td>\n",
       "    </tr>\n",
       "    <tr>\n",
       "      <th>residual_lag_2</th>\n",
       "      <td>527183.0</td>\n",
       "      <td>-2.552362</td>\n",
       "      <td>129.523938</td>\n",
       "      <td>-4448.943187</td>\n",
       "      <td>-23.501192</td>\n",
       "      <td>-2.803848e-01</td>\n",
       "      <td>22.700789</td>\n",
       "      <td>3391.096413</td>\n",
       "    </tr>\n",
       "    <tr>\n",
       "      <th>trend_lag_3</th>\n",
       "      <td>527182.0</td>\n",
       "      <td>69456.405850</td>\n",
       "      <td>15438.100020</td>\n",
       "      <td>39624.799563</td>\n",
       "      <td>60786.629916</td>\n",
       "      <td>6.575849e+04</td>\n",
       "      <td>70725.807554</td>\n",
       "      <td>108240.424696</td>\n",
       "    </tr>\n",
       "    <tr>\n",
       "      <th>seasonal_lag_3</th>\n",
       "      <td>527182.0</td>\n",
       "      <td>-0.000130</td>\n",
       "      <td>48.396490</td>\n",
       "      <td>-2032.181975</td>\n",
       "      <td>-17.211805</td>\n",
       "      <td>-1.430817e-02</td>\n",
       "      <td>17.400804</td>\n",
       "      <td>1736.254698</td>\n",
       "    </tr>\n",
       "    <tr>\n",
       "      <th>residual_lag_3</th>\n",
       "      <td>527182.0</td>\n",
       "      <td>-2.551645</td>\n",
       "      <td>129.523014</td>\n",
       "      <td>-4448.943187</td>\n",
       "      <td>-23.501113</td>\n",
       "      <td>-2.801878e-01</td>\n",
       "      <td>22.700855</td>\n",
       "      <td>3391.096413</td>\n",
       "    </tr>\n",
       "    <tr>\n",
       "      <th>trend_rolling_mean</th>\n",
       "      <td>527162.0</td>\n",
       "      <td>69456.486313</td>\n",
       "      <td>15437.042311</td>\n",
       "      <td>39638.345173</td>\n",
       "      <td>60786.889910</td>\n",
       "      <td>6.575759e+04</td>\n",
       "      <td>70726.535670</td>\n",
       "      <td>108236.577680</td>\n",
       "    </tr>\n",
       "    <tr>\n",
       "      <th>residual_rolling_std</th>\n",
       "      <td>527162.0</td>\n",
       "      <td>66.038899</td>\n",
       "      <td>70.150600</td>\n",
       "      <td>2.703012</td>\n",
       "      <td>23.815709</td>\n",
       "      <td>4.175235e+01</td>\n",
       "      <td>84.279340</td>\n",
       "      <td>1853.587759</td>\n",
       "    </tr>\n",
       "    <tr>\n",
       "      <th>close_trend_diff</th>\n",
       "      <td>527185.0</td>\n",
       "      <td>-2.553579</td>\n",
       "      <td>127.001077</td>\n",
       "      <td>-4564.922085</td>\n",
       "      <td>-36.030635</td>\n",
       "      <td>-3.547381e-01</td>\n",
       "      <td>34.815446</td>\n",
       "      <td>3261.860645</td>\n",
       "    </tr>\n",
       "    <tr>\n",
       "      <th>close_seasonal_diff</th>\n",
       "      <td>527185.0</td>\n",
       "      <td>69454.049880</td>\n",
       "      <td>15437.482761</td>\n",
       "      <td>39520.293074</td>\n",
       "      <td>60782.089895</td>\n",
       "      <td>6.575888e+04</td>\n",
       "      <td>70722.984578</td>\n",
       "      <td>109125.228155</td>\n",
       "    </tr>\n",
       "    <tr>\n",
       "      <th>close_roll_mean_6</th>\n",
       "      <td>527180.0</td>\n",
       "      <td>69454.026069</td>\n",
       "      <td>15437.131007</td>\n",
       "      <td>39553.026667</td>\n",
       "      <td>60782.704167</td>\n",
       "      <td>6.575790e+04</td>\n",
       "      <td>70721.404167</td>\n",
       "      <td>108775.368333</td>\n",
       "    </tr>\n",
       "    <tr>\n",
       "      <th>close_roll_std_6</th>\n",
       "      <td>527180.0</td>\n",
       "      <td>41.726272</td>\n",
       "      <td>39.839244</td>\n",
       "      <td>0.000000</td>\n",
       "      <td>18.502637</td>\n",
       "      <td>3.057438e+01</td>\n",
       "      <td>51.518406</td>\n",
       "      <td>2120.357692</td>\n",
       "    </tr>\n",
       "    <tr>\n",
       "      <th>close_roll_mean_12</th>\n",
       "      <td>527174.0</td>\n",
       "      <td>69453.996451</td>\n",
       "      <td>15436.746986</td>\n",
       "      <td>39573.138333</td>\n",
       "      <td>60782.227708</td>\n",
       "      <td>6.575737e+04</td>\n",
       "      <td>70721.822917</td>\n",
       "      <td>108687.427500</td>\n",
       "    </tr>\n",
       "    <tr>\n",
       "      <th>close_roll_std_12</th>\n",
       "      <td>527174.0</td>\n",
       "      <td>57.529536</td>\n",
       "      <td>52.994341</td>\n",
       "      <td>0.967829</td>\n",
       "      <td>26.334095</td>\n",
       "      <td>4.266311e+01</td>\n",
       "      <td>70.683200</td>\n",
       "      <td>1875.214047</td>\n",
       "    </tr>\n",
       "    <tr>\n",
       "      <th>close_roll_mean_24</th>\n",
       "      <td>527162.0</td>\n",
       "      <td>69453.936634</td>\n",
       "      <td>15435.982643</td>\n",
       "      <td>39602.088750</td>\n",
       "      <td>60783.471354</td>\n",
       "      <td>6.575612e+04</td>\n",
       "      <td>70724.287708</td>\n",
       "      <td>108504.418750</td>\n",
       "    </tr>\n",
       "    <tr>\n",
       "      <th>close_roll_std_24</th>\n",
       "      <td>527162.0</td>\n",
       "      <td>79.762868</td>\n",
       "      <td>72.495187</td>\n",
       "      <td>1.661955</td>\n",
       "      <td>37.058172</td>\n",
       "      <td>5.937555e+01</td>\n",
       "      <td>96.993957</td>\n",
       "      <td>1952.270460</td>\n",
       "    </tr>\n",
       "    <tr>\n",
       "      <th>volume_roll_mean_6</th>\n",
       "      <td>527180.0</td>\n",
       "      <td>8.978862</td>\n",
       "      <td>13.486886</td>\n",
       "      <td>0.056345</td>\n",
       "      <td>2.250866</td>\n",
       "      <td>4.560601e+00</td>\n",
       "      <td>10.157515</td>\n",
       "      <td>479.932661</td>\n",
       "    </tr>\n",
       "    <tr>\n",
       "      <th>volume_roll_std_6</th>\n",
       "      <td>527180.0</td>\n",
       "      <td>5.133138</td>\n",
       "      <td>8.770114</td>\n",
       "      <td>0.019404</td>\n",
       "      <td>1.252332</td>\n",
       "      <td>2.616327e+00</td>\n",
       "      <td>5.611033</td>\n",
       "      <td>416.820959</td>\n",
       "    </tr>\n",
       "    <tr>\n",
       "      <th>volume_roll_mean_12</th>\n",
       "      <td>527174.0</td>\n",
       "      <td>8.978909</td>\n",
       "      <td>12.652889</td>\n",
       "      <td>0.076574</td>\n",
       "      <td>2.412814</td>\n",
       "      <td>4.725591e+00</td>\n",
       "      <td>10.330600</td>\n",
       "      <td>356.150894</td>\n",
       "    </tr>\n",
       "    <tr>\n",
       "      <th>volume_roll_std_12</th>\n",
       "      <td>527174.0</td>\n",
       "      <td>5.901912</td>\n",
       "      <td>9.101046</td>\n",
       "      <td>0.051403</td>\n",
       "      <td>1.612966</td>\n",
       "      <td>3.177264e+00</td>\n",
       "      <td>6.665983</td>\n",
       "      <td>297.795412</td>\n",
       "    </tr>\n",
       "    <tr>\n",
       "      <th>volume_roll_mean_24</th>\n",
       "      <td>527162.0</td>\n",
       "      <td>8.979003</td>\n",
       "      <td>11.904737</td>\n",
       "      <td>0.102476</td>\n",
       "      <td>2.568197</td>\n",
       "      <td>4.891346e+00</td>\n",
       "      <td>10.538937</td>\n",
       "      <td>274.283283</td>\n",
       "    </tr>\n",
       "    <tr>\n",
       "      <th>volume_roll_std_24</th>\n",
       "      <td>527162.0</td>\n",
       "      <td>6.677684</td>\n",
       "      <td>9.334440</td>\n",
       "      <td>0.098170</td>\n",
       "      <td>1.993152</td>\n",
       "      <td>3.771380e+00</td>\n",
       "      <td>7.712144</td>\n",
       "      <td>211.177989</td>\n",
       "    </tr>\n",
       "    <tr>\n",
       "      <th>lag_1</th>\n",
       "      <td>527184.0</td>\n",
       "      <td>69453.984927</td>\n",
       "      <td>15437.404984</td>\n",
       "      <td>39533.480000</td>\n",
       "      <td>60780.690000</td>\n",
       "      <td>6.576021e+04</td>\n",
       "      <td>70722.910000</td>\n",
       "      <td>108951.030000</td>\n",
       "    </tr>\n",
       "    <tr>\n",
       "      <th>lag_2</th>\n",
       "      <td>527183.0</td>\n",
       "      <td>69453.919537</td>\n",
       "      <td>15437.346616</td>\n",
       "      <td>39533.480000</td>\n",
       "      <td>60780.690000</td>\n",
       "      <td>6.576021e+04</td>\n",
       "      <td>70722.845000</td>\n",
       "      <td>108951.030000</td>\n",
       "    </tr>\n",
       "    <tr>\n",
       "      <th>lag_3</th>\n",
       "      <td>527182.0</td>\n",
       "      <td>69453.854075</td>\n",
       "      <td>15437.288085</td>\n",
       "      <td>39533.480000</td>\n",
       "      <td>60780.690000</td>\n",
       "      <td>6.576014e+04</td>\n",
       "      <td>70722.785000</td>\n",
       "      <td>108951.030000</td>\n",
       "    </tr>\n",
       "    <tr>\n",
       "      <th>lag_9</th>\n",
       "      <td>527176.0</td>\n",
       "      <td>69453.459955</td>\n",
       "      <td>15436.933886</td>\n",
       "      <td>39533.480000</td>\n",
       "      <td>60780.627500</td>\n",
       "      <td>6.575999e+04</td>\n",
       "      <td>70722.602500</td>\n",
       "      <td>108951.030000</td>\n",
       "    </tr>\n",
       "    <tr>\n",
       "      <th>lag_13</th>\n",
       "      <td>527172.0</td>\n",
       "      <td>69453.197299</td>\n",
       "      <td>15436.697953</td>\n",
       "      <td>39533.480000</td>\n",
       "      <td>60780.610000</td>\n",
       "      <td>6.575993e+04</td>\n",
       "      <td>70722.425000</td>\n",
       "      <td>108951.030000</td>\n",
       "    </tr>\n",
       "    <tr>\n",
       "      <th>lag_16</th>\n",
       "      <td>527169.0</td>\n",
       "      <td>69453.000036</td>\n",
       "      <td>15436.520392</td>\n",
       "      <td>39533.480000</td>\n",
       "      <td>60780.580000</td>\n",
       "      <td>6.575991e+04</td>\n",
       "      <td>70722.270000</td>\n",
       "      <td>108951.030000</td>\n",
       "    </tr>\n",
       "    <tr>\n",
       "      <th>lag_30</th>\n",
       "      <td>527155.0</td>\n",
       "      <td>69452.075564</td>\n",
       "      <td>15435.682956</td>\n",
       "      <td>39533.480000</td>\n",
       "      <td>60780.320000</td>\n",
       "      <td>6.575971e+04</td>\n",
       "      <td>70721.660000</td>\n",
       "      <td>108951.030000</td>\n",
       "    </tr>\n",
       "    <tr>\n",
       "      <th>lag_56</th>\n",
       "      <td>527129.0</td>\n",
       "      <td>69450.354362</td>\n",
       "      <td>15434.117836</td>\n",
       "      <td>39533.480000</td>\n",
       "      <td>60780.170000</td>\n",
       "      <td>6.575915e+04</td>\n",
       "      <td>70720.000000</td>\n",
       "      <td>108951.030000</td>\n",
       "    </tr>\n",
       "    <tr>\n",
       "      <th>lag_67</th>\n",
       "      <td>527118.0</td>\n",
       "      <td>69449.634632</td>\n",
       "      <td>15433.474683</td>\n",
       "      <td>39533.480000</td>\n",
       "      <td>60780.037500</td>\n",
       "      <td>6.575889e+04</td>\n",
       "      <td>70719.147500</td>\n",
       "      <td>108951.030000</td>\n",
       "    </tr>\n",
       "    <tr>\n",
       "      <th>lag_70</th>\n",
       "      <td>527115.0</td>\n",
       "      <td>69449.437951</td>\n",
       "      <td>15433.298400</td>\n",
       "      <td>39533.480000</td>\n",
       "      <td>60780.020000</td>\n",
       "      <td>6.575885e+04</td>\n",
       "      <td>70719.125000</td>\n",
       "      <td>108951.030000</td>\n",
       "    </tr>\n",
       "    <tr>\n",
       "      <th>RSI</th>\n",
       "      <td>527184.0</td>\n",
       "      <td>50.282977</td>\n",
       "      <td>16.013926</td>\n",
       "      <td>0.000000</td>\n",
       "      <td>38.812525</td>\n",
       "      <td>5.021690e+01</td>\n",
       "      <td>61.666136</td>\n",
       "      <td>100.000000</td>\n",
       "    </tr>\n",
       "    <tr>\n",
       "      <th>EMA12</th>\n",
       "      <td>527185.0</td>\n",
       "      <td>69453.382770</td>\n",
       "      <td>15437.081557</td>\n",
       "      <td>39576.792194</td>\n",
       "      <td>60783.084008</td>\n",
       "      <td>6.575766e+04</td>\n",
       "      <td>70723.908449</td>\n",
       "      <td>108574.116551</td>\n",
       "    </tr>\n",
       "    <tr>\n",
       "      <th>EMA26</th>\n",
       "      <td>527185.0</td>\n",
       "      <td>69452.531453</td>\n",
       "      <td>15436.623947</td>\n",
       "      <td>39612.941595</td>\n",
       "      <td>60782.614979</td>\n",
       "      <td>6.575562e+04</td>\n",
       "      <td>70725.140749</td>\n",
       "      <td>108453.883803</td>\n",
       "    </tr>\n",
       "    <tr>\n",
       "      <th>MACD</th>\n",
       "      <td>527185.0</td>\n",
       "      <td>0.851318</td>\n",
       "      <td>59.482922</td>\n",
       "      <td>-1070.811076</td>\n",
       "      <td>-22.023684</td>\n",
       "      <td>6.627949e-01</td>\n",
       "      <td>24.522569</td>\n",
       "      <td>1345.062997</td>\n",
       "    </tr>\n",
       "    <tr>\n",
       "      <th>Signal_Line</th>\n",
       "      <td>527185.0</td>\n",
       "      <td>0.851781</td>\n",
       "      <td>56.044510</td>\n",
       "      <td>-934.400748</td>\n",
       "      <td>-20.774232</td>\n",
       "      <td>6.269776e-01</td>\n",
       "      <td>23.030474</td>\n",
       "      <td>1142.518650</td>\n",
       "    </tr>\n",
       "    <tr>\n",
       "      <th>SMA</th>\n",
       "      <td>527166.0</td>\n",
       "      <td>69453.956713</td>\n",
       "      <td>15436.237504</td>\n",
       "      <td>39594.162500</td>\n",
       "      <td>60783.003500</td>\n",
       "      <td>6.575655e+04</td>\n",
       "      <td>70723.986375</td>\n",
       "      <td>108572.077500</td>\n",
       "    </tr>\n",
       "    <tr>\n",
       "      <th>EMA</th>\n",
       "      <td>527185.0</td>\n",
       "      <td>69452.896448</td>\n",
       "      <td>15436.819804</td>\n",
       "      <td>39598.217492</td>\n",
       "      <td>60782.486159</td>\n",
       "      <td>6.575664e+04</td>\n",
       "      <td>70724.878816</td>\n",
       "      <td>108503.486911</td>\n",
       "    </tr>\n",
       "    <tr>\n",
       "      <th>target</th>\n",
       "      <td>527184.0</td>\n",
       "      <td>69454.106018</td>\n",
       "      <td>15437.424723</td>\n",
       "      <td>39533.480000</td>\n",
       "      <td>60780.697500</td>\n",
       "      <td>6.576024e+04</td>\n",
       "      <td>70723.000000</td>\n",
       "      <td>108951.030000</td>\n",
       "    </tr>\n",
       "  </tbody>\n",
       "</table>\n",
       "</div>"
      ],
      "text/plain": [
       "                         count          mean           std           min  \\\n",
       "open                  527185.0  69423.311389  15429.285709  39503.000000   \n",
       "high                  527185.0  69484.281813  15445.681849  39544.660000   \n",
       "low                   527185.0  69453.742158  15437.450474  39533.470000   \n",
       "close                 527185.0  69454.050246  15437.463194  39533.480000   \n",
       "volume                527185.0      8.978855     16.369091      0.000166   \n",
       "month                 527185.0      6.528672      3.443956      1.000000   \n",
       "day                   527185.0     15.731193      8.811791      1.000000   \n",
       "weekday               527185.0      2.999566      1.997391      0.000000   \n",
       "hour                  527185.0     11.497469      6.921639      0.000000   \n",
       "hour_sin              527185.0      0.000213      0.707107     -1.000000   \n",
       "hour_cos              527185.0     -0.000092      0.707108     -1.000000   \n",
       "weekday_sin           527185.0      0.001394      0.706497     -0.974928   \n",
       "weekday_cos           527185.0     -0.002283      0.707713     -0.900969   \n",
       "trend                 527185.0  69456.603824  15438.279159  39624.799563   \n",
       "seasonal              527185.0      0.000366     48.396805  -2032.181975   \n",
       "residual              527185.0     -2.553944    129.526239  -4448.943187   \n",
       "trend_lag_1           527184.0  69456.537833  15438.219447  39624.799563   \n",
       "seasonal_lag_1        527184.0      0.000226     48.396745  -2032.181975   \n",
       "residual_lag_1        527184.0     -2.553132    129.525021  -4448.943187   \n",
       "trend_lag_2           527183.0  69456.471842  15438.159734  39624.799563   \n",
       "seasonal_lag_2        527183.0      0.000058     48.396637  -2032.181975   \n",
       "residual_lag_2        527183.0     -2.552362    129.523938  -4448.943187   \n",
       "trend_lag_3           527182.0  69456.405850  15438.100020  39624.799563   \n",
       "seasonal_lag_3        527182.0     -0.000130     48.396490  -2032.181975   \n",
       "residual_lag_3        527182.0     -2.551645    129.523014  -4448.943187   \n",
       "trend_rolling_mean    527162.0  69456.486313  15437.042311  39638.345173   \n",
       "residual_rolling_std  527162.0     66.038899     70.150600      2.703012   \n",
       "close_trend_diff      527185.0     -2.553579    127.001077  -4564.922085   \n",
       "close_seasonal_diff   527185.0  69454.049880  15437.482761  39520.293074   \n",
       "close_roll_mean_6     527180.0  69454.026069  15437.131007  39553.026667   \n",
       "close_roll_std_6      527180.0     41.726272     39.839244      0.000000   \n",
       "close_roll_mean_12    527174.0  69453.996451  15436.746986  39573.138333   \n",
       "close_roll_std_12     527174.0     57.529536     52.994341      0.967829   \n",
       "close_roll_mean_24    527162.0  69453.936634  15435.982643  39602.088750   \n",
       "close_roll_std_24     527162.0     79.762868     72.495187      1.661955   \n",
       "volume_roll_mean_6    527180.0      8.978862     13.486886      0.056345   \n",
       "volume_roll_std_6     527180.0      5.133138      8.770114      0.019404   \n",
       "volume_roll_mean_12   527174.0      8.978909     12.652889      0.076574   \n",
       "volume_roll_std_12    527174.0      5.901912      9.101046      0.051403   \n",
       "volume_roll_mean_24   527162.0      8.979003     11.904737      0.102476   \n",
       "volume_roll_std_24    527162.0      6.677684      9.334440      0.098170   \n",
       "lag_1                 527184.0  69453.984927  15437.404984  39533.480000   \n",
       "lag_2                 527183.0  69453.919537  15437.346616  39533.480000   \n",
       "lag_3                 527182.0  69453.854075  15437.288085  39533.480000   \n",
       "lag_9                 527176.0  69453.459955  15436.933886  39533.480000   \n",
       "lag_13                527172.0  69453.197299  15436.697953  39533.480000   \n",
       "lag_16                527169.0  69453.000036  15436.520392  39533.480000   \n",
       "lag_30                527155.0  69452.075564  15435.682956  39533.480000   \n",
       "lag_56                527129.0  69450.354362  15434.117836  39533.480000   \n",
       "lag_67                527118.0  69449.634632  15433.474683  39533.480000   \n",
       "lag_70                527115.0  69449.437951  15433.298400  39533.480000   \n",
       "RSI                   527184.0     50.282977     16.013926      0.000000   \n",
       "EMA12                 527185.0  69453.382770  15437.081557  39576.792194   \n",
       "EMA26                 527185.0  69452.531453  15436.623947  39612.941595   \n",
       "MACD                  527185.0      0.851318     59.482922  -1070.811076   \n",
       "Signal_Line           527185.0      0.851781     56.044510   -934.400748   \n",
       "SMA                   527166.0  69453.956713  15436.237504  39594.162500   \n",
       "EMA                   527185.0  69452.896448  15436.819804  39598.217492   \n",
       "target                527184.0  69454.106018  15437.424723  39533.480000   \n",
       "\n",
       "                               25%           50%           75%            max  \n",
       "open                  60757.240000  6.573679e+04  70694.260000  108768.040000  \n",
       "high                  60803.890000  6.578358e+04  70750.800000  109358.010000  \n",
       "low                   60780.210000  6.576009e+04  70723.790000  108954.900000  \n",
       "close                 60780.690000  6.576022e+04  70723.000000  108951.030000  \n",
       "volume                    1.669723  3.956193e+00      9.717255    1047.117525  \n",
       "month                     4.000000  7.000000e+00     10.000000      12.000000  \n",
       "day                       8.000000  1.600000e+01     23.000000      31.000000  \n",
       "weekday                   1.000000  3.000000e+00      5.000000       6.000000  \n",
       "hour                      5.000000  1.100000e+01     17.000000      23.000000  \n",
       "hour_sin                 -0.707107  1.224647e-16      0.707107       1.000000  \n",
       "hour_cos                 -0.707107 -1.836970e-16      0.707107       1.000000  \n",
       "weekday_sin              -0.781831  0.000000e+00      0.781831       0.974928  \n",
       "weekday_cos              -0.900969 -2.225209e-01      0.623490       1.000000  \n",
       "trend                 60786.646359  6.575854e+04  70726.079770  108240.424696  \n",
       "seasonal                -17.211796 -1.416802e-02     17.401014    1736.254698  \n",
       "residual                -23.501266 -2.804416e-01     22.700657    3391.096413  \n",
       "trend_lag_1           60786.640878  6.575852e+04  70725.889536  108240.424696  \n",
       "seasonal_lag_1          -17.211799 -1.421921e-02     17.400905    1736.254698  \n",
       "residual_lag_1          -23.501217 -2.804132e-01     22.700723    3391.096413  \n",
       "trend_lag_2           60786.635397  6.575850e+04  70725.824943  108240.424696  \n",
       "seasonal_lag_2          -17.211802 -1.427041e-02     17.400846    1736.254698  \n",
       "residual_lag_2          -23.501192 -2.803848e-01     22.700789    3391.096413  \n",
       "trend_lag_3           60786.629916  6.575849e+04  70725.807554  108240.424696  \n",
       "seasonal_lag_3          -17.211805 -1.430817e-02     17.400804    1736.254698  \n",
       "residual_lag_3          -23.501113 -2.801878e-01     22.700855    3391.096413  \n",
       "trend_rolling_mean    60786.889910  6.575759e+04  70726.535670  108236.577680  \n",
       "residual_rolling_std     23.815709  4.175235e+01     84.279340    1853.587759  \n",
       "close_trend_diff        -36.030635 -3.547381e-01     34.815446    3261.860645  \n",
       "close_seasonal_diff   60782.089895  6.575888e+04  70722.984578  109125.228155  \n",
       "close_roll_mean_6     60782.704167  6.575790e+04  70721.404167  108775.368333  \n",
       "close_roll_std_6         18.502637  3.057438e+01     51.518406    2120.357692  \n",
       "close_roll_mean_12    60782.227708  6.575737e+04  70721.822917  108687.427500  \n",
       "close_roll_std_12        26.334095  4.266311e+01     70.683200    1875.214047  \n",
       "close_roll_mean_24    60783.471354  6.575612e+04  70724.287708  108504.418750  \n",
       "close_roll_std_24        37.058172  5.937555e+01     96.993957    1952.270460  \n",
       "volume_roll_mean_6        2.250866  4.560601e+00     10.157515     479.932661  \n",
       "volume_roll_std_6         1.252332  2.616327e+00      5.611033     416.820959  \n",
       "volume_roll_mean_12       2.412814  4.725591e+00     10.330600     356.150894  \n",
       "volume_roll_std_12        1.612966  3.177264e+00      6.665983     297.795412  \n",
       "volume_roll_mean_24       2.568197  4.891346e+00     10.538937     274.283283  \n",
       "volume_roll_std_24        1.993152  3.771380e+00      7.712144     211.177989  \n",
       "lag_1                 60780.690000  6.576021e+04  70722.910000  108951.030000  \n",
       "lag_2                 60780.690000  6.576021e+04  70722.845000  108951.030000  \n",
       "lag_3                 60780.690000  6.576014e+04  70722.785000  108951.030000  \n",
       "lag_9                 60780.627500  6.575999e+04  70722.602500  108951.030000  \n",
       "lag_13                60780.610000  6.575993e+04  70722.425000  108951.030000  \n",
       "lag_16                60780.580000  6.575991e+04  70722.270000  108951.030000  \n",
       "lag_30                60780.320000  6.575971e+04  70721.660000  108951.030000  \n",
       "lag_56                60780.170000  6.575915e+04  70720.000000  108951.030000  \n",
       "lag_67                60780.037500  6.575889e+04  70719.147500  108951.030000  \n",
       "lag_70                60780.020000  6.575885e+04  70719.125000  108951.030000  \n",
       "RSI                      38.812525  5.021690e+01     61.666136     100.000000  \n",
       "EMA12                 60783.084008  6.575766e+04  70723.908449  108574.116551  \n",
       "EMA26                 60782.614979  6.575562e+04  70725.140749  108453.883803  \n",
       "MACD                    -22.023684  6.627949e-01     24.522569    1345.062997  \n",
       "Signal_Line             -20.774232  6.269776e-01     23.030474    1142.518650  \n",
       "SMA                   60783.003500  6.575655e+04  70723.986375  108572.077500  \n",
       "EMA                   60782.486159  6.575664e+04  70724.878816  108503.486911  \n",
       "target                60780.697500  6.576024e+04  70723.000000  108951.030000  "
      ]
     },
     "execution_count": 42,
     "metadata": {},
     "output_type": "execute_result"
    }
   ],
   "source": [
    "btc_price_data_1_year.describe().T"
   ]
  },
  {
   "cell_type": "code",
   "execution_count": 43,
   "id": "265ed894-ec0b-4ca8-a2be-151e9db52cba",
   "metadata": {
    "scrolled": true
   },
   "outputs": [
    {
     "data": {
      "text/plain": [
       "open                    float64\n",
       "high                    float64\n",
       "low                     float64\n",
       "close                   float64\n",
       "volume                  float64\n",
       "month                   float64\n",
       "day                     float64\n",
       "weekday                 float64\n",
       "hour                    float64\n",
       "hour_sin                float64\n",
       "hour_cos                float64\n",
       "weekday_sin             float64\n",
       "weekday_cos             float64\n",
       "trend                   float64\n",
       "seasonal                float64\n",
       "residual                float64\n",
       "trend_lag_1             float64\n",
       "seasonal_lag_1          float64\n",
       "residual_lag_1          float64\n",
       "trend_lag_2             float64\n",
       "seasonal_lag_2          float64\n",
       "residual_lag_2          float64\n",
       "trend_lag_3             float64\n",
       "seasonal_lag_3          float64\n",
       "residual_lag_3          float64\n",
       "trend_rolling_mean      float64\n",
       "residual_rolling_std    float64\n",
       "close_trend_diff        float64\n",
       "close_seasonal_diff     float64\n",
       "close_roll_mean_6       float64\n",
       "close_roll_std_6        float64\n",
       "close_roll_mean_12      float64\n",
       "close_roll_std_12       float64\n",
       "close_roll_mean_24      float64\n",
       "close_roll_std_24       float64\n",
       "volume_roll_mean_6      float64\n",
       "volume_roll_std_6       float64\n",
       "volume_roll_mean_12     float64\n",
       "volume_roll_std_12      float64\n",
       "volume_roll_mean_24     float64\n",
       "volume_roll_std_24      float64\n",
       "lag_1                   float64\n",
       "lag_2                   float64\n",
       "lag_3                   float64\n",
       "lag_9                   float64\n",
       "lag_13                  float64\n",
       "lag_16                  float64\n",
       "lag_30                  float64\n",
       "lag_56                  float64\n",
       "lag_67                  float64\n",
       "lag_70                  float64\n",
       "RSI                     float64\n",
       "EMA12                   float64\n",
       "EMA26                   float64\n",
       "MACD                    float64\n",
       "Signal_Line             float64\n",
       "SMA                     float64\n",
       "EMA                     float64\n",
       "target                  float64\n",
       "dtype: object"
      ]
     },
     "execution_count": 43,
     "metadata": {},
     "output_type": "execute_result"
    }
   ],
   "source": [
    "btc_price_data_1_year.dtypes"
   ]
  },
  {
   "cell_type": "code",
   "execution_count": 44,
   "id": "0c7e5677-f85f-4667-95df-031e6dc3918a",
   "metadata": {},
   "outputs": [
    {
     "data": {
      "text/plain": [
       "(527185, 59)"
      ]
     },
     "execution_count": 44,
     "metadata": {},
     "output_type": "execute_result"
    }
   ],
   "source": [
    "btc_price_data_1_year.shape"
   ]
  },
  {
   "cell_type": "code",
   "execution_count": 45,
   "id": "1d258cf1-8b15-42ab-8efb-f8c80ceab2fa",
   "metadata": {
    "scrolled": true
   },
   "outputs": [
    {
     "data": {
      "text/plain": [
       "open                     0\n",
       "high                     0\n",
       "low                      0\n",
       "close                    0\n",
       "volume                   0\n",
       "month                    0\n",
       "day                      0\n",
       "weekday                  0\n",
       "hour                     0\n",
       "hour_sin                 0\n",
       "hour_cos                 0\n",
       "weekday_sin              0\n",
       "weekday_cos              0\n",
       "trend                    0\n",
       "seasonal                 0\n",
       "residual                 0\n",
       "trend_lag_1              1\n",
       "seasonal_lag_1           1\n",
       "residual_lag_1           1\n",
       "trend_lag_2              2\n",
       "seasonal_lag_2           2\n",
       "residual_lag_2           2\n",
       "trend_lag_3              3\n",
       "seasonal_lag_3           3\n",
       "residual_lag_3           3\n",
       "trend_rolling_mean      23\n",
       "residual_rolling_std    23\n",
       "close_trend_diff         0\n",
       "close_seasonal_diff      0\n",
       "close_roll_mean_6        5\n",
       "close_roll_std_6         5\n",
       "close_roll_mean_12      11\n",
       "close_roll_std_12       11\n",
       "close_roll_mean_24      23\n",
       "close_roll_std_24       23\n",
       "volume_roll_mean_6       5\n",
       "volume_roll_std_6        5\n",
       "volume_roll_mean_12     11\n",
       "volume_roll_std_12      11\n",
       "volume_roll_mean_24     23\n",
       "volume_roll_std_24      23\n",
       "lag_1                    1\n",
       "lag_2                    2\n",
       "lag_3                    3\n",
       "lag_9                    9\n",
       "lag_13                  13\n",
       "lag_16                  16\n",
       "lag_30                  30\n",
       "lag_56                  56\n",
       "lag_67                  67\n",
       "lag_70                  70\n",
       "RSI                      1\n",
       "EMA12                    0\n",
       "EMA26                    0\n",
       "MACD                     0\n",
       "Signal_Line              0\n",
       "SMA                     19\n",
       "EMA                      0\n",
       "target                   1\n",
       "dtype: int64"
      ]
     },
     "execution_count": 45,
     "metadata": {},
     "output_type": "execute_result"
    }
   ],
   "source": [
    "btc_price_data_1_year.isnull().sum()"
   ]
  },
  {
   "cell_type": "markdown",
   "id": "3fcc2df3-5e79-4afb-a051-ba6c95c3f0f7",
   "metadata": {},
   "source": [
    "There are some rows in the dataset that have a `NaN` values (`future_return`, `RSI`, `SMA` and some `lag`-columns) due to the feature engineering process. We will delete these rows to clean up the dataset."
   ]
  },
  {
   "cell_type": "code",
   "execution_count": 46,
   "id": "7bc22dfe-cce8-4b63-9ce7-55b147eb7b25",
   "metadata": {},
   "outputs": [],
   "source": [
    "btc_price_data_1_year = btc_price_data_1_year.dropna()"
   ]
  },
  {
   "cell_type": "code",
   "execution_count": 47,
   "id": "ff00e362-f2ad-41e5-aad4-67b31c75140c",
   "metadata": {},
   "outputs": [
    {
     "data": {
      "text/plain": [
       "(527114, 59)"
      ]
     },
     "execution_count": 47,
     "metadata": {},
     "output_type": "execute_result"
    }
   ],
   "source": [
    "btc_price_data_1_year.shape"
   ]
  },
  {
   "cell_type": "code",
   "execution_count": 48,
   "id": "dd6631c2-508f-4c9b-adb9-e95bc2f02368",
   "metadata": {
    "scrolled": true
   },
   "outputs": [
    {
     "data": {
      "text/plain": [
       "open                    0\n",
       "high                    0\n",
       "low                     0\n",
       "close                   0\n",
       "volume                  0\n",
       "month                   0\n",
       "day                     0\n",
       "weekday                 0\n",
       "hour                    0\n",
       "hour_sin                0\n",
       "hour_cos                0\n",
       "weekday_sin             0\n",
       "weekday_cos             0\n",
       "trend                   0\n",
       "seasonal                0\n",
       "residual                0\n",
       "trend_lag_1             0\n",
       "seasonal_lag_1          0\n",
       "residual_lag_1          0\n",
       "trend_lag_2             0\n",
       "seasonal_lag_2          0\n",
       "residual_lag_2          0\n",
       "trend_lag_3             0\n",
       "seasonal_lag_3          0\n",
       "residual_lag_3          0\n",
       "trend_rolling_mean      0\n",
       "residual_rolling_std    0\n",
       "close_trend_diff        0\n",
       "close_seasonal_diff     0\n",
       "close_roll_mean_6       0\n",
       "close_roll_std_6        0\n",
       "close_roll_mean_12      0\n",
       "close_roll_std_12       0\n",
       "close_roll_mean_24      0\n",
       "close_roll_std_24       0\n",
       "volume_roll_mean_6      0\n",
       "volume_roll_std_6       0\n",
       "volume_roll_mean_12     0\n",
       "volume_roll_std_12      0\n",
       "volume_roll_mean_24     0\n",
       "volume_roll_std_24      0\n",
       "lag_1                   0\n",
       "lag_2                   0\n",
       "lag_3                   0\n",
       "lag_9                   0\n",
       "lag_13                  0\n",
       "lag_16                  0\n",
       "lag_30                  0\n",
       "lag_56                  0\n",
       "lag_67                  0\n",
       "lag_70                  0\n",
       "RSI                     0\n",
       "EMA12                   0\n",
       "EMA26                   0\n",
       "MACD                    0\n",
       "Signal_Line             0\n",
       "SMA                     0\n",
       "EMA                     0\n",
       "target                  0\n",
       "dtype: int64"
      ]
     },
     "execution_count": 48,
     "metadata": {},
     "output_type": "execute_result"
    }
   ],
   "source": [
    "btc_price_data_1_year.isnull().sum()"
   ]
  },
  {
   "cell_type": "code",
   "execution_count": 49,
   "id": "c58e2456-e6d6-4baa-a7fe-d00ee127c382",
   "metadata": {},
   "outputs": [
    {
     "data": {
      "text/plain": [
       "Index(['open', 'high', 'low', 'close', 'volume', 'month', 'day', 'weekday',\n",
       "       'hour', 'hour_sin', 'hour_cos', 'weekday_sin', 'weekday_cos', 'trend',\n",
       "       'seasonal', 'residual', 'trend_lag_1', 'seasonal_lag_1',\n",
       "       'residual_lag_1', 'trend_lag_2', 'seasonal_lag_2', 'residual_lag_2',\n",
       "       'trend_lag_3', 'seasonal_lag_3', 'residual_lag_3', 'trend_rolling_mean',\n",
       "       'residual_rolling_std', 'close_trend_diff', 'close_seasonal_diff',\n",
       "       'close_roll_mean_6', 'close_roll_std_6', 'close_roll_mean_12',\n",
       "       'close_roll_std_12', 'close_roll_mean_24', 'close_roll_std_24',\n",
       "       'volume_roll_mean_6', 'volume_roll_std_6', 'volume_roll_mean_12',\n",
       "       'volume_roll_std_12', 'volume_roll_mean_24', 'volume_roll_std_24',\n",
       "       'lag_1', 'lag_2', 'lag_3', 'lag_9', 'lag_13', 'lag_16', 'lag_30',\n",
       "       'lag_56', 'lag_67', 'lag_70', 'RSI', 'EMA12', 'EMA26', 'MACD',\n",
       "       'Signal_Line', 'SMA', 'EMA', 'target'],\n",
       "      dtype='object')"
      ]
     },
     "execution_count": 49,
     "metadata": {},
     "output_type": "execute_result"
    }
   ],
   "source": [
    "btc_price_data_1_year.columns"
   ]
  },
  {
   "cell_type": "markdown",
   "id": "eb624c7d-ef43-4800-adb9-8cd707375486",
   "metadata": {},
   "source": [
    "## 8. Backtesting"
   ]
  },
  {
   "cell_type": "markdown",
   "id": "07f37153-7787-4673-a720-9709a81eed14",
   "metadata": {},
   "source": [
    "Backtesting a trading strategy involves simulating how it would have performed historically based on past data. This process helps to evaluate the effectiveness of the strategy before deploying it in real-time trading."
   ]
  },
  {
   "cell_type": "markdown",
   "id": "30041511-d349-45d1-81bb-2d1821de3ceb",
   "metadata": {},
   "source": [
    "We will follow these steps to backtest our trading strategy:\n",
    "\n",
    "1. **Implement the Strategy in Python**\n",
    "   - Calculate signals for Buy, Sell, or Hold based on the strategy logic.\n",
    "\n",
    "2. **Simulate Trades**\n",
    "   - Loop through the historical data and simulate trades by applying the defined rules.\n",
    "\n",
    "3. **Evaluate Performance**\n",
    "   - Calculate key metrics:\n",
    "     - **Total Return**: Overall profit or loss as a percentage of initial capital.\n",
    "\n",
    "4. **Plot equity curves and drawdown charts**\n"
   ]
  },
  {
   "cell_type": "code",
   "execution_count": 50,
   "id": "39ef24aa-ae0a-4043-8a08-65467c1e130c",
   "metadata": {
    "scrolled": true
   },
   "outputs": [],
   "source": [
    "# # Backtest the strategy\n",
    "# def backtest_with_plot(data, initial_balance=1000):\n",
    "#     # print(f\"Initial Balance: ${initial_balance:.2f}\")\n",
    "    \n",
    "#     balance = initial_balance\n",
    "#     position = 0  # Number of Bitcoin held\n",
    "#     balance_history = [initial_balance]  # Track balance over time\n",
    "    \n",
    "#     for i in range(1, len(data)):\n",
    "#         if data['target'].iloc[i] == 1 and balance > 0:  # Buy signal\n",
    "#             #print(\"balance before Buy: \", balance)\n",
    "#             amount_to_buy = balance * 0.1\n",
    "#             #print(\"amount_to_buy: \", amount_to_buy)\n",
    "#             #print(\"price_buy: \", data['close'].iloc[i])\n",
    "\n",
    "#             position = amount_to_buy / data['close'].iloc[i]\n",
    "#             balance = balance - amount_to_buy\n",
    "#             #print(\"Buy position: \", position)\n",
    "#             #print(\"balance after Buy: \", balance)\n",
    "#         elif data['target'].iloc[i] == 2 and position > 0:  # Sell signal\n",
    "#             #print(\"position before Sell: \", position)\n",
    "#             #print(\"balance before Sell: \", balance)\n",
    "#             amount_to_sell = position * 0.1\n",
    "#             #print(\"amount_to_sell: \", amount_to_sell)\n",
    "            \n",
    "#             #print(\"price_sell: \", data['close'].iloc[i])\n",
    "#             balance = balance + amount_to_sell * data['close'].iloc[i]\n",
    "#             position = position - amount_to_sell\n",
    "#             #print(\"balance after Sell: \", balance)\n",
    "#         # Record the current balance (including current position value)\n",
    "#         current_balance = balance + (position * data['close'].iloc[i])\n",
    "#         balance_history.append(current_balance)\n",
    "    \n",
    "#     # Final portfolio value\n",
    "#     final_balance = balance + (position * data['close'].iloc[-1])\n",
    "#     # print(f\"Final Balance: ${final_balance:.2f}\")\n",
    "\n",
    "#     # Plot the balance history\n",
    "#     plt.figure(figsize=(12, 6))\n",
    "#     plt.plot(balance_history, label=\"Balance Over Time\")\n",
    "#     plt.title(\"Balance Movement\")\n",
    "#     plt.xlabel(\"Time Step\")\n",
    "#     plt.ylabel(\"Balance ($)\")\n",
    "#     plt.legend()\n",
    "#     plt.grid()\n",
    "#     plt.show()\n",
    "\n",
    "#     return final_balance\n",
    "\n",
    "# timeframe = '1h'\n",
    "# results = {}\n",
    "# initial_balance = 1000\n",
    "# final_balance = backtest_with_plot(btc_price_data_1_year, initial_balance)\n",
    "# results[timeframe] = final_balance\n",
    "\n",
    "# # Print results\n",
    "# print(f\"Initial Balance with {timeframe} data: ${initial_balance:.2f}\")\n",
    "\n",
    "# for timeframe, balance in results.items():\n",
    "#     print(f\"Final Balance with {timeframe} data: ${balance:.2f}\")\n",
    "#     final_return = ((balance - 1000) / 1000) * 100\n",
    "#     print(f\"Final Return with {timeframe} data: {final_return:.2f}[%]\")\n"
   ]
  },
  {
   "cell_type": "code",
   "execution_count": 51,
   "id": "c9dae522-2c92-41bf-86c3-f2b69f87741a",
   "metadata": {},
   "outputs": [
    {
     "data": {
      "image/png": "[encoded data removed]",
      "text/plain": [
       "<Figure size 1200x600 with 1 Axes>"
      ]
     },
     "metadata": {},
     "output_type": "display_data"
    },
    {
     "name": "stdout",
     "output_type": "stream",
     "text": [
      "Initial Balance with 1h data: $1000.00\n",
      "Final Balance with 1h data: $1000.00\n",
      "Final Return with 1h data: 0.00[%]\n"
     ]
    }
   ],
   "source": [
    "# Backtest the strategy\n",
    "def backtest_with_plot(data, initial_balance=1000):\n",
    "    # print(f\"Initial Balance: ${initial_balance:.2f}\")\n",
    "    \n",
    "    balance = initial_balance\n",
    "    position = 0  # Number of Bitcoin held\n",
    "    balance_history = [initial_balance]  # Track balance over time\n",
    "    \n",
    "    for i in range(1, len(data)):\n",
    "        if data['target'].iloc[i] == 1 and balance > 0:  # Buy signal\n",
    "            position = balance / data['close'].iloc[i]\n",
    "            balance = 0\n",
    "        elif data['target'].iloc[i] == -1 and position > 0:  # Sell signal\n",
    "            balance = position * data['close'].iloc[i]\n",
    "            position = 0\n",
    "        # Record the current balance (including current position value)\n",
    "        current_balance = balance + (position * data['close'].iloc[i])\n",
    "        balance_history.append(current_balance)\n",
    "    \n",
    "    # Final portfolio value\n",
    "    final_balance = balance + (position * data['close'].iloc[-1])\n",
    "    # print(f\"Final Balance: ${final_balance:.2f}\")\n",
    "\n",
    "    # Plot the balance history\n",
    "    plt.figure(figsize=(12, 6))\n",
    "    plt.plot(balance_history, label=\"Balance Over Time\")\n",
    "    plt.title(\"Balance Movement\")\n",
    "    plt.xlabel(\"Time Step\")\n",
    "    plt.ylabel(\"Balance ($)\")\n",
    "    plt.legend()\n",
    "    plt.grid()\n",
    "    plt.show()\n",
    "\n",
    "    return final_balance\n",
    "\n",
    "timeframe = '1h'\n",
    "results = {}\n",
    "initial_balance = 1000\n",
    "final_balance = backtest_with_plot(btc_price_data_1_year, initial_balance)\n",
    "results[timeframe] = final_balance\n",
    "\n",
    "# Print results\n",
    "print(f\"Initial Balance with {timeframe} data: ${initial_balance:.2f}\")\n",
    "\n",
    "for timeframe, balance in results.items():\n",
    "    print(f\"Final Balance with {timeframe} data: ${balance:.2f}\")\n",
    "    final_return = ((balance - 1000) / 1000) * 100\n",
    "    print(f\"Final Return with {timeframe} data: {final_return:.2f}[%]\")"
   ]
  },
  {
   "cell_type": "code",
   "execution_count": 52,
   "id": "431ae3d3-3b1a-4495-b840-8047cc83ab6a",
   "metadata": {},
   "outputs": [
    {
     "data": {
      "text/plain": [
       "target\n",
       "64000.00     20\n",
       "63000.00     17\n",
       "67000.00     17\n",
       "62800.00     15\n",
       "64200.00     15\n",
       "             ..\n",
       "67093.28      1\n",
       "66956.47      1\n",
       "66912.31      1\n",
       "66883.44      1\n",
       "103889.08     1\n",
       "Name: count, Length: 473015, dtype: int64"
      ]
     },
     "execution_count": 52,
     "metadata": {},
     "output_type": "execute_result"
    }
   ],
   "source": [
    "btc_price_data_1_year.target.value_counts()"
   ]
  },
  {
   "cell_type": "markdown",
   "id": "eb798dc2-aeaa-4c74-93fb-faa92a8f9a56",
   "metadata": {},
   "source": [
    "**Interpretation of the Backtest**\n",
    "\n",
    "We have tested our trading strategy for the whole year with **1000** dollars initial capital. The **target** variable has **1366 buy signals** and **1482 sell signals**. The remaining **524.266** values are **0 (do nothing)**.\n",
    "\n",
    "We always invested everything when we got a buy signal and had money and sold everything when we got a sell signal and had Bitcoin.\n",
    "At the end of the backtest we had **\\$2694,87** or **\\$1694,87** (**169,49%**) profit."
   ]
  },
  {
   "cell_type": "markdown",
   "id": "85cd97ea-8e6a-4f8b-a9ef-c70a0abf6347",
   "metadata": {},
   "source": [
    "## 9. Data Preprocessing for the Predictive Model"
   ]
  },
  {
   "cell_type": "markdown",
   "id": "85c8cd0e-c9fa-464d-a041-fc0824387d44",
   "metadata": {},
   "source": [
    "### 9.1. Split the Dataset"
   ]
  },
  {
   "cell_type": "markdown",
   "id": "9e5235c5-88e1-4206-bfe7-63c1cb2e23d3",
   "metadata": {},
   "source": [
    "Typically, for time series, the data is split chronologically to avoid data leakage. For example:\n",
    "- **Training set**: 70% of the data (used for training the model).\n",
    "- **Validation set**: 15% of the data (used for hyperparameter tuning).\n",
    "- **Test set**: 15% of the data (used to evaluate final performance)."
   ]
  },
  {
   "cell_type": "code",
   "execution_count": 53,
   "id": "731432b4-ae71-456e-9bc8-1a3e0ecd6daa",
   "metadata": {},
   "outputs": [
    {
     "name": "stdout",
     "output_type": "stream",
     "text": [
      "Training set: 368979 rows\n",
      "Validation set: 79067 rows\n",
      "Test set: 79068 rows\n"
     ]
    }
   ],
   "source": [
    "# Sort the dataset by time to maintain chronological order\n",
    "# btc_price_data_1_year = btc_price_data_1_year.sort_values(by='timestamp')  # Replace 'timestamp' with your time column if named differently\n",
    "\n",
    "# Split the dataset into train, validation, and test sets\n",
    "train_size = 0.7\n",
    "val_size = 0.15\n",
    "test_size = 0.15\n",
    "\n",
    "# Compute split indices\n",
    "train_idx = int(len(btc_price_data_1_year) * train_size)\n",
    "val_idx = int(len(btc_price_data_1_year) * (train_size + val_size))\n",
    "\n",
    "# Split the data\n",
    "btc_price_data_1_year_train = btc_price_data_1_year[:train_idx]\n",
    "btc_price_data_1_year_val = btc_price_data_1_year[train_idx:val_idx]\n",
    "btc_price_data_1_year_test = btc_price_data_1_year[val_idx:]\n",
    "\n",
    "print(f\"Training set: {len(btc_price_data_1_year_train)} rows\")\n",
    "print(f\"Validation set: {len(btc_price_data_1_year_val)} rows\")\n",
    "print(f\"Test set: {len(btc_price_data_1_year_test)} rows\")"
   ]
  },
  {
   "cell_type": "code",
   "execution_count": 54,
   "id": "d1072468-0b8a-41a3-a0c5-4ff82b47a3cd",
   "metadata": {},
   "outputs": [],
   "source": [
    "def plot_splitted_market_data(dates, prices, labels, title):\n",
    "    plt.figure(figsize=(14, 7))\n",
    "    \n",
    "    ax = plt.gca()\n",
    "    ax.set_facecolor('gainsboro')\n",
    "    ax.xaxis.grid(True, color='white')\n",
    "    ax.yaxis.grid(True, color='white')\n",
    "\n",
    "    # x_lim_start = dates[0][0]\n",
    "    # x_lim_end = dates[1][len(dates[1]) - 1]\n",
    "    # # x_lim_end = dates[len(dates[0]) + len(dates[1]) - 1]\n",
    "    # # plt.xlim(x_lim_start, x_lim_end)\n",
    "    # ax.set_xlim(xmin=x_lim_start,xmax=x_lim_end)\n",
    "    \n",
    "    plt.plot(dates[0], prices[0], label ='Train Data')\n",
    "    plt.plot(dates[1], prices[1], label ='Validation Data')\n",
    "    plt.plot(dates[2], prices[2], label ='Test Data')\n",
    "    \n",
    "    plt.xlabel(labels[0])\n",
    "    plt.ylabel(labels[1])\n",
    "\n",
    "    plt.title(title)\n",
    "    plt.legend()\n",
    "    plt.show()"
   ]
  },
  {
   "cell_type": "code",
   "execution_count": 55,
   "id": "d4bb8863-1939-447e-a593-5a4164ae18c4",
   "metadata": {},
   "outputs": [
    {
     "data": {
      "image/png": "[encoded data removed]",
      "text/plain": [
       "<Figure size 1400x700 with 1 Axes>"
      ]
     },
     "metadata": {},
     "output_type": "display_data"
    }
   ],
   "source": [
    "dates_train = btc_price_data_1_year_train.index\n",
    "prices_close_train = btc_price_data_1_year_train.close\n",
    "\n",
    "dates_val = btc_price_data_1_year_val.index\n",
    "prices_close_val = btc_price_data_1_year_val.close\n",
    "\n",
    "dates_test = btc_price_data_1_year_test.index\n",
    "prices_close_test = btc_price_data_1_year_test.close\n",
    "\n",
    "dates = [dates_train, dates_val, dates_test]\n",
    "prices_close_btc = [prices_close_train, prices_close_val, prices_close_test]\n",
    "\n",
    "title_btc = 'Data Split (Jan 2024 - Jan 2025)'\n",
    "\n",
    "labels = ['Date', 'Price [USD]']\n",
    "\n",
    "plot_splitted_market_data(dates, prices_close_btc, labels, title_btc)"
   ]
  },
  {
   "cell_type": "markdown",
   "id": "2f37587a-20c9-4f57-ac85-c69f5d068762",
   "metadata": {},
   "source": [
    "### 9.2. Scale Features"
   ]
  },
  {
   "cell_type": "markdown",
   "id": "75567bdc-5744-472b-984e-d5c4b599cca1",
   "metadata": {},
   "source": [
    "1. Define the features to scale (numerical columns).\n",
    "2. Fit the scaler on the **training set** only.\n",
    "3. Apply the transformation to training, validation, and test sets."
   ]
  },
  {
   "cell_type": "code",
   "execution_count": 56,
   "id": "f7ae6fd7-d289-4a72-b4a9-a4f7285da5d6",
   "metadata": {},
   "outputs": [],
   "source": [
    "# Exclude already normalized features like 'hour_sin'/'hour_cos'\n",
    "features_to_exclude = ['hour_sin', 'hour_cos', 'weekday_sin', 'weekday_cos']\n",
    "# Exclude already normalized features like 'hour_sin'/'hour_cos' and the 'target'('target' is categorical variable)\n",
    "# features_to_exclude = ['hour_sin', 'hour_cos', 'weekday_sin', 'weekday_cos', 'target']\n",
    "\n",
    "# Select the remaining columns\n",
    "features_to_scale = [col for col in btc_price_data_1_year.columns if col not in features_to_exclude]\n",
    "\n",
    "# Initialize the MinMaxScaler\n",
    "scaler = MinMaxScaler()\n",
    "\n",
    "# Fit the scaler on the training set and transform all sets\n",
    "btc_price_data_1_year_train.loc[:, features_to_scale] = scaler.fit_transform(btc_price_data_1_year_train[features_to_scale])\n",
    "btc_price_data_1_year_val.loc[:, features_to_scale] = scaler.transform(btc_price_data_1_year_val[features_to_scale])\n",
    "btc_price_data_1_year_test.loc[:, features_to_scale] = scaler.transform(btc_price_data_1_year_test[features_to_scale])"
   ]
  },
  {
   "cell_type": "markdown",
   "id": "ebb1b947-38c2-4af5-95e3-02918825cec1",
   "metadata": {},
   "source": [
    "### 9.3. Prepare Features and Targets"
   ]
  },
  {
   "cell_type": "markdown",
   "id": "d4e083b8-fb56-4f85-a8cd-06db4de18b86",
   "metadata": {},
   "source": [
    "Separate the features and target variables for our LSTM model."
   ]
  },
  {
   "cell_type": "code",
   "execution_count": 57,
   "id": "16bdafe5-7fe4-4314-a7ba-f4ce15cd3ee3",
   "metadata": {},
   "outputs": [
    {
     "name": "stdout",
     "output_type": "stream",
     "text": [
      "X_train shape: (368979, 58), y_train shape: (368979,)\n",
      "X_val shape: (79067, 58), y_val shape: (79067,)\n",
      "X_test shape: (79068, 58), y_test shape: (79068,)\n"
     ]
    }
   ],
   "source": [
    "# Define features and target\n",
    "# not_scaled_features = [x for x in features_to_exclude if x != 'target']\n",
    "# Remove the 'target' feature from 'features_to_scale'\n",
    "features_to_scale_cleaned = [x for x in features_to_scale if x != 'target']\n",
    "\n",
    "X_train = btc_price_data_1_year_train[features_to_scale_cleaned + features_to_exclude].values\n",
    "y_train = btc_price_data_1_year_train['target'].values\n",
    "\n",
    "X_val = btc_price_data_1_year_val[features_to_scale_cleaned + features_to_exclude].values\n",
    "y_val = btc_price_data_1_year_val['target'].values\n",
    "\n",
    "X_test = btc_price_data_1_year_test[features_to_scale_cleaned + features_to_exclude].values\n",
    "y_test = btc_price_data_1_year_test['target'].values\n",
    "\n",
    "print(f\"X_train shape: {X_train.shape}, y_train shape: {y_train.shape}\")\n",
    "print(f\"X_val shape: {X_val.shape}, y_val shape: {y_val.shape}\")\n",
    "print(f\"X_test shape: {X_test.shape}, y_test shape: {y_test.shape}\")"
   ]
  },
  {
   "cell_type": "markdown",
   "id": "076c188d-8cf6-42b6-a9f8-eab8b7a6f08f",
   "metadata": {},
   "source": [
    "### 9.4. Reshape Data for LSTM"
   ]
  },
  {
   "cell_type": "markdown",
   "id": "a1e30d8a-1e59-4b5b-ae0e-f0ccc6e9130a",
   "metadata": {},
   "source": [
    "LSTMs require input data in the shape of `(samples, sequence_length, num_features)`. For time series data, you typically convert the flat features into sequences."
   ]
  },
  {
   "cell_type": "code",
   "execution_count": 58,
   "id": "9a78f799-09bf-467d-bb74-bb1f74730338",
   "metadata": {},
   "outputs": [],
   "source": [
    "def create_sequences(X, y, timesteps):\n",
    "    X_seq, y_seq = [], []\n",
    "    for i in range(timesteps, len(X)):\n",
    "        X_seq.append(X[i-timesteps:i])  # Last `timesteps` rows\n",
    "        y_seq.append(y[i])             # Corresponding target\n",
    "    return np.array(X_seq), np.array(y_seq)"
   ]
  },
  {
   "cell_type": "code",
   "execution_count": 59,
   "id": "38ec821d-7cb1-496a-ab27-8ada8bb8712e",
   "metadata": {},
   "outputs": [
    {
     "name": "stdout",
     "output_type": "stream",
     "text": [
      "X_train_seq shape: (368955, 24, 58), y_train_seq shape: (368955,)\n",
      "X_val_seq shape: (79043, 24, 58), y_val_seq shape: (79043,)\n",
      "X_test_seq shape: (79044, 24, 58), y_test_seq shape: (79044,)\n"
     ]
    }
   ],
   "source": [
    "# Define the number of timesteps (sequence length) for LSTM\n",
    "timesteps = 24  # Using the last 24 hours to predict the target\n",
    "\n",
    "# Create sequences for training, validation, and test sets\n",
    "X_train_seq, y_train_seq = create_sequences(X_train, y_train, timesteps)\n",
    "X_val_seq, y_val_seq = create_sequences(X_val, y_val, timesteps)\n",
    "X_test_seq, y_test_seq = create_sequences(X_test, y_test, timesteps)\n",
    "\n",
    "print(f\"X_train_seq shape: {X_train_seq.shape}, y_train_seq shape: {y_train_seq.shape}\")\n",
    "print(f\"X_val_seq shape: {X_val_seq.shape}, y_val_seq shape: {y_val_seq.shape}\")\n",
    "print(f\"X_test_seq shape: {X_test_seq.shape}, y_test_seq shape: {y_test_seq.shape}\")"
   ]
  },
  {
   "cell_type": "markdown",
   "id": "6dc13a27-6d30-4ceb-942e-89a67df98061",
   "metadata": {},
   "source": [
    "## 10. Define Model Architecture"
   ]
  },
  {
   "cell_type": "markdown",
   "id": "f21f05bb-2d58-480b-bbd9-5f128af0fa36",
   "metadata": {},
   "source": [
    "### 10.1. Model Definition"
   ]
  },
  {
   "cell_type": "markdown",
   "id": "c74f822b-4db0-4843-88ec-17969f07c5c1",
   "metadata": {},
   "source": [
    "### **TODO** - create a model description\n",
    "Let’s use a hybrid CNN + LSTM architecture for time-series forecasting."
   ]
  },
  {
   "cell_type": "code",
   "execution_count": 60,
   "id": "fe5238c3-6d94-4a86-9458-5aa1ea325208",
   "metadata": {},
   "outputs": [],
   "source": [
    "def build_model(sequence_length, num_features):\n",
    "    # Input layer\n",
    "    input_layer = Input(shape=(sequence_length, num_features))\n",
    "    \n",
    "    # CNN for feature extraction\n",
    "    cnn_layer = Conv1D(filters = 32, kernel_size = 3, activation='relu')(input_layer)\n",
    "    cnn_layer = MaxPooling1D(pool_size = 2)(cnn_layer)\n",
    "    cnn_layer = Flatten()(cnn_layer)\n",
    "    \n",
    "    # LSTM for temporal dependencies\n",
    "    lstm_layer = LSTM(64, return_sequences=False)(input_layer)\n",
    "    \n",
    "    # Combine CNN and LSTM outputs\n",
    "    combined = Concatenate()([cnn_layer, lstm_layer])\n",
    "    \n",
    "    # Fully connected layers\n",
    "    dense_layer = Dense(128, activation='relu')(combined)\n",
    "    dense_layer = Dropout(0.2)(dense_layer)\n",
    "    dense_layer = Dense(64, activation='relu')(dense_layer)\n",
    "    \n",
    "    # Output layer (regression)\n",
    "    output_layer = Dense(1, activation='linear')(dense_layer)\n",
    "    \n",
    "    # Build and compile the model\n",
    "    model = tf.keras.Model(inputs=input_layer, outputs=output_layer)\n",
    "    model.compile(optimizer='adam', loss='mse', metrics=['mae'])\n",
    "    return model"
   ]
  },
  {
   "cell_type": "markdown",
   "id": "aa367c95-596c-4e16-93b4-d3fab476f23e",
   "metadata": {},
   "source": [
    "### 10.2. Initialize the Model"
   ]
  },
  {
   "cell_type": "code",
   "execution_count": 61,
   "id": "7904b848-baac-4a0b-b5ab-d9ff78f19faf",
   "metadata": {},
   "outputs": [
    {
     "data": {
      "text/html": [
       "<pre style=\"white-space:pre;overflow-x:auto;line-height:normal;font-family:Menlo,'DejaVu Sans Mono',consolas,'Courier New',monospace\"><span style=\"font-weight: bold\">Model: \"functional\"</span>\n",
       "</pre>\n"
      ],
      "text/plain": [
       "\u001b[1mModel: \"functional\"\u001b[0m\n"
      ]
     },
     "metadata": {},
     "output_type": "display_data"
    },
    {
     "data": {
      "text/html": [
       "<pre style=\"white-space:pre;overflow-x:auto;line-height:normal;font-family:Menlo,'DejaVu Sans Mono',consolas,'Courier New',monospace\">┏━━━━━━━━━━━━━━━━━━━━━━━━━━━━━━━┳━━━━━━━━━━━━━━━━━━━━━━━━━━━┳━━━━━━━━━━━━━━━━━┳━━━━━━━━━━━━━━━━━━━━━━━━━━━━┓\n",
       "┃<span style=\"font-weight: bold\"> Layer (type)                  </span>┃<span style=\"font-weight: bold\"> Output Shape              </span>┃<span style=\"font-weight: bold\">         Param # </span>┃<span style=\"font-weight: bold\"> Connected to               </span>┃\n",
       "┡━━━━━━━━━━━━━━━━━━━━━━━━━━━━━━━╇━━━━━━━━━━━━━━━━━━━━━━━━━━━╇━━━━━━━━━━━━━━━━━╇━━━━━━━━━━━━━━━━━━━━━━━━━━━━┩\n",
       "│ input_layer (<span style=\"color: #0087ff; text-decoration-color: #0087ff\">InputLayer</span>)      │ (<span style=\"color: #00d7ff; text-decoration-color: #00d7ff\">None</span>, <span style=\"color: #00af00; text-decoration-color: #00af00\">24</span>, <span style=\"color: #00af00; text-decoration-color: #00af00\">58</span>)            │               <span style=\"color: #00af00; text-decoration-color: #00af00\">0</span> │ -                          │\n",
       "├───────────────────────────────┼───────────────────────────┼─────────────────┼────────────────────────────┤\n",
       "│ conv1d (<span style=\"color: #0087ff; text-decoration-color: #0087ff\">Conv1D</span>)               │ (<span style=\"color: #00d7ff; text-decoration-color: #00d7ff\">None</span>, <span style=\"color: #00af00; text-decoration-color: #00af00\">22</span>, <span style=\"color: #00af00; text-decoration-color: #00af00\">32</span>)            │           <span style=\"color: #00af00; text-decoration-color: #00af00\">5,600</span> │ input_layer[<span style=\"color: #00af00; text-decoration-color: #00af00\">0</span>][<span style=\"color: #00af00; text-decoration-color: #00af00\">0</span>]          │\n",
       "├───────────────────────────────┼───────────────────────────┼─────────────────┼────────────────────────────┤\n",
       "│ max_pooling1d (<span style=\"color: #0087ff; text-decoration-color: #0087ff\">MaxPooling1D</span>)  │ (<span style=\"color: #00d7ff; text-decoration-color: #00d7ff\">None</span>, <span style=\"color: #00af00; text-decoration-color: #00af00\">11</span>, <span style=\"color: #00af00; text-decoration-color: #00af00\">32</span>)            │               <span style=\"color: #00af00; text-decoration-color: #00af00\">0</span> │ conv1d[<span style=\"color: #00af00; text-decoration-color: #00af00\">0</span>][<span style=\"color: #00af00; text-decoration-color: #00af00\">0</span>]               │\n",
       "├───────────────────────────────┼───────────────────────────┼─────────────────┼────────────────────────────┤\n",
       "│ flatten (<span style=\"color: #0087ff; text-decoration-color: #0087ff\">Flatten</span>)             │ (<span style=\"color: #00d7ff; text-decoration-color: #00d7ff\">None</span>, <span style=\"color: #00af00; text-decoration-color: #00af00\">352</span>)               │               <span style=\"color: #00af00; text-decoration-color: #00af00\">0</span> │ max_pooling1d[<span style=\"color: #00af00; text-decoration-color: #00af00\">0</span>][<span style=\"color: #00af00; text-decoration-color: #00af00\">0</span>]        │\n",
       "├───────────────────────────────┼───────────────────────────┼─────────────────┼────────────────────────────┤\n",
       "│ lstm (<span style=\"color: #0087ff; text-decoration-color: #0087ff\">LSTM</span>)                   │ (<span style=\"color: #00d7ff; text-decoration-color: #00d7ff\">None</span>, <span style=\"color: #00af00; text-decoration-color: #00af00\">64</span>)                │          <span style=\"color: #00af00; text-decoration-color: #00af00\">31,488</span> │ input_layer[<span style=\"color: #00af00; text-decoration-color: #00af00\">0</span>][<span style=\"color: #00af00; text-decoration-color: #00af00\">0</span>]          │\n",
       "├───────────────────────────────┼───────────────────────────┼─────────────────┼────────────────────────────┤\n",
       "│ concatenate (<span style=\"color: #0087ff; text-decoration-color: #0087ff\">Concatenate</span>)     │ (<span style=\"color: #00d7ff; text-decoration-color: #00d7ff\">None</span>, <span style=\"color: #00af00; text-decoration-color: #00af00\">416</span>)               │               <span style=\"color: #00af00; text-decoration-color: #00af00\">0</span> │ flatten[<span style=\"color: #00af00; text-decoration-color: #00af00\">0</span>][<span style=\"color: #00af00; text-decoration-color: #00af00\">0</span>], lstm[<span style=\"color: #00af00; text-decoration-color: #00af00\">0</span>][<span style=\"color: #00af00; text-decoration-color: #00af00\">0</span>]  │\n",
       "├───────────────────────────────┼───────────────────────────┼─────────────────┼────────────────────────────┤\n",
       "│ dense (<span style=\"color: #0087ff; text-decoration-color: #0087ff\">Dense</span>)                 │ (<span style=\"color: #00d7ff; text-decoration-color: #00d7ff\">None</span>, <span style=\"color: #00af00; text-decoration-color: #00af00\">128</span>)               │          <span style=\"color: #00af00; text-decoration-color: #00af00\">53,376</span> │ concatenate[<span style=\"color: #00af00; text-decoration-color: #00af00\">0</span>][<span style=\"color: #00af00; text-decoration-color: #00af00\">0</span>]          │\n",
       "├───────────────────────────────┼───────────────────────────┼─────────────────┼────────────────────────────┤\n",
       "│ dropout (<span style=\"color: #0087ff; text-decoration-color: #0087ff\">Dropout</span>)             │ (<span style=\"color: #00d7ff; text-decoration-color: #00d7ff\">None</span>, <span style=\"color: #00af00; text-decoration-color: #00af00\">128</span>)               │               <span style=\"color: #00af00; text-decoration-color: #00af00\">0</span> │ dense[<span style=\"color: #00af00; text-decoration-color: #00af00\">0</span>][<span style=\"color: #00af00; text-decoration-color: #00af00\">0</span>]                │\n",
       "├───────────────────────────────┼───────────────────────────┼─────────────────┼────────────────────────────┤\n",
       "│ dense_1 (<span style=\"color: #0087ff; text-decoration-color: #0087ff\">Dense</span>)               │ (<span style=\"color: #00d7ff; text-decoration-color: #00d7ff\">None</span>, <span style=\"color: #00af00; text-decoration-color: #00af00\">64</span>)                │           <span style=\"color: #00af00; text-decoration-color: #00af00\">8,256</span> │ dropout[<span style=\"color: #00af00; text-decoration-color: #00af00\">0</span>][<span style=\"color: #00af00; text-decoration-color: #00af00\">0</span>]              │\n",
       "├───────────────────────────────┼───────────────────────────┼─────────────────┼────────────────────────────┤\n",
       "│ dense_2 (<span style=\"color: #0087ff; text-decoration-color: #0087ff\">Dense</span>)               │ (<span style=\"color: #00d7ff; text-decoration-color: #00d7ff\">None</span>, <span style=\"color: #00af00; text-decoration-color: #00af00\">1</span>)                 │              <span style=\"color: #00af00; text-decoration-color: #00af00\">65</span> │ dense_1[<span style=\"color: #00af00; text-decoration-color: #00af00\">0</span>][<span style=\"color: #00af00; text-decoration-color: #00af00\">0</span>]              │\n",
       "└───────────────────────────────┴───────────────────────────┴─────────────────┴────────────────────────────┘\n",
       "</pre>\n"
      ],
      "text/plain": [
       "┏━━━━━━━━━━━━━━━━━━━━━━━━━━━━━━━┳━━━━━━━━━━━━━━━━━━━━━━━━━━━┳━━━━━━━━━━━━━━━━━┳━━━━━━━━━━━━━━━━━━━━━━━━━━━━┓\n",
       "┃\u001b[1m \u001b[0m\u001b[1mLayer (type)                 \u001b[0m\u001b[1m \u001b[0m┃\u001b[1m \u001b[0m\u001b[1mOutput Shape             \u001b[0m\u001b[1m \u001b[0m┃\u001b[1m \u001b[0m\u001b[1m        Param #\u001b[0m\u001b[1m \u001b[0m┃\u001b[1m \u001b[0m\u001b[1mConnected to              \u001b[0m\u001b[1m \u001b[0m┃\n",
       "┡━━━━━━━━━━━━━━━━━━━━━━━━━━━━━━━╇━━━━━━━━━━━━━━━━━━━━━━━━━━━╇━━━━━━━━━━━━━━━━━╇━━━━━━━━━━━━━━━━━━━━━━━━━━━━┩\n",
       "│ input_layer (\u001b[38;5;33mInputLayer\u001b[0m)      │ (\u001b[38;5;45mNone\u001b[0m, \u001b[38;5;34m24\u001b[0m, \u001b[38;5;34m58\u001b[0m)            │               \u001b[38;5;34m0\u001b[0m │ -                          │\n",
       "├───────────────────────────────┼───────────────────────────┼─────────────────┼────────────────────────────┤\n",
       "│ conv1d (\u001b[38;5;33mConv1D\u001b[0m)               │ (\u001b[38;5;45mNone\u001b[0m, \u001b[38;5;34m22\u001b[0m, \u001b[38;5;34m32\u001b[0m)            │           \u001b[38;5;34m5,600\u001b[0m │ input_layer[\u001b[38;5;34m0\u001b[0m][\u001b[38;5;34m0\u001b[0m]          │\n",
       "├───────────────────────────────┼───────────────────────────┼─────────────────┼────────────────────────────┤\n",
       "│ max_pooling1d (\u001b[38;5;33mMaxPooling1D\u001b[0m)  │ (\u001b[38;5;45mNone\u001b[0m, \u001b[38;5;34m11\u001b[0m, \u001b[38;5;34m32\u001b[0m)            │               \u001b[38;5;34m0\u001b[0m │ conv1d[\u001b[38;5;34m0\u001b[0m][\u001b[38;5;34m0\u001b[0m]               │\n",
       "├───────────────────────────────┼───────────────────────────┼─────────────────┼────────────────────────────┤\n",
       "│ flatten (\u001b[38;5;33mFlatten\u001b[0m)             │ (\u001b[38;5;45mNone\u001b[0m, \u001b[38;5;34m352\u001b[0m)               │               \u001b[38;5;34m0\u001b[0m │ max_pooling1d[\u001b[38;5;34m0\u001b[0m][\u001b[38;5;34m0\u001b[0m]        │\n",
       "├───────────────────────────────┼───────────────────────────┼─────────────────┼────────────────────────────┤\n",
       "│ lstm (\u001b[38;5;33mLSTM\u001b[0m)                   │ (\u001b[38;5;45mNone\u001b[0m, \u001b[38;5;34m64\u001b[0m)                │          \u001b[38;5;34m31,488\u001b[0m │ input_layer[\u001b[38;5;34m0\u001b[0m][\u001b[38;5;34m0\u001b[0m]          │\n",
       "├───────────────────────────────┼───────────────────────────┼─────────────────┼────────────────────────────┤\n",
       "│ concatenate (\u001b[38;5;33mConcatenate\u001b[0m)     │ (\u001b[38;5;45mNone\u001b[0m, \u001b[38;5;34m416\u001b[0m)               │               \u001b[38;5;34m0\u001b[0m │ flatten[\u001b[38;5;34m0\u001b[0m][\u001b[38;5;34m0\u001b[0m], lstm[\u001b[38;5;34m0\u001b[0m][\u001b[38;5;34m0\u001b[0m]  │\n",
       "├───────────────────────────────┼───────────────────────────┼─────────────────┼────────────────────────────┤\n",
       "│ dense (\u001b[38;5;33mDense\u001b[0m)                 │ (\u001b[38;5;45mNone\u001b[0m, \u001b[38;5;34m128\u001b[0m)               │          \u001b[38;5;34m53,376\u001b[0m │ concatenate[\u001b[38;5;34m0\u001b[0m][\u001b[38;5;34m0\u001b[0m]          │\n",
       "├───────────────────────────────┼───────────────────────────┼─────────────────┼────────────────────────────┤\n",
       "│ dropout (\u001b[38;5;33mDropout\u001b[0m)             │ (\u001b[38;5;45mNone\u001b[0m, \u001b[38;5;34m128\u001b[0m)               │               \u001b[38;5;34m0\u001b[0m │ dense[\u001b[38;5;34m0\u001b[0m][\u001b[38;5;34m0\u001b[0m]                │\n",
       "├───────────────────────────────┼───────────────────────────┼─────────────────┼────────────────────────────┤\n",
       "│ dense_1 (\u001b[38;5;33mDense\u001b[0m)               │ (\u001b[38;5;45mNone\u001b[0m, \u001b[38;5;34m64\u001b[0m)                │           \u001b[38;5;34m8,256\u001b[0m │ dropout[\u001b[38;5;34m0\u001b[0m][\u001b[38;5;34m0\u001b[0m]              │\n",
       "├───────────────────────────────┼───────────────────────────┼─────────────────┼────────────────────────────┤\n",
       "│ dense_2 (\u001b[38;5;33mDense\u001b[0m)               │ (\u001b[38;5;45mNone\u001b[0m, \u001b[38;5;34m1\u001b[0m)                 │              \u001b[38;5;34m65\u001b[0m │ dense_1[\u001b[38;5;34m0\u001b[0m][\u001b[38;5;34m0\u001b[0m]              │\n",
       "└───────────────────────────────┴───────────────────────────┴─────────────────┴────────────────────────────┘\n"
      ]
     },
     "metadata": {},
     "output_type": "display_data"
    },
    {
     "data": {
      "text/html": [
       "<pre style=\"white-space:pre;overflow-x:auto;line-height:normal;font-family:Menlo,'DejaVu Sans Mono',consolas,'Courier New',monospace\"><span style=\"font-weight: bold\"> Total params: </span><span style=\"color: #00af00; text-decoration-color: #00af00\">98,785</span> (385.88 KB)\n",
       "</pre>\n"
      ],
      "text/plain": [
       "\u001b[1m Total params: \u001b[0m\u001b[38;5;34m98,785\u001b[0m (385.88 KB)\n"
      ]
     },
     "metadata": {},
     "output_type": "display_data"
    },
    {
     "data": {
      "text/html": [
       "<pre style=\"white-space:pre;overflow-x:auto;line-height:normal;font-family:Menlo,'DejaVu Sans Mono',consolas,'Courier New',monospace\"><span style=\"font-weight: bold\"> Trainable params: </span><span style=\"color: #00af00; text-decoration-color: #00af00\">98,785</span> (385.88 KB)\n",
       "</pre>\n"
      ],
      "text/plain": [
       "\u001b[1m Trainable params: \u001b[0m\u001b[38;5;34m98,785\u001b[0m (385.88 KB)\n"
      ]
     },
     "metadata": {},
     "output_type": "display_data"
    },
    {
     "data": {
      "text/html": [
       "<pre style=\"white-space:pre;overflow-x:auto;line-height:normal;font-family:Menlo,'DejaVu Sans Mono',consolas,'Courier New',monospace\"><span style=\"font-weight: bold\"> Non-trainable params: </span><span style=\"color: #00af00; text-decoration-color: #00af00\">0</span> (0.00 B)\n",
       "</pre>\n"
      ],
      "text/plain": [
       "\u001b[1m Non-trainable params: \u001b[0m\u001b[38;5;34m0\u001b[0m (0.00 B)\n"
      ]
     },
     "metadata": {},
     "output_type": "display_data"
    }
   ],
   "source": [
    "sequence_length = X_train_seq.shape[1]  # Length of the sequences (e.g., 24 hours)\n",
    "num_features = X_train_seq.shape[2]  # Number of features in the dataset\n",
    "\n",
    "model = build_model(sequence_length, num_features)\n",
    "model.summary()"
   ]
  },
  {
   "cell_type": "markdown",
   "id": "aa0ac83b-2456-445f-a47c-381c21855615",
   "metadata": {},
   "source": [
    "### 10.3. Train the Model"
   ]
  },
  {
   "cell_type": "markdown",
   "id": "cda07de9-1bd6-4c2e-bc86-f0e27b616cac",
   "metadata": {},
   "source": [
    "Set up training parameters and callbacks to monitor performance."
   ]
  },
  {
   "cell_type": "markdown",
   "id": "b2d24a20-3f35-4537-8ac1-5fb7045fa305",
   "metadata": {},
   "source": [
    "**Early Stopping** prevents overfitting by stopping training when the validation performance stops improving."
   ]
  },
  {
   "cell_type": "code",
   "execution_count": 62,
   "id": "c3ff36c1-0996-4686-967d-421784f4bec8",
   "metadata": {},
   "outputs": [],
   "source": [
    "early_stopping = EarlyStopping(monitor='val_loss', patience=5, restore_best_weights=True)"
   ]
  },
  {
   "cell_type": "markdown",
   "id": "467d6e45-6496-4ba6-8911-3a382736f3eb",
   "metadata": {},
   "source": [
    "Save the best model"
   ]
  },
  {
   "cell_type": "code",
   "execution_count": 63,
   "id": "4e0ffc1f-f5bd-44d1-8c35-2075c30eb379",
   "metadata": {},
   "outputs": [],
   "source": [
    "cp = ModelCheckpoint('model/model1.keras', save_best_only = True)"
   ]
  },
  {
   "cell_type": "markdown",
   "id": "d77f13ca-75ed-44ed-b7e0-9dcce4f55020",
   "metadata": {},
   "source": [
    "**Train the model** with your training data, using validation data to track performance."
   ]
  },
  {
   "cell_type": "code",
   "execution_count": 64,
   "id": "c7661aab-6131-41cd-af75-ecf9ad788ca1",
   "metadata": {},
   "outputs": [
    {
     "name": "stdout",
     "output_type": "stream",
     "text": [
      "Epoch 1/15\n",
      "\u001b[1m11530/11530\u001b[0m \u001b[32m━━━━━━━━━━━━━━━━━━━━\u001b[0m\u001b[37m\u001b[0m \u001b[1m95s\u001b[0m 8ms/step - loss: 0.0013 - mae: 0.0170 - val_loss: 0.0521 - val_mae: 0.1978\n",
      "Epoch 2/15\n",
      "\u001b[1m11530/11530\u001b[0m \u001b[32m━━━━━━━━━━━━━━━━━━━━\u001b[0m\u001b[37m\u001b[0m \u001b[1m92s\u001b[0m 8ms/step - loss: 4.6418e-05 - mae: 0.0047 - val_loss: 0.0511 - val_mae: 0.1917\n",
      "Epoch 3/15\n",
      "\u001b[1m11530/11530\u001b[0m \u001b[32m━━━━━━━━━━━━━━━━━━━━\u001b[0m\u001b[37m\u001b[0m \u001b[1m91s\u001b[0m 8ms/step - loss: 3.3078e-05 - mae: 0.0037 - val_loss: 0.0576 - val_mae: 0.1982\n",
      "Epoch 4/15\n",
      "\u001b[1m11530/11530\u001b[0m \u001b[32m━━━━━━━━━━━━━━━━━━━━\u001b[0m\u001b[37m\u001b[0m \u001b[1m87s\u001b[0m 8ms/step - loss: 2.7262e-05 - mae: 0.0034 - val_loss: 0.0807 - val_mae: 0.2238\n",
      "Epoch 5/15\n",
      "\u001b[1m11530/11530\u001b[0m \u001b[32m━━━━━━━━━━━━━━━━━━━━\u001b[0m\u001b[37m\u001b[0m \u001b[1m86s\u001b[0m 7ms/step - loss: 1.9410e-05 - mae: 0.0030 - val_loss: 0.1258 - val_mae: 0.2702\n",
      "Epoch 6/15\n",
      "\u001b[1m11530/11530\u001b[0m \u001b[32m━━━━━━━━━━━━━━━━━━━━\u001b[0m\u001b[37m\u001b[0m \u001b[1m86s\u001b[0m 7ms/step - loss: 1.6061e-05 - mae: 0.0027 - val_loss: 0.1277 - val_mae: 0.2660\n",
      "Epoch 7/15\n",
      "\u001b[1m11530/11530\u001b[0m \u001b[32m━━━━━━━━━━━━━━━━━━━━\u001b[0m\u001b[37m\u001b[0m \u001b[1m86s\u001b[0m 7ms/step - loss: 1.3422e-05 - mae: 0.0025 - val_loss: 0.1207 - val_mae: 0.2621\n"
     ]
    }
   ],
   "source": [
    "history = model.fit(\n",
    "    X_train_seq, y_train_seq,\n",
    "    epochs = 15,  # You can adjust this\n",
    "    batch_size = 32,  # Experiment with batch sizes\n",
    "    validation_data=(X_val_seq, y_val_seq),\n",
    "    callbacks=[early_stopping, cp],\n",
    "    verbose=1\n",
    ")"
   ]
  },
  {
   "cell_type": "code",
   "execution_count": 65,
   "id": "3b1c1838-821b-4fca-befe-e44c37d13b96",
   "metadata": {},
   "outputs": [],
   "source": [
    "# Load the best model\n",
    "model = load_model('model/model1.keras')"
   ]
  },
  {
   "cell_type": "markdown",
   "id": "1e3012df-e251-4753-9bbe-3bd57361298e",
   "metadata": {},
   "source": [
    "### 10.4. Evaluate the Model"
   ]
  },
  {
   "cell_type": "markdown",
   "id": "37bde7cc-b5e8-46b3-861d-7770bfddb348",
   "metadata": {},
   "source": [
    "Evaluate the model on the test set to see how well it generalizes."
   ]
  },
  {
   "cell_type": "code",
   "execution_count": 66,
   "id": "d3658811-0904-44f5-b8c1-4a931d5fd6db",
   "metadata": {},
   "outputs": [],
   "source": [
    "def plot_prictions(predictions, actual_values, labels):\n",
    "    # Plot predictions \n",
    "    plt.figure(figsize=(10, 6))\n",
    "    plt.plot(predictions, label = labels[0])\n",
    "    plt.plot(actual_values, label = labels[1])\n",
    "    \n",
    "    plt.xlabel('Time')\n",
    "    plt.ylabel('Value')\n",
    "    plt.title(f'{labels[0]} vs. {labels[1]}')\n",
    "    plt.legend()\n",
    "    plt.grid(True)\n",
    "    plt.show()"
   ]
  },
  {
   "cell_type": "markdown",
   "id": "e1470a11-da49-4d8b-bc0c-0be351ac3354",
   "metadata": {},
   "source": [
    "#### Evaluate with Test Data"
   ]
  },
  {
   "cell_type": "code",
   "execution_count": 82,
   "id": "d55416d2-4f99-4e7c-9896-57c12a4ca376",
   "metadata": {},
   "outputs": [
    {
     "name": "stdout",
     "output_type": "stream",
     "text": [
      "\u001b[1m2471/2471\u001b[0m \u001b[32m━━━━━━━━━━━━━━━━━━━━\u001b[0m\u001b[37m\u001b[0m \u001b[1m7s\u001b[0m 3ms/step\n",
      "Mean Squared Error (MSE): 0.17213798179037357\n",
      "Mean Absolute Error (MAE): 0.41187813368710996\n"
     ]
    }
   ],
   "source": [
    "# Predictions on the test data\n",
    "y_pred_test = model.predict(X_test_seq)\n",
    "\n",
    "# Metrics\n",
    "mse = mean_squared_error(y_test_seq, y_pred_test)\n",
    "mae = mean_absolute_error(y_test_seq, y_pred_test)\n",
    "\n",
    "print(f\"Mean Squared Error (MSE): {mse}\")\n",
    "print(f\"Mean Absolute Error (MAE): {mae}\")"
   ]
  },
  {
   "cell_type": "code",
   "execution_count": 83,
   "id": "f4789e7e-abde-47fc-883f-298a13269b76",
   "metadata": {},
   "outputs": [
    {
     "data": {
      "text/html": [
       "<div>\n",
       "<style scoped>\n",
       "    .dataframe tbody tr th:only-of-type {\n",
       "        vertical-align: middle;\n",
       "    }\n",
       "\n",
       "    .dataframe tbody tr th {\n",
       "        vertical-align: top;\n",
       "    }\n",
       "\n",
       "    .dataframe thead th {\n",
       "        text-align: right;\n",
       "    }\n",
       "</style>\n",
       "<table border=\"1\" class=\"dataframe\">\n",
       "  <thead>\n",
       "    <tr style=\"text-align: right;\">\n",
       "      <th></th>\n",
       "      <th>Test Predictions</th>\n",
       "      <th>Actuals</th>\n",
       "    </tr>\n",
       "  </thead>\n",
       "  <tbody>\n",
       "    <tr>\n",
       "      <th>0</th>\n",
       "      <td>1.277054</td>\n",
       "      <td>1.666921</td>\n",
       "    </tr>\n",
       "    <tr>\n",
       "      <th>1</th>\n",
       "      <td>1.276900</td>\n",
       "      <td>1.667839</td>\n",
       "    </tr>\n",
       "    <tr>\n",
       "      <th>2</th>\n",
       "      <td>1.276747</td>\n",
       "      <td>1.666532</td>\n",
       "    </tr>\n",
       "    <tr>\n",
       "      <th>3</th>\n",
       "      <td>1.277326</td>\n",
       "      <td>1.667178</td>\n",
       "    </tr>\n",
       "    <tr>\n",
       "      <th>4</th>\n",
       "      <td>1.276809</td>\n",
       "      <td>1.665447</td>\n",
       "    </tr>\n",
       "    <tr>\n",
       "      <th>...</th>\n",
       "      <td>...</td>\n",
       "      <td>...</td>\n",
       "    </tr>\n",
       "    <tr>\n",
       "      <th>79039</th>\n",
       "      <td>1.406078</td>\n",
       "      <td>1.882803</td>\n",
       "    </tr>\n",
       "    <tr>\n",
       "      <th>79040</th>\n",
       "      <td>1.408640</td>\n",
       "      <td>1.882802</td>\n",
       "    </tr>\n",
       "    <tr>\n",
       "      <th>79041</th>\n",
       "      <td>1.406983</td>\n",
       "      <td>1.879448</td>\n",
       "    </tr>\n",
       "    <tr>\n",
       "      <th>79042</th>\n",
       "      <td>1.406090</td>\n",
       "      <td>1.878332</td>\n",
       "    </tr>\n",
       "    <tr>\n",
       "      <th>79043</th>\n",
       "      <td>1.406064</td>\n",
       "      <td>1.877244</td>\n",
       "    </tr>\n",
       "  </tbody>\n",
       "</table>\n",
       "<p>79044 rows × 2 columns</p>\n",
       "</div>"
      ],
      "text/plain": [
       "       Test Predictions   Actuals\n",
       "0              1.277054  1.666921\n",
       "1              1.276900  1.667839\n",
       "2              1.276747  1.666532\n",
       "3              1.277326  1.667178\n",
       "4              1.276809  1.665447\n",
       "...                 ...       ...\n",
       "79039          1.406078  1.882803\n",
       "79040          1.408640  1.882802\n",
       "79041          1.406983  1.879448\n",
       "79042          1.406090  1.878332\n",
       "79043          1.406064  1.877244\n",
       "\n",
       "[79044 rows x 2 columns]"
      ]
     },
     "execution_count": 83,
     "metadata": {},
     "output_type": "execute_result"
    }
   ],
   "source": [
    "test_pred = y_pred_test.flatten()\n",
    "y_pred_test = y_test_seq.flatten()\n",
    "\n",
    "test_results = pd.DataFrame(data = {'Test Predictions': test_pred, 'Actuals': y_pred_test})\n",
    "test_results"
   ]
  },
  {
   "cell_type": "code",
   "execution_count": 84,
   "id": "55c3b28d-2473-4962-8347-7a6e9dfc5d2b",
   "metadata": {},
   "outputs": [
    {
     "data": {
      "image/png": "[encoded data removed]",
      "text/plain": [
       "<Figure size 1000x600 with 1 Axes>"
      ]
     },
     "metadata": {},
     "output_type": "display_data"
    }
   ],
   "source": [
    "# Plot the predictions\n",
    "labels = ['Test Predictions', 'Actual Test Values']\n",
    "plot_prictions(test_results['Test Predictions'], test_results['Actuals'], labels)"
   ]
  },
  {
   "cell_type": "markdown",
   "id": "638db672-204e-43fb-8a45-5df3a13be01a",
   "metadata": {},
   "source": [
    "#### Evaluate with Validate Data"
   ]
  },
  {
   "cell_type": "code",
   "execution_count": 70,
   "id": "36bbff42-aa4f-4491-88e4-b5d11e51b6d1",
   "metadata": {},
   "outputs": [
    {
     "name": "stdout",
     "output_type": "stream",
     "text": [
      "\u001b[1m2471/2471\u001b[0m \u001b[32m━━━━━━━━━━━━━━━━━━━━\u001b[0m\u001b[37m\u001b[0m \u001b[1m6s\u001b[0m 3ms/step\n",
      "Mean Squared Error (MSE): 0.051081848631163725\n",
      "Mean Absolute Error (MAE): 0.1916577434501327\n"
     ]
    }
   ],
   "source": [
    "# Predictions on the test data\n",
    "y_pred_val = model.predict(X_val_seq)\n",
    "\n",
    "# Metrics\n",
    "mse = mean_squared_error(y_val_seq, y_pred_val)\n",
    "mae = mean_absolute_error(y_val_seq, y_pred_val)\n",
    "\n",
    "print(f\"Mean Squared Error (MSE): {mse}\")\n",
    "print(f\"Mean Absolute Error (MAE): {mae}\")"
   ]
  },
  {
   "cell_type": "code",
   "execution_count": 71,
   "id": "873538be-205d-49d5-a00b-3b2110d85d90",
   "metadata": {},
   "outputs": [
    {
     "data": {
      "text/html": [
       "<div>\n",
       "<style scoped>\n",
       "    .dataframe tbody tr th:only-of-type {\n",
       "        vertical-align: middle;\n",
       "    }\n",
       "\n",
       "    .dataframe tbody tr th {\n",
       "        vertical-align: top;\n",
       "    }\n",
       "\n",
       "    .dataframe thead th {\n",
       "        text-align: right;\n",
       "    }\n",
       "</style>\n",
       "<table border=\"1\" class=\"dataframe\">\n",
       "  <thead>\n",
       "    <tr style=\"text-align: right;\">\n",
       "      <th></th>\n",
       "      <th>Test Predictions</th>\n",
       "      <th>Actuals</th>\n",
       "    </tr>\n",
       "  </thead>\n",
       "  <tbody>\n",
       "    <tr>\n",
       "      <th>0</th>\n",
       "      <td>0.587514</td>\n",
       "      <td>0.658219</td>\n",
       "    </tr>\n",
       "    <tr>\n",
       "      <th>1</th>\n",
       "      <td>0.587171</td>\n",
       "      <td>0.658095</td>\n",
       "    </tr>\n",
       "    <tr>\n",
       "      <th>2</th>\n",
       "      <td>0.587111</td>\n",
       "      <td>0.658309</td>\n",
       "    </tr>\n",
       "    <tr>\n",
       "      <th>3</th>\n",
       "      <td>0.586704</td>\n",
       "      <td>0.658571</td>\n",
       "    </tr>\n",
       "    <tr>\n",
       "      <th>4</th>\n",
       "      <td>0.587185</td>\n",
       "      <td>0.659209</td>\n",
       "    </tr>\n",
       "    <tr>\n",
       "      <th>...</th>\n",
       "      <td>...</td>\n",
       "      <td>...</td>\n",
       "    </tr>\n",
       "    <tr>\n",
       "      <th>79038</th>\n",
       "      <td>1.279175</td>\n",
       "      <td>1.675015</td>\n",
       "    </tr>\n",
       "    <tr>\n",
       "      <th>79039</th>\n",
       "      <td>1.279493</td>\n",
       "      <td>1.674424</td>\n",
       "    </tr>\n",
       "    <tr>\n",
       "      <th>79040</th>\n",
       "      <td>1.279243</td>\n",
       "      <td>1.673578</td>\n",
       "    </tr>\n",
       "    <tr>\n",
       "      <th>79041</th>\n",
       "      <td>1.279424</td>\n",
       "      <td>1.672790</td>\n",
       "    </tr>\n",
       "    <tr>\n",
       "      <th>79042</th>\n",
       "      <td>1.279093</td>\n",
       "      <td>1.671111</td>\n",
       "    </tr>\n",
       "  </tbody>\n",
       "</table>\n",
       "<p>79043 rows × 2 columns</p>\n",
       "</div>"
      ],
      "text/plain": [
       "       Test Predictions   Actuals\n",
       "0              0.587514  0.658219\n",
       "1              0.587171  0.658095\n",
       "2              0.587111  0.658309\n",
       "3              0.586704  0.658571\n",
       "4              0.587185  0.659209\n",
       "...                 ...       ...\n",
       "79038          1.279175  1.675015\n",
       "79039          1.279493  1.674424\n",
       "79040          1.279243  1.673578\n",
       "79041          1.279424  1.672790\n",
       "79042          1.279093  1.671111\n",
       "\n",
       "[79043 rows x 2 columns]"
      ]
     },
     "execution_count": 71,
     "metadata": {},
     "output_type": "execute_result"
    }
   ],
   "source": [
    "val_pred = y_pred_val.flatten()\n",
    "y_pred_val = y_val_seq.flatten()\n",
    "\n",
    "val_results = pd.DataFrame(data = {'Test Predictions': val_pred, 'Actuals': y_pred_val})\n",
    "val_results"
   ]
  },
  {
   "cell_type": "code",
   "execution_count": 81,
   "id": "7e952db6-69ab-4f9b-9c7d-90a2bb68ad10",
   "metadata": {},
   "outputs": [
    {
     "data": {
      "image/png": "[encoded data removed]",
      "text/plain": [
       "<Figure size 1000x600 with 1 Axes>"
      ]
     },
     "metadata": {},
     "output_type": "display_data"
    }
   ],
   "source": [
    "# Plot the predictions\n",
    "labels = ['Validate Predictions', 'Actual Validate Values']\n",
    "plot_prictions(val_results['Test Predictions'], val_results['Actuals'], labels)"
   ]
  },
  {
   "cell_type": "markdown",
   "id": "b5261808-7b40-48ac-add4-27b9c4a77338",
   "metadata": {},
   "source": [
    "#### Evaluate with Train Data"
   ]
  },
  {
   "cell_type": "code",
   "execution_count": 73,
   "id": "ac9b5c86-5daf-46c8-a896-ad6df81a60e3",
   "metadata": {},
   "outputs": [
    {
     "name": "stdout",
     "output_type": "stream",
     "text": [
      "\u001b[1m11530/11530\u001b[0m \u001b[32m━━━━━━━━━━━━━━━━━━━━\u001b[0m\u001b[37m\u001b[0m \u001b[1m31s\u001b[0m 3ms/step\n",
      "Mean Squared Error (MSE): 0.00629858072680632\n",
      "Mean Absolute Error (MAE): 0.07184304178178438\n"
     ]
    }
   ],
   "source": [
    "# Predictions on the Train Data\n",
    "y_pred_train = model.predict(X_train_seq)\n",
    "\n",
    "# Metrics\n",
    "mse_train = mean_squared_error(y_train_seq, y_pred_train)\n",
    "mae_train = mean_absolute_error(y_train_seq, y_pred_train)\n",
    "\n",
    "print(f\"Mean Squared Error (MSE): {mse_train}\")\n",
    "print(f\"Mean Absolute Error (MAE): {mae_train}\")"
   ]
  },
  {
   "cell_type": "code",
   "execution_count": 74,
   "id": "3387793a-f942-4cfa-b5be-adb30479ff60",
   "metadata": {
    "scrolled": true
   },
   "outputs": [
    {
     "data": {
      "text/html": [
       "<div>\n",
       "<style scoped>\n",
       "    .dataframe tbody tr th:only-of-type {\n",
       "        vertical-align: middle;\n",
       "    }\n",
       "\n",
       "    .dataframe tbody tr th {\n",
       "        vertical-align: top;\n",
       "    }\n",
       "\n",
       "    .dataframe thead th {\n",
       "        text-align: right;\n",
       "    }\n",
       "</style>\n",
       "<table border=\"1\" class=\"dataframe\">\n",
       "  <thead>\n",
       "    <tr style=\"text-align: right;\">\n",
       "      <th></th>\n",
       "      <th>Train Predictions</th>\n",
       "      <th>Actuals</th>\n",
       "    </tr>\n",
       "  </thead>\n",
       "  <tbody>\n",
       "    <tr>\n",
       "      <th>0</th>\n",
       "      <td>0.038458</td>\n",
       "      <td>0.013504</td>\n",
       "    </tr>\n",
       "    <tr>\n",
       "      <th>1</th>\n",
       "      <td>0.038200</td>\n",
       "      <td>0.013291</td>\n",
       "    </tr>\n",
       "    <tr>\n",
       "      <th>2</th>\n",
       "      <td>0.037957</td>\n",
       "      <td>0.013084</td>\n",
       "    </tr>\n",
       "    <tr>\n",
       "      <th>3</th>\n",
       "      <td>0.037944</td>\n",
       "      <td>0.013101</td>\n",
       "    </tr>\n",
       "    <tr>\n",
       "      <th>4</th>\n",
       "      <td>0.037427</td>\n",
       "      <td>0.013065</td>\n",
       "    </tr>\n",
       "    <tr>\n",
       "      <th>...</th>\n",
       "      <td>...</td>\n",
       "      <td>...</td>\n",
       "    </tr>\n",
       "    <tr>\n",
       "      <th>368950</th>\n",
       "      <td>0.588123</td>\n",
       "      <td>0.658896</td>\n",
       "    </tr>\n",
       "    <tr>\n",
       "      <th>368951</th>\n",
       "      <td>0.588671</td>\n",
       "      <td>0.658942</td>\n",
       "    </tr>\n",
       "    <tr>\n",
       "      <th>368952</th>\n",
       "      <td>0.588474</td>\n",
       "      <td>0.658691</td>\n",
       "    </tr>\n",
       "    <tr>\n",
       "      <th>368953</th>\n",
       "      <td>0.588485</td>\n",
       "      <td>0.658944</td>\n",
       "    </tr>\n",
       "    <tr>\n",
       "      <th>368954</th>\n",
       "      <td>0.588077</td>\n",
       "      <td>0.658406</td>\n",
       "    </tr>\n",
       "  </tbody>\n",
       "</table>\n",
       "<p>368955 rows × 2 columns</p>\n",
       "</div>"
      ],
      "text/plain": [
       "        Train Predictions   Actuals\n",
       "0                0.038458  0.013504\n",
       "1                0.038200  0.013291\n",
       "2                0.037957  0.013084\n",
       "3                0.037944  0.013101\n",
       "4                0.037427  0.013065\n",
       "...                   ...       ...\n",
       "368950           0.588123  0.658896\n",
       "368951           0.588671  0.658942\n",
       "368952           0.588474  0.658691\n",
       "368953           0.588485  0.658944\n",
       "368954           0.588077  0.658406\n",
       "\n",
       "[368955 rows x 2 columns]"
      ]
     },
     "execution_count": 74,
     "metadata": {},
     "output_type": "execute_result"
    }
   ],
   "source": [
    "train_pred = y_pred_train.flatten()\n",
    "y_pred_train = y_train_seq.flatten()\n",
    "\n",
    "train_results = pd.DataFrame(data = {'Train Predictions': train_pred, 'Actuals': y_pred_train})\n",
    "train_results"
   ]
  },
  {
   "cell_type": "code",
   "execution_count": 80,
   "id": "8b1928de-34f6-47bd-9842-cbc29fe57eaf",
   "metadata": {},
   "outputs": [
    {
     "data": {
      "image/png": "[encoded data removed]",
      "text/plain": [
       "<Figure size 1000x600 with 1 Axes>"
      ]
     },
     "metadata": {},
     "output_type": "display_data"
    }
   ],
   "source": [
    "# Plot the predictions\n",
    "labels = ['Train Predictions', 'Actual Train Values']\n",
    "plot_prictions(train_results['Train Predictions'], train_results['Actuals'], labels)"
   ]
  },
  {
   "cell_type": "markdown",
   "id": "2d390b1a-73e6-43b5-b930-79d52da33f7a",
   "metadata": {},
   "source": [
    "### 10.5. Forecast Future Prices"
   ]
  },
  {
   "cell_type": "markdown",
   "id": "c62e9389-7b04-46a5-b22e-a6307b63476e",
   "metadata": {},
   "source": [
    "Once the model is trained, you can use it to forecast future prices."
   ]
  },
  {
   "cell_type": "code",
   "execution_count": 76,
   "id": "49f15fef-8eaf-4a9e-9e61-d708a24925df",
   "metadata": {},
   "outputs": [
    {
     "name": "stdout",
     "output_type": "stream",
     "text": [
      "\u001b[1m1/1\u001b[0m \u001b[32m━━━━━━━━━━━━━━━━━━━━\u001b[0m\u001b[37m\u001b[0m \u001b[1m0s\u001b[0m 40ms/step\n",
      "Predicted next price: 1.4060639142990112\n",
      "Predicted next price (original scale): 87736.09280680298\n"
     ]
    }
   ],
   "source": [
    "# Prepare a sequence of the last 24 hours\n",
    "latest_sequence = X_test_seq[-1].reshape(1, sequence_length, num_features)\n",
    "\n",
    "# Predict the next hour's price\n",
    "next_price_scaled = model.predict(latest_sequence)\n",
    "print(f\"Predicted next price: {next_price_scaled[0][0]}\")\n",
    "\n",
    "# Prepare the input with the same number of features\n",
    "predicted_full_features = np.zeros((1, 55))  # Assuming 55 features in the original scaler\n",
    "predicted_full_features[:, -1] = next_price_scaled[0][0]  # Insert the predicted price\n",
    "\n",
    "# Inverse transform\n",
    "next_price_original_full = scaler.inverse_transform(predicted_full_features)\n",
    "\n",
    "# Extract the original price\n",
    "next_price_original = next_price_original_full[0, -1]\n",
    "print(f\"Predicted next price (original scale): {next_price_original}\")"
   ]
  },
  {
   "cell_type": "markdown",
   "id": "85ea9460-c07a-4134-9d6c-2ba2157e0323",
   "metadata": {},
   "source": [
    "Here’s a step-by-step guide on how to use your prepared dataset for training a neural network and tuning hyperparameters:\n",
    "\n",
    "---\n",
    "### **Step 6: Hyperparameter Tuning**\n",
    "To tune hyperparameters, you can use tools like **Keras Tuner** or manually adjust parameters in a structured way.\n",
    "\n",
    "### Option 1: Grid Search (Manual)\n",
    "Manually try different combinations of hyperparameters:\n",
    "- **Number of filters in CNN (e.g., 16, 32, 64).**\n",
    "- **LSTM units (e.g., 32, 64, 128).**\n",
    "- **Batch size (e.g., 16, 32, 64).**\n",
    "- **Learning rate (e.g., 0.001, 0.0001).**\n",
    "- **Dropout rate (e.g., 0.2, 0.3, 0.4).**\n",
    "\n",
    "Example:\n",
    "```python\n",
    "for filters in [16, 32, 64]:\n",
    "    for lstm_units in [32, 64, 128]:\n",
    "        model = build_model(sequence_length, num_features)\n",
    "        print(f\"Training with filters={filters}, lstm_units={lstm_units}\")\n",
    "        model.fit(X_train, y_train, validation_data=(X_val, y_val), epochs=20, batch_size=32)\n",
    "```\n",
    "\n",
    "---\n",
    "\n",
    "### Option 2: Keras Tuner (Automated)\n",
    "Use **Keras Tuner** to automate hyperparameter tuning.\n",
    "\n",
    "```python\n",
    "import keras_tuner as kt\n",
    "\n",
    "# Define a model-building function for Keras Tuner\n",
    "def build_tuned_model(hp):\n",
    "    input_layer = Input(shape=(sequence_length, num_features))\n",
    "    \n",
    "    # CNN\n",
    "    cnn_layer = Conv1D(\n",
    "        filters=hp.Int('filters', min_value=16, max_value=64, step=16), \n",
    "        kernel_size=3, activation='relu'\n",
    "    )(input_layer)\n",
    "    cnn_layer = MaxPooling1D(pool_size=2)(cnn_layer)\n",
    "    cnn_layer = Flatten()(cnn_layer)\n",
    "    \n",
    "    # LSTM\n",
    "    lstm_layer = LSTM(\n",
    "        units=hp.Int('lstm_units', min_value=32, max_value=128, step=32), \n",
    "        return_sequences=False\n",
    "    )(input_layer)\n",
    "    \n",
    "    # Combine\n",
    "    combined = Concatenate()([cnn_layer, lstm_layer])\n",
    "    dense_layer = Dense(\n",
    "        units=hp.Int('dense_units', min_value=64, max_value=256, step=64), \n",
    "        activation='relu'\n",
    "    )(combined)\n",
    "    dense_layer = Dropout(hp.Float('dropout', 0.2, 0.5, step=0.1))(dense_layer)\n",
    "    output_layer = Dense(1, activation='linear')(dense_layer)\n",
    "    \n",
    "    model = tf.keras.Model(inputs=input_layer, outputs=output_layer)\n",
    "    model.compile(\n",
    "        optimizer=tf.keras.optimizers.Adam(hp.Choice('learning_rate', [0.001, 0.0005, 0.0001])),\n",
    "        loss='mse',\n",
    "        metrics=['mae']\n",
    "    )\n",
    "    return model\n",
    "\n",
    "# Initialize the tuner\n",
    "tuner = kt.RandomSearch(\n",
    "    build_tuned_model,\n",
    "    objective='val_loss',\n",
    "    max_trials=10,\n",
    "    executions_per_trial=1,\n",
    "    directory='my_tuning_dir',\n",
    "    project_name='bitcoin_forecasting'\n",
    ")\n",
    "\n",
    "# Run the search\n",
    "tuner.search(X_train, y_train, validation_data=(X_val, y_val), epochs=20, batch_size=32)\n",
    "\n",
    "# Get the best model\n",
    "best_hps = tuner.get_best_hyperparameters(num_trials=1)[0]\n",
    "print(f\"Best hyperparameters: {best_hps.values}\")\n",
    "```\n",
    "\n",
    "---\n",
    "\n",
    "### **Step 7: Save and Load the Model**\n",
    "Save the best model for future use.\n",
    "\n",
    "```python\n",
    "# Save model\n",
    "model.save('bitcoin_price_model.h5')\n",
    "\n",
    "# Load model\n",
    "from tensorflow.keras.models import load_model\n",
    "model = load_model('bitcoin_price_model.h5')\n",
    "```\n",
    "\n",
    "---\n",
    "\n",
    "### **Step 8: Forecast Future Prices**\n",
    "Once the model is trained, you can use it to forecast future prices.\n",
    "\n",
    "```python\n",
    "# Prepare a sequence of the last 24 hours\n",
    "latest_sequence = X_test[-1].reshape(1, sequence_length, num_features)\n",
    "\n",
    "# Predict the next hour's price\n",
    "next_price = model.predict(latest_sequence)\n",
    "print(f\"Predicted next price: {next_price[0][0]}\")\n",
    "```\n",
    "\n",
    "---\n",
    "\n",
    "This approach allows you to train, evaluate, and tune your model effectively. Let me know if you need more help!"
   ]
  },
  {
   "cell_type": "code",
   "execution_count": null,
   "id": "09f8c5d5-ea1d-4160-8594-ea1dffe3c4db",
   "metadata": {},
   "outputs": [],
   "source": []
  }
 ],
 "metadata": {
  "kernelspec": {
   "display_name": "Python 3 (ipykernel)",
   "language": "python",
   "name": "python3"
  },
  "language_info": {
   "codemirror_mode": {
    "name": "ipython",
    "version": 3
   },
   "file_extension": ".py",
   "mimetype": "text/x-python",
   "name": "python",
   "nbconvert_exporter": "python",
   "pygments_lexer": "ipython3",
   "version": "3.11.9"
  }
 },
 "nbformat": 4,
 "nbformat_minor": 5
}
